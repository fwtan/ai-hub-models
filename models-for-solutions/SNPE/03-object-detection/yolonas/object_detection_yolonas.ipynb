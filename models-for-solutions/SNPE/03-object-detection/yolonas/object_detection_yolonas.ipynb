{
 "cells": [
  {
   "cell_type": "markdown",
   "id": "039733ac-47fb-4ab3-a842-1013a2e1dea3",
   "metadata": {},
   "source": [
    "# Setting Up All Artifacts details"
   ]
  },
  {
   "cell_type": "code",
   "execution_count": null,
   "id": "ca28e659-dd04-4f14-9a04-c8fbf3f0e33a",
   "metadata": {},
   "outputs": [],
   "source": [
    "## Give appropriate permission to the directory \"FOLDER_WITH_ARTIFACTS\" you are working with\n",
    "import os\n",
    "os.environ['SNPE_ROOT']=\"/local/mnt/workspace/aditya/qaisw-v2.15.1.230926150623_62883\"#set up your snpe path here.\n",
    "os.environ['RAW_FILE_FOLDER']=\"raw\"\n",
    "os.environ['DLC32']=\"models/yolo_nas_fp32.dlc\"\n",
    "os.environ['DLC8']=\"models/yolo_nas_w8a8.dlc\"\n",
    "os.environ['TARGET_INPUT_LIST']=\"input.txt\"\n",
    "os.environ['ONDEVICE_FOLDER']=\"yolonas\"\n",
    "os.environ['DEVICE_HOST']=\"localhost\"\n",
    "os.environ['DEVICE_ID']=\"2dce6316\" #change with your device-id. Use command \"adb devices\" to get devices names.\n",
    "os.environ['SNPE_TARGET_ARCH']=\"aarch64-android\"\n",
    "os.environ['SNPE_TARGET_STL']=\"libc++_shared.so\""
   ]
  },
  {
   "cell_type": "code",
   "execution_count": null,
   "id": "1ea7c3bb-9f35-4d1c-84b7-c5de30ec895e",
   "metadata": {},
   "outputs": [],
   "source": [
    "## Note- Use python3.8 or above for generating onnx\n",
    "!pip install super-gradients==3.1.2\n",
    "import torch\n",
    "from super_gradients.training import models\n",
    "from super_gradients.common.object_names import Models\n",
    "import cv2\n",
    "import numpy as np\n",
    "import os"
   ]
  },
  {
   "cell_type": "markdown",
   "id": "85db567b-85d4-4565-9eb5-c29cde94996a",
   "metadata": {},
   "source": [
    "## Getting The dataset"
   ]
  },
  {
   "cell_type": "code",
   "execution_count": null,
   "id": "fceaa07b-a67f-41df-85f4-f5b0c29effde",
   "metadata": {},
   "outputs": [],
   "source": [
    "# User needs to download the dataset of their choice. "
   ]
  },
  {
   "cell_type": "markdown",
   "id": "1228d5e0-beb1-4033-be62-165dcdd3bd02",
   "metadata": {},
   "source": [
    "## Getting the ONNX Model"
   ]
  },
  {
   "cell_type": "code",
   "execution_count": null,
   "id": "dadb32d9-064e-428e-bb3e-270765df79da",
   "metadata": {},
   "outputs": [],
   "source": [
    "os.makedirs('models', exist_ok=True)"
   ]
  },
  {
   "cell_type": "code",
   "execution_count": null,
   "id": "c6522d80-61d2-47df-a84a-69cf802dc1f3",
   "metadata": {},
   "outputs": [],
   "source": [
    "model = models.get(Models.YOLO_NAS_S, pretrained_weights=\"coco\")\n",
    "# Prpare model for conversion\n",
    "# Input size is in format of [Batch x Channels x Width x Height] where 640 is the standard dataset dimensions\n",
    "model.eval()\n",
    "model.prep_model_for_conversion(input_size=[1, 3, 320, 320])\n",
    "# Create dummy_input\n",
    "dummy_input = torch.randn([1, 3, 320, 320], device=\"cpu\")\n",
    "# Convert model to onnx\n",
    "torch.onnx.export(model, dummy_input, \"models/yolo_nas_s.onnx\", opset_version=11)"
   ]
  },
  {
   "cell_type": "markdown",
   "id": "c672610a-f036-4fab-8837-2d83dbe051b7",
   "metadata": {},
   "source": [
    "#### Getting the FP32 Model"
   ]
  },
  {
   "cell_type": "code",
   "execution_count": null,
   "id": "09ce77df-5e7c-4bcc-896c-023eec610993",
   "metadata": {},
   "outputs": [],
   "source": [
    "%%bash\n",
    "source $SNPE_ROOT/bin/envsetup.sh\n",
    "snpe-onnx-to-dlc -i models/yolo_nas_s.onnx -o models/yolo_nas_fp32.dlc"
   ]
  },
  {
   "cell_type": "markdown",
   "id": "5a9e015e-d724-4178-9630-c74c263d0a7a",
   "metadata": {},
   "source": [
    "## Preprocessing"
   ]
  },
  {
   "cell_type": "code",
   "execution_count": null,
   "id": "7339803b-968a-403e-b914-0c3825c81605",
   "metadata": {},
   "outputs": [],
   "source": [
    "def preprocess(original_image):\n",
    "    resized_image = cv2.resize(original_image, (320, 320))\n",
    "    resized_image = resized_image/255\n",
    "    return resized_image\n",
    "##Please test download and give the path here\n",
    "dataset_path = \"val2017/\"\n",
    "!mkdir -p rawYoloNAS\n",
    "filenames=[]\n",
    "for path in os.listdir(dataset_path):\n",
    "    # check if current path is a file\n",
    "    if os.path.isfile(os.path.join(dataset_path, path)):\n",
    "        filenames.append(os.path.join(dataset_path, path))\n",
    "for filename in filenames:\n",
    "    original_image = cv2.imread(filename)\n",
    "    img = preprocess(original_image)\n",
    "    img = img.astype(np.float32)\n",
    "    img.tofile(\"raw/\"+filename.split(\"/\")[-1].split(\".\")[0]+\".raw\")"
   ]
  },
  {
   "cell_type": "code",
   "execution_count": null,
   "id": "9acc7241-3049-48b0-bdc3-80df6049d28c",
   "metadata": {},
   "outputs": [],
   "source": [
    "%%bash\n",
    "find raw -name *.raw > input.txt"
   ]
  },
  {
   "cell_type": "markdown",
   "id": "09838622-c04b-4357-b5a6-361f955b4f65",
   "metadata": {},
   "source": [
    "## Quantize the DLC"
   ]
  },
  {
   "cell_type": "code",
   "execution_count": null,
   "id": "918fe137-ea15-461c-9cd0-69ce0480ffb5",
   "metadata": {},
   "outputs": [],
   "source": [
    "%%bash\n",
    "source $SNPE_ROOT/bin/envsetup.sh\n",
    "snpe-dlc-quantize --input_dlc models/yolo_nas_fp32.dlc --input_list input.txt --use_enhanced_quantizer --use_adjusted_weights_quantizer --axis_quant --output_dlc models/yolo_nas_w8a8.dlc"
   ]
  },
  {
   "cell_type": "code",
   "execution_count": null,
   "id": "928a7554-64c1-4000-be34-80e20e8cef22",
   "metadata": {},
   "outputs": [],
   "source": [
    "%%bash\n",
    "adb devices"
   ]
  },
  {
   "cell_type": "code",
   "execution_count": null,
   "id": "752cc7dd-1fea-4204-a3d6-2921b4b4f956",
   "metadata": {},
   "outputs": [],
   "source": [
    "%%bash\n",
    "export DEVICE_SHELL=\"adb -H $DEVICE_HOST -s $DEVICE_ID\"\n",
    "$DEVICE_SHELL shell \"mkdir -p /data/local/tmp/snpeexample/$SNPE_TARGET_ARCH/bin\" && $DEVICE_SHELL shell \"mkdir -p /data/local/tmp/snpeexample/$SNPE_TARGET_ARCH/lib\" && $DEVICE_SHELL shell \"mkdir -p /data/local/tmp/snpeexample/dsp/lib\""
   ]
  },
  {
   "cell_type": "code",
   "execution_count": null,
   "id": "b3e61748-bbf7-4eb7-b4bb-55dd104b4a13",
   "metadata": {},
   "outputs": [],
   "source": [
    "%%bash\n",
    "export DEVICE_SHELL=\"adb -H $DEVICE_HOST -s $DEVICE_ID\"\n",
    "$DEVICE_SHELL push $SNPE_ROOT/lib/$SNPE_TARGET_ARCH/$SNPE_TARGET_STL /data/local/tmp/snpeexample/$SNPE_TARGET_ARCH/lib\n",
    "$DEVICE_SHELL push $SNPE_ROOT/bin/$SNPE_TARGET_ARCH/snpe-net-run /data/local/tmp/snpeexample/$SNPE_TARGET_ARCH/bin\n",
    "$DEVICE_SHELL push $SNPE_ROOT/lib/hexagon-v75/unsigned/*.so /data/local/tmp/snpeexample/dsp/lib\n",
    "$DEVICE_SHELL push $SNPE_ROOT/lib/$SNPE_TARGET_ARCH/*.so /data/local/tmp/snpeexample/$SNPE_TARGET_ARCH/lib"
   ]
  },
  {
   "cell_type": "code",
   "execution_count": null,
   "id": "6abb9a55-b105-4c54-ae1e-fc26e38cb2c7",
   "metadata": {},
   "outputs": [],
   "source": [
    "%%bash\n",
    "export DEVICE_SHELL=\"adb -H $DEVICE_HOST -s $DEVICE_ID\"\n",
    "$DEVICE_SHELL shell \"mkdir -p /data/local/tmp/$ONDEVICE_FOLDER\""
   ]
  },
  {
   "cell_type": "code",
   "execution_count": null,
   "id": "2ec4921c-3092-4759-8154-268744fa8979",
   "metadata": {},
   "outputs": [],
   "source": [
    "%%bash\n",
    "export DEVICE_SHELL=\"adb -H $DEVICE_HOST -s $DEVICE_ID\"\n",
    "$DEVICE_SHELL push $DLC32 /data/local/tmp/$ONDEVICE_FOLDER\n",
    "$DEVICE_SHELL push $DLC8 /data/local/tmp/$ONDEVICE_FOLDER\n",
    "$DEVICE_SHELL push $RAW_FILE_FOLDER /data/local/tmp/$ONDEVICE_FOLDER\n",
    "$DEVICE_SHELL push $TARGET_INPUT_LIST /data/local/tmp/$ONDEVICE_FOLDER"
   ]
  },
  {
   "cell_type": "code",
   "execution_count": null,
   "id": "fe662871-0e92-4b8a-b6db-2c837af60b75",
   "metadata": {},
   "outputs": [],
   "source": [
    "%%bash\n",
    "export DEVICE_SHELL=\"adb -H $DEVICE_HOST -s $DEVICE_ID\"\n",
    "$DEVICE_SHELL shell\n",
    "export LD_LIBRARY_PATH=$LD_LIBRARY_PATH:/data/local/tmp/snpeexample/aarch64-android/lib\n",
    "export PATH=$PATH:/data/local/tmp/snpeexample/aarch64-android/bin\n",
    "export OUTPUT_FOLDER=OUTPUT_8b_DSP\n",
    "export OUTPUT_DLC_QUANTIZED8=yolo_nas_w8a8.dlc\n",
    "export ADSP_LIBRARY_PATH=\"/data/local/tmp/snpeexample/dsp/lib;/system/lib/rfsa/adsp;/system/vendor/lib/rfsa/adsp;/dsp\"\n",
    "export ONDEVICE_FOLDER=\"yolonas\"\n",
    "cd /data/local/tmp/$ONDEVICE_FOLDER &&\n",
    "snpe-net-run --container $OUTPUT_DLC_QUANTIZED8 --input_list input.txt --set_output_tensors 885,877 --output_dir $OUTPUT_FOLDER --use_dsp"
   ]
  },
  {
   "cell_type": "code",
   "execution_count": null,
   "id": "7fd0a0d3-7d37-43d3-9913-a42979e89ba2",
   "metadata": {},
   "outputs": [],
   "source": [
    "%%bash\n",
    "export DEVICE_SHELL=\"adb -H $DEVICE_HOST -s $DEVICE_ID\"\n",
    "$DEVICE_SHELL shell\n",
    "export LD_LIBRARY_PATH=$LD_LIBRARY_PATH:/data/local/tmp/snpeexample/aarch64-android/lib\n",
    "export PATH=$PATH:/data/local/tmp/snpeexample/aarch64-android/bin\n",
    "export OUTPUT_FOLDER=OUTPUT_32b_CPU\n",
    "export OUTPUT_DLC_32=yolo_nas_fp32.dlc\n",
    "export ONDEVICE_FOLDER=\"yolonas\"\n",
    "cd /data/local/tmp/$ONDEVICE_FOLDER &&\n",
    "snpe-net-run --container $OUTPUT_DLC_32 --input_list input.txt --set_output_tensors 885,877 --output_dir $OUTPUT_FOLDER"
   ]
  },
  {
   "cell_type": "code",
   "execution_count": null,
   "id": "8a55bac6-d466-4e93-b890-8e8819a2873a",
   "metadata": {},
   "outputs": [],
   "source": [
    "os.makedirs('output',exist_ok=True)"
   ]
  },
  {
   "cell_type": "markdown",
   "id": "1b73bf4a-e8d3-4205-b722-fa7a3bc3733d",
   "metadata": {},
   "source": [
    "## Pull output from device"
   ]
  },
  {
   "cell_type": "code",
   "execution_count": null,
   "id": "fe1ffbb7-63e9-4072-a9cf-b334b1f27573",
   "metadata": {},
   "outputs": [],
   "source": [
    "%%bash\n",
    "export DEVICE_SHELL=\"adb -H $DEVICE_HOST -s $DEVICE_ID\"\n",
    "$DEVICE_SHELL pull /data/local/tmp/$ONDEVICE_FOLDER/OUTPUT_8b_DSP output/OUTPUT_8b_DSP\n",
    "$DEVICE_SHELL pull /data/local/tmp/$ONDEVICE_FOLDER/OUTPUT_32b_CPU output/OUTPUT_32b_CPU"
   ]
  },
  {
   "cell_type": "code",
   "execution_count": null,
   "id": "f33badd2-2ac5-435e-9796-853b74deb570",
   "metadata": {},
   "outputs": [],
   "source": [
    "def ImageNames():\n",
    "    inputlist = open('input.txt', 'r')\n",
    "    Lines = inputlist.readlines()\n",
    "    count = 0\n",
    "    imageList = []\n",
    "    for line in Lines:\n",
    "        name = line.split(\"/\",1)[1]\n",
    "        name = name.split('.')[0]\n",
    "        imageList.append(name)\n",
    "        count += 1\n",
    "    return imageList\n",
    "imageList = ImageNames()\n",
    "print((imageList))"
   ]
  },
  {
   "cell_type": "code",
   "execution_count": null,
   "id": "4323ab83-b567-4237-9583-a2226c78737e",
   "metadata": {},
   "outputs": [],
   "source": [
    "label2class = {'0': 'person', '1': 'bicycle', '2': 'car', '3': 'motorcycle', '4': 'airplane', '5': 'bus', \n",
    "               '6': 'train', '7': 'truck', '8': 'boat', '9': 'traffic', '10': 'fire', '11': 'stop', '12': 'parking', \n",
    "               '13': 'bench', '14': 'bird', '15': 'cat', '16': 'dog', '17': 'horse', '18': 'sheep', '19': 'cow', \n",
    "               '20': 'elephant', '21': 'bear', '22': 'zebra', '23': 'giraffe', '24': 'backpack', '25': 'umbrella', \n",
    "               '26': 'handbag', '27': 'tie', '28': 'suitcase', '29': 'frisbee', '30': 'skis', '31': 'snowboard', \n",
    "               '32': 'sports', '33': 'kite', '34': 'baseball', '35': 'baseball', '36': 'skateboard', '37': 'surfboard', \n",
    "               '38': 'tennis', '39': 'bottle', '40': 'wine', '41': 'cup', '42': 'fork', '43': 'knife', '44': 'spoon', \n",
    "               '45': 'bowl', '46': 'banana', '47': 'apple', '48': 'sandwich', '49': 'orange', '50': 'broccoli', \n",
    "               '51': 'carrot', '52': 'hot', '53': 'pizza', '54': 'donut', '55': 'cake', '56': 'chair', '57': 'couch', \n",
    "               '58': 'potted', '59': 'bed', '60': 'dining', '61': 'toilet', '62': 'tv', '63': 'laptop', '64': 'mouse', \n",
    "               '65': 'remote', '66': 'keyboard', '67': 'cell', '68': 'microwave', '69': 'oven', '70': 'toaster', \n",
    "               '71': 'sink', '72': 'refrigerator', '73': 'book', '74': 'clock', '75': 'vase', '76': 'scissors', \n",
    "               '77': 'teddy', '78': 'hair', '79': 'toothbrush'}"
   ]
  },
  {
   "cell_type": "markdown",
   "id": "a53dfe36-f8ca-4c2a-ab50-e2fbeeb1e06d",
   "metadata": {},
   "source": [
    "## Post Processing "
   ]
  },
  {
   "cell_type": "code",
   "execution_count": null,
   "id": "97cad2e6-0a63-48bf-b257-45631ab6b06e",
   "metadata": {},
   "outputs": [],
   "source": [
    "from matplotlib import pyplot as plt\n",
    "import cv2.dnn\n",
    "import numpy as np\n",
    "colors = np.random.uniform(0, 255, size=(len(list(label2class.values())), 3))\n",
    "def draw_bounding_box(img, class_id, confidence, x, y, x_plus_w, y_plus_h):\n",
    "    label = f'{label2class[str(class_id)]} ({confidence:.2f})'\n",
    "    color = colors[class_id]\n",
    "    img = cv2.rectangle(img, (x, y), (x_plus_w, y_plus_h), color, 1)\n",
    "    img = cv2.putText(img, label, (x +2, y -10), cv2.FONT_HERSHEY_TRIPLEX, 1, color, 4)\n",
    "    return img"
   ]
  },
  {
   "cell_type": "code",
   "execution_count": null,
   "id": "935cbdd2-6a66-4ede-bb83-0cfd5347aee7",
   "metadata": {},
   "outputs": [],
   "source": [
    "def postProc(filename, output1, output2, out_path):\n",
    "\n",
    "    output1_reshape = output1.reshape(2100,4)\n",
    "    output2_reshape = output2.reshape(2100,80)\n",
    "    output = output2_reshape\n",
    "    \n",
    "    original_image: np.ndarray = cv2.imread(filename)\n",
    "    ratio_1 = original_image.shape[0]/320\n",
    "    ratio_2 = original_image.shape[1]/320\n",
    "    \n",
    "    boxes = []\n",
    "    scores = []\n",
    "    class_ids = []\n",
    "        \n",
    "    for i in range(0, output.shape[0]):\n",
    "        classes_scores = output[i]\n",
    "        (minScore, maxScore, minClassLoc, (x, maxClassIndex)) = cv2.minMaxLoc(classes_scores)\n",
    "        if maxScore >= 0.05:\n",
    "            x = round(output1_reshape[i][0]) ; y = round(output1_reshape[i][1]); \n",
    "            w = round(output1_reshape[i][2]) ; h = round(output1_reshape[i][3]);\n",
    "            \n",
    "            x1, y1 = x, y\n",
    "            x2, y2 = w, h\n",
    "            box = [x1, y1, x2, y2]\n",
    "            boxes.append(box)\n",
    "            scores.append(float(maxScore))\n",
    "            class_ids.append(maxClassIndex)\n",
    "            if(len(boxes)==704) or len(boxes)== 693:\n",
    "                print(\"i = \",i)\n",
    "                print(\"x = \",x)#x1\n",
    "                print(\"y = \",y)#y1\n",
    "                print(\"w = \",w)#x2\n",
    "                print(\"h = \",h)#y2\n",
    "                print(box)\n",
    "    result_boxes = cv2.dnn.NMSBoxes(boxes, scores, 0.20, 0.5, 0.5) #32b CPU\n",
    "    \n",
    "    print(\"result_boxes :: \",result_boxes)\n",
    "    detections = []\n",
    "    img = original_image\n",
    "    for i in range(len(result_boxes)):\n",
    "        index = result_boxes[i]\n",
    "        box = boxes[index]\n",
    "        detection = {\n",
    "            'class_id': class_ids[index],\n",
    "            'class_name': label2class[str(class_ids[index])],\n",
    "            'confidence': scores[index],\n",
    "            'box': box\n",
    "             }\n",
    "        detections.append(detection)\n",
    "        img = draw_bounding_box(original_image, class_ids[index], scores[index], int(box[0]*ratio_2), int(box[1]*ratio_1), int(box[2]*ratio_2), int(box[3]*ratio_1))\n",
    "        print(detection)\n",
    "        print(\"boxcords::\",int(box[0]), int(box[1]), int(box[2]), int(box[3]))\n",
    "        print(\"boxcords::\",int(box[0]*ratio_2), int(box[1]*ratio_1), int(box[2]*ratio_2), int(box[3]*ratio_1))\n",
    "    #     cv2.imwrite(\"test.jpg\", img)\n",
    "        plt.imsave(out_path,img)\n",
    "        # plt.show()\n",
    "        "
   ]
  },
  {
   "cell_type": "code",
   "execution_count": null,
   "id": "eb0c5470-5072-4b2b-af3c-49f012cb98a0",
   "metadata": {},
   "outputs": [],
   "source": [
    "os.makedirs('output/32b_arm', exist_ok=True)\n",
    "os.makedirs('output/8b_dsp', exist_ok=True)"
   ]
  },
  {
   "cell_type": "markdown",
   "id": "e994c713-b29a-4eb9-b601-d8c4ec07030e",
   "metadata": {},
   "source": [
    "## Save results on CPU"
   ]
  },
  {
   "cell_type": "code",
   "execution_count": null,
   "id": "8678f9ad-d575-41bb-9f6a-24901586c908",
   "metadata": {},
   "outputs": [],
   "source": [
    "test_images_dir = \"output/OUTPUT_32b_CPU/\"\n",
    "image_dir = 'val2017/'\n",
    "import cv2\n",
    "import os\n",
    "import numpy as np\n",
    "import torch\n",
    "from PIL import Image\n",
    "for i in range(0,len(imageList)):\n",
    "    img_path = image_dir+imageList[i]+'.jpg'\n",
    "    raw_path = os.path.join(test_images_dir, 'Result_')\n",
    "    output1 = np.fromfile(raw_path+str(i)+'/885.raw',dtype=\"float32\")\n",
    "    output2 = np.fromfile(raw_path+str(i)+'/877.raw',dtype=\"float32\")\n",
    "    print(output1.shape)\n",
    "    print(output2.shape)\n",
    "    out_path = 'output/32b_arm/'+imageList[i]+'_prediction_32b_arm.png'\n",
    "    postProc(img_path,output1,output2,out_path)\n",
    "    i = i +1"
   ]
  },
  {
   "cell_type": "markdown",
   "id": "a2ff6cbc-ee34-4f46-999d-f23700671b93",
   "metadata": {},
   "source": [
    "## Save results on DSP"
   ]
  },
  {
   "cell_type": "code",
   "execution_count": null,
   "id": "b08a3c30-1868-4b57-bbe1-1d7d2c42cb73",
   "metadata": {},
   "outputs": [],
   "source": [
    "test_images_dir = \"output/OUTPUT_8b_DSP/\"\n",
    "image_dir = 'val2017/'\n",
    "import cv2\n",
    "import os\n",
    "import numpy as np\n",
    "import torch\n",
    "from PIL import Image\n",
    "for i in range(0,len(imageList)):\n",
    "    img_path = image_dir+imageList[i]+'.jpg'\n",
    "    raw_path = os.path.join(test_images_dir, 'Result_')\n",
    "    output1 = np.fromfile(raw_path+str(i)+'/885.raw',dtype=\"float32\")\n",
    "    output2 = np.fromfile(raw_path+str(i)+'/877.raw',dtype=\"float32\")\n",
    "    print(output1.shape)\n",
    "    print(output2.shape)\n",
    "    out_path = 'output/8b_dsp/'+imageList[i]+'_prediction_8b_dsp.png'\n",
    "    postProc(img_path,output1,output2,out_path)\n",
    "    i = i +1"
   ]
  },
  {
   "cell_type": "markdown",
   "id": "d904078b-2052-4bf3-94f8-7dc5aa4f5a39",
   "metadata": {},
   "source": [
    "## Output on CPU"
   ]
  },
  {
   "cell_type": "code",
   "execution_count": null,
   "id": "d3a78d6b-fcae-4d9a-bcb7-0e35755ceb21",
   "metadata": {},
   "outputs": [],
   "source": [
    "for i in range(5):\n",
    "    img  = plt.imread('output/32b_arm/'+imageList[i]+'_prediction_32b_arm.png')\n",
    "    plt.imshow(img)\n",
    "    plt.show()"
   ]
  },
  {
   "cell_type": "markdown",
   "id": "6a2d7734-2887-4022-a040-a752c1cc8794",
   "metadata": {},
   "source": [
    "## Output on DSP"
   ]
  },
  {
   "cell_type": "code",
   "execution_count": null,
   "id": "8fc8bbe3-448f-4c2c-ae39-a8c424da441d",
   "metadata": {},
   "outputs": [],
   "source": [
    "for i in range(5):\n",
    "    img  = plt.imread('output/8b_dsp/'+imageList[i]+'_prediction_8b_dsp.png')\n",
    "    plt.imshow(img)\n",
    "    plt.show()"
   ]
  }
 ],
 "metadata": {
  "kernelspec": {
   "display_name": "Python 3 (ipykernel)",
   "language": "python",
   "name": "python3"
  },
  "language_info": {
   "codemirror_mode": {
    "name": "ipython",
    "version": 3
   },
   "file_extension": ".py",
   "mimetype": "text/x-python",
   "name": "python",
   "nbconvert_exporter": "python",
   "pygments_lexer": "ipython3",
   "version": "3.10.10"
  }
 },
 "nbformat": 4,
 "nbformat_minor": 5
}
