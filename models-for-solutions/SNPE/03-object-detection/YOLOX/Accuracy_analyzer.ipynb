{
 "cells": [
  {
   "cell_type": "code",
   "execution_count": null,
   "id": "56eda6a2-9de6-412f-98db-22220e648202",
   "metadata": {},
   "outputs": [],
   "source": [
    "## Give appropriate permission to the directory \"FOLDER_WITH_ARTIFACTS\" you are working with\n",
    "import os\n",
    "os.environ['SNPE_ROOT']=\"/local/mnt/workspace/aditya/qaisw-v2.15.1.230926150623_62883\"#set up your snpe path here.\n",
    "os.environ['RAW_FILE_FOLDER']=\"raw\"#rawfiles\n",
    "os.environ['FOLDER_WITH_ARTIFACTS']=\"YoloX_updated\"\n",
    "os.environ['DLC32']=\"yolox_FP32_2_15_1.dlc\"\n",
    "os.environ['DLC8']=\"yolox_a8w8_2_15_1.dlc\"\n",
    "os.environ['TARGET_INPUT_LIST']=\"list.txt\"\n",
    "os.environ['ONDEVICE_FOLDER']=\"YoloX_updated\"\n",
    "os.environ['DEVICE_HOST']=\"localhost\"\n",
    "os.environ['DEVICE_ID']=\"728b7a92\" #fill your device-id. Use command \"adb devices\" to get devices names. example :\"e18d5d0\"\n",
    "os.environ['SNPE_TARGET_ARCH']=\"aarch64-android\"\n",
    "os.environ['SNPE_TARGET_STL']=\"libc++_shared.so\""
   ]
  },
  {
   "cell_type": "code",
   "execution_count": null,
   "id": "67877ee1-1f86-4e1f-921b-4b11fb93c698",
   "metadata": {},
   "outputs": [],
   "source": [
    "import cv2\n",
    "import glob\n",
    "import os\n",
    "import numpy as np\n",
    "from PIL import Image\n",
    "import re\n",
    "import matplotlib.image as mpimg\n",
    "import matplotlib.pyplot as plt"
   ]
  },
  {
   "cell_type": "markdown",
   "id": "c41dbb8f-1be9-4851-8c01-6650deead467",
   "metadata": {},
   "source": [
    "### ONNX Model"
   ]
  },
  {
   "cell_type": "code",
   "execution_count": null,
   "id": "89808597-57d1-4ea7-bf1f-6c9fd8af009b",
   "metadata": {},
   "outputs": [],
   "source": [
    "!wget https://github.com/Megvii-BaseDetection/YOLOX/releases/download/0.1.1rc0/yolox_x.onnx"
   ]
  },
  {
   "cell_type": "code",
   "execution_count": null,
   "id": "9ea9e7a1-b75c-4cbf-83ba-8dd95a9cd900",
   "metadata": {},
   "outputs": [],
   "source": [
    "%%bash\n",
    "source $SNPE_ROOT/bin/envsetup.sh\n",
    "snpe-onnx-to-dlc --input_network yolox_x.onnx --output_path yolox_FP32_2_15_1.dlc"
   ]
  },
  {
   "cell_type": "markdown",
   "id": "fc33f572-c7a6-4afb-bb7c-637720ef7e69",
   "metadata": {},
   "source": [
    "### DLC Conversion\n",
    "\n",
    "- Please create the dlc models(FP32) from the generating_model.ipynb file\n",
    "- After Creating the Raw file here we'll generate the INT8 Model"
   ]
  },
  {
   "cell_type": "markdown",
   "id": "563d7e6c-c86e-4d6b-87ef-d5b4b4847b8a",
   "metadata": {},
   "source": [
    "# Preprocessing"
   ]
  },
  {
   "cell_type": "markdown",
   "id": "ece73914-fadb-47a1-9d33-7e7979817969",
   "metadata": {},
   "source": [
    "### Getting the dataset\n"
   ]
  },
  {
   "cell_type": "code",
   "execution_count": null,
   "id": "d7864346-c0fb-4df1-8307-6f45f07b8bd3",
   "metadata": {},
   "outputs": [],
   "source": [
    "# User needs to download the dataset of their choice here. "
   ]
  },
  {
   "cell_type": "code",
   "execution_count": null,
   "id": "04699474-fc2c-434d-a6a9-9af58eaf7b4a",
   "metadata": {},
   "outputs": [],
   "source": [
    "# dataset is huge to run on device , taking only 15 dataset\n",
    "files = os.listdir('val2017')\n",
    "for file in files[15:]:\n",
    "    os.remove(\"val2017/\"+file)"
   ]
  },
  {
   "cell_type": "code",
   "execution_count": null,
   "id": "141a43b2-4e5f-41d6-92fb-e288b24f6df1",
   "metadata": {},
   "outputs": [],
   "source": [
    "def preproc(img, input_size, swap=(2, 0, 1)):\n",
    "    if len(img.shape) == 3:\n",
    "        padded_img = np.ones((input_size[0], input_size[1], 3), dtype=np.uint8) * 114\n",
    "    else:\n",
    "        padded_img = np.ones(input_size, dtype=np.uint8) * 114\n",
    "\n",
    "    r = min(input_size[0] / img.shape[0], input_size[1] / img.shape[1])\n",
    "    resized_img = cv2.resize(\n",
    "        img,\n",
    "        (int(img.shape[1] * r), int(img.shape[0] * r)),\n",
    "        interpolation=cv2.INTER_LINEAR,\n",
    "    ).astype(np.uint8)\n",
    "    padded_img[: int(img.shape[0] * r), : int(img.shape[1] * r)] = resized_img\n",
    "\n",
    "    padded_img = padded_img.transpose(swap)\n",
    "    padded_img = np.ascontiguousarray(padded_img, dtype=np.float32)\n",
    "    return padded_img, r"
   ]
  },
  {
   "cell_type": "code",
   "execution_count": null,
   "id": "8c50d53a-8e67-4b3e-b0f4-9c679de4f42c",
   "metadata": {},
   "outputs": [],
   "source": [
    "import cv2\n",
    "import numpy as np\n",
    "import os\n",
    "dict={}\n",
    "input_shape = tuple(map(int,[640,640]))  \n",
    "def detect(imgfile,i):\n",
    "    origimg = cv2.imread(imgfile)\n",
    "    img, ratio = preproc(origimg, input_shape)\n",
    "    index=imgfile.split(\"/\")[1].split(\".\")[0]\n",
    "    dict[index]=ratio\n",
    "    img=np.transpose(img,(1,2,0))\n",
    "    img.tofile(\"raw/\"+filenames[i].split(\".\")[0]+\".raw\")\n",
    "    \n",
    "filenames = os.listdir(\"val2017\")\n",
    "for i in range(0,len(filenames)):\n",
    "    if \"jpg\" in filenames[i].lower():\n",
    "        detect(\"val2017/\"+filenames[i],i)"
   ]
  },
  {
   "cell_type": "markdown",
   "id": "a9393573-8aa3-440e-b96d-4e3261e53499",
   "metadata": {},
   "source": [
    "### Creating the list file"
   ]
  },
  {
   "cell_type": "code",
   "execution_count": null,
   "id": "445bcf68-0697-4146-960b-5511028b0c62",
   "metadata": {},
   "outputs": [],
   "source": [
    "%%bash\n",
    "find ./raw -name *.raw > list.txt"
   ]
  },
  {
   "cell_type": "markdown",
   "id": "da8890e6-e898-416a-ab91-e681fef2d874",
   "metadata": {},
   "source": [
    "#### Creating the INT 8 Model After preparing the raw files"
   ]
  },
  {
   "cell_type": "code",
   "execution_count": null,
   "id": "8dff13d1-49d8-438b-84c2-07c0565d8088",
   "metadata": {},
   "outputs": [],
   "source": [
    "%%bash\n",
    "source $SNPE_ROOT/bin/envsetup.sh\n",
    "snpe-dlc-quantize --input_dlc yolox_FP32_2_15_1.dlc --input_list list.txt --use_enhanced_quantizer --use_adjusted_weights_quantizer --axis_quant --output_dlc yolox_a8w8_2_15_1.dlc --enable_htp --htp_socs sm8550"
   ]
  },
  {
   "cell_type": "markdown",
   "id": "080f67f8-17a0-48be-9d84-6848de68c3e3",
   "metadata": {},
   "source": [
    "#### Creating Bin and Lib Folder on Device "
   ]
  },
  {
   "cell_type": "code",
   "execution_count": null,
   "id": "4e900c4c-1377-4dd0-897e-def4c093e52b",
   "metadata": {},
   "outputs": [],
   "source": [
    "%%bash\n",
    "export DEVICE_SHELL=\"adb -H $DEVICE_HOST -s $DEVICE_ID\"\n",
    "$DEVICE_SHELL shell \"mkdir -p /data/local/tmp/snpeexample/$SNPE_TARGET_ARCH/bin\" && $DEVICE_SHELL shell \"mkdir -p /data/local/tmp/snpeexample/$SNPE_TARGET_ARCH/lib\" && $DEVICE_SHELL shell \"mkdir -p /data/local/tmp/snpeexample/dsp/lib\""
   ]
  },
  {
   "cell_type": "markdown",
   "id": "5965274a-afee-4b38-8d50-513f5fab97ad",
   "metadata": {},
   "source": [
    "### Pushing all Lib and Bin files onto Device"
   ]
  },
  {
   "cell_type": "code",
   "execution_count": null,
   "id": "15822914-56dd-419e-b2e6-eaf19f349122",
   "metadata": {},
   "outputs": [],
   "source": [
    "%%bash\n",
    "export DEVICE_SHELL=\"adb -H $DEVICE_HOST -s $DEVICE_ID\"\n",
    "$DEVICE_SHELL push $SNPE_ROOT/lib/$SNPE_TARGET_ARCH/$SNPE_TARGET_STL /data/local/tmp/snpeexample/$SNPE_TARGET_ARCH/lib\n",
    "$DEVICE_SHELL push $SNPE_ROOT/bin/$SNPE_TARGET_ARCH/snpe-net-run /data/local/tmp/snpeexample/$SNPE_TARGET_ARCH/bin\n",
    "$DEVICE_SHELL push $SNPE_ROOT/lib/hexagon-v75/unsigned/*.so /data/local/tmp/snpeexample/dsp/lib\n",
    "$DEVICE_SHELL push $SNPE_ROOT/lib/$SNPE_TARGET_ARCH/*.so /data/local/tmp/snpeexample/$SNPE_TARGET_ARCH/lib"
   ]
  },
  {
   "cell_type": "markdown",
   "id": "69944d70-98ff-43c2-96cf-e1314607be8b",
   "metadata": {},
   "source": [
    "### Pushing Artifacts on to Device"
   ]
  },
  {
   "cell_type": "code",
   "execution_count": null,
   "id": "6b3879d7-7ffb-4975-9971-4638467657ca",
   "metadata": {},
   "outputs": [],
   "source": [
    "%%bash\n",
    "export DEVICE_SHELL=\"adb -H $DEVICE_HOST -s $DEVICE_ID\"\n",
    "$DEVICE_SHELL shell \"mkdir -p /data/local/tmp/$ONDEVICE_FOLDER\""
   ]
  },
  {
   "cell_type": "code",
   "execution_count": null,
   "id": "c1a39528-3dde-4643-a7de-6f7431c820f1",
   "metadata": {},
   "outputs": [],
   "source": [
    "%%bash\n",
    "export DEVICE_SHELL=\"adb -H $DEVICE_HOST -s $DEVICE_ID\"\n",
    "$DEVICE_SHELL push $DLC32 /data/local/tmp/$ONDEVICE_FOLDER\n",
    "$DEVICE_SHELL push $DLC8 /data/local/tmp/$ONDEVICE_FOLDER\n",
    "$DEVICE_SHELL push raw /data/local/tmp/$ONDEVICE_FOLDER\n",
    "$DEVICE_SHELL push $TARGET_INPUT_LIST /data/local/tmp/$ONDEVICE_FOLDER"
   ]
  },
  {
   "cell_type": "markdown",
   "id": "35977ce5-4f74-4fd2-a7a8-bbf210431b7e",
   "metadata": {},
   "source": [
    "### Inferencing 8 bit DLC on DSP Runtime\n",
    "* Give name of DLC in OUTPUT_DLC_QUANTIZED8 and ondevice folder"
   ]
  },
  {
   "cell_type": "code",
   "execution_count": null,
   "id": "5696a818-d3e5-470f-ad8a-119136ee9d4b",
   "metadata": {},
   "outputs": [],
   "source": [
    "%%bash\n",
    "export DEVICE_SHELL=\"adb -H $DEVICE_HOST -s $DEVICE_ID\"\n",
    "$DEVICE_SHELL shell\n",
    "export LD_LIBRARY_PATH=$LD_LIBRARY_PATH:/data/local/tmp/snpeexample/aarch64-android/lib\n",
    "export PATH=$PATH:/data/local/tmp/snpeexample/aarch64-android/bin\n",
    "export OUTPUT_FOLDER=OUTPUT_8b_DSP\n",
    "export OUTPUT_DLC_QUANTIZED8=yolox_a8w8_2_15_1.dlc\n",
    "export ADSP_LIBRARY_PATH=\"/data/local/tmp/snpeexample/dsp/lib;/system/lib/rfsa/adsp;/system/vendor/lib/rfsa/adsp;/dsp\"\n",
    "export ONDEVICE_FOLDER=\"YoloX_updated\"\n",
    "cd /data/local/tmp/$ONDEVICE_FOLDER &&\n",
    "snpe-net-run --container $OUTPUT_DLC_QUANTIZED8 --input_list list.txt --output_dir $OUTPUT_FOLDER --use_dsp"
   ]
  },
  {
   "cell_type": "markdown",
   "id": "e7fceca6-2436-4db7-8a92-b1dce996f34d",
   "metadata": {},
   "source": [
    "### Inferencing 32b DLC on CPU Runtime\n",
    "Give name of DLC in OUTPUT_DLC_32 and ondevice folder"
   ]
  },
  {
   "cell_type": "code",
   "execution_count": null,
   "id": "42fee380-0c73-4579-9d81-4569c273918d",
   "metadata": {},
   "outputs": [],
   "source": [
    "%%bash\n",
    "export DEVICE_SHELL=\"adb -H $DEVICE_HOST -s $DEVICE_ID\"\n",
    "$DEVICE_SHELL shell\n",
    "export LD_LIBRARY_PATH=$LD_LIBRARY_PATH:/data/local/tmp/snpeexample/aarch64-android/lib\n",
    "export PATH=$PATH:/data/local/tmp/snpeexample/aarch64-android/bin\n",
    "export OUTPUT_FOLDER=OUTPUT_32b_CPU\n",
    "export OUTPUT_DLC_32=yolox_FP32_2_15_1.dlc\n",
    "export ONDEVICE_FOLDER=\"YoloX_updated\"\n",
    "cd /data/local/tmp/$ONDEVICE_FOLDER &&\n",
    "snpe-net-run --container $OUTPUT_DLC_32 --input_list list.txt --output_dir $OUTPUT_FOLDER"
   ]
  },
  {
   "cell_type": "markdown",
   "id": "7e1ab034-c136-42b5-a8b0-5fbfe09efacd",
   "metadata": {},
   "source": [
    "### Pulling Output folder generated on different precision and cores"
   ]
  },
  {
   "cell_type": "code",
   "execution_count": null,
   "id": "5aa423e3-22ab-43e0-b2b1-9a19987ca5e0",
   "metadata": {},
   "outputs": [],
   "source": [
    "%%bash\n",
    "export DEVICE_SHELL=\"adb -H $DEVICE_HOST -s $DEVICE_ID\"\n",
    "$DEVICE_SHELL pull /data/local/tmp/$ONDEVICE_FOLDER/OUTPUT_8b_DSP OUTPUT_8b_DSP\n",
    "$DEVICE_SHELL pull /data/local/tmp/$ONDEVICE_FOLDER/OUTPUT_32b_CPU OUTPUT_32b_CPU"
   ]
  },
  {
   "cell_type": "markdown",
   "id": "058f2ad2-528e-4c9f-b95d-0c1547713c71",
   "metadata": {},
   "source": [
    "# Post Processing\n"
   ]
  },
  {
   "cell_type": "code",
   "execution_count": null,
   "id": "1087e359-6c8b-4eb2-b9c2-36dac61347f1",
   "metadata": {},
   "outputs": [],
   "source": [
    "label2class = {'0': 'person', '1': 'bicycle', '2': 'car', '3': 'motorcycle', '4': 'airplane', '5': 'bus', \n",
    "               '6': 'train', '7': 'truck', '8': 'boat', '9': 'traffic', '10': 'fire', '11': 'stop', '12': 'parking', \n",
    "               '13': 'bench', '14': 'bird', '15': 'cat', '16': 'dog', '17': 'horse', '18': 'sheep', '19': 'cow', \n",
    "               '20': 'elephant', '21': 'bear', '22': 'zebra', '23': 'giraffe', '24': 'backpack', '25': 'umbrella', \n",
    "               '26': 'handbag', '27': 'tie', '28': 'suitcase', '29': 'frisbee', '30': 'skis', '31': 'snowboard', \n",
    "               '32': 'sports', '33': 'kite', '34': 'baseball', '35': 'baseball', '36': 'skateboard', '37': 'surfboard', \n",
    "               '38': 'tennis', '39': 'bottle', '40': 'wine', '41': 'cup', '42': 'fork', '43': 'knife', '44': 'spoon', \n",
    "               '45': 'bowl', '46': 'banana', '47': 'apple', '48': 'sandwich', '49': 'orange', '50': 'broccoli', \n",
    "               '51': 'carrot', '52': 'hot', '53': 'pizza', '54': 'donut', '55': 'cake', '56': 'chair', '57': 'couch', \n",
    "               '58': 'potted', '59': 'bed', '60': 'dining', '61': 'toilet', '62': 'tv', '63': 'laptop', '64': 'mouse', \n",
    "               '65': 'remote', '66': 'keyboard', '67': 'cell', '68': 'microwave', '69': 'oven', '70': 'toaster', \n",
    "               '71': 'sink', '72': 'refrigerator', '73': 'book', '74': 'clock', '75': 'vase', '76': 'scissors', \n",
    "               '77': 'teddy', '78': 'hair', '79': 'toothbrush'}\n",
    "\n",
    "print(list(label2class.values()))"
   ]
  },
  {
   "cell_type": "code",
   "execution_count": null,
   "id": "13f91a41-f0eb-47cd-8186-31b1748f95c0",
   "metadata": {},
   "outputs": [],
   "source": [
    "detection_results = [\"detection_results_32b_CPU\",\"detection_results_8b_DSP\"]"
   ]
  },
  {
   "cell_type": "code",
   "execution_count": null,
   "id": "0568f23c-88dc-4e87-95b8-08bea67f7853",
   "metadata": {},
   "outputs": [],
   "source": [
    "%%bash\n",
    "mkdir -p \"detection_results_32b_CPU\"\n",
    "mkdir -p \"detection_results_8b_DSP\"\n",
    "mkdir -p \"prediction_results_32b_CPU\"\n",
    "mkdir -p \"prediction_results_8b_DSP\""
   ]
  },
  {
   "cell_type": "markdown",
   "id": "a0f11dd4-8fdb-4eae-9861-1dfba1a95cb1",
   "metadata": {},
   "source": [
    "### Function to draw the bounding boxes"
   ]
  },
  {
   "cell_type": "code",
   "execution_count": null,
   "id": "654feb24-55b9-4788-8758-1622295eb899",
   "metadata": {},
   "outputs": [],
   "source": [
    "from matplotlib import pyplot as plt\n",
    "import cv2.dnn\n",
    "import numpy as np\n",
    "colors = np.random.uniform(0, 255, size=(len(list(label2class.values())), 3))\n",
    "def draw_bounding_box(img, class_id, confidence, x, y, x_plus_w, y_plus_h):\n",
    "    label = f'{label2class[str(class_id)]}'\n",
    "    color = colors[class_id]\n",
    "    img = cv2.rectangle(img, (x, y), (x_plus_w, y_plus_h), color, 2)\n",
    "    img = cv2.putText(img, label, (x +2, y -10), cv2.FONT_HERSHEY_TRIPLEX, 0.5, color, 2)\n",
    "    return img"
   ]
  },
  {
   "cell_type": "markdown",
   "id": "54166c06-e7bb-45c2-bcde-4cd20fe97d71",
   "metadata": {},
   "source": [
    "#### Actual Post Processing Code"
   ]
  },
  {
   "cell_type": "code",
   "execution_count": null,
   "id": "72277211-77c5-4119-8182-6c68f9006049",
   "metadata": {},
   "outputs": [],
   "source": [
    "def post_proc(output, originalImagePath, save_img_path,ratio):\n",
    "    #Initializing the lists\n",
    "    boxes_updated = []\n",
    "    scores_updated = []\n",
    "    class_ids = []\n",
    "    #Reading the actual image\n",
    "    original_image: np.ndarray = cv2.imread(originalImagePath)\n",
    "\n",
    "    # Preprocessing the boxes and scores\n",
    "    #format of output is first 4 is the bounding boxes, 5th one is objectness score, last 80 column is score of each classes\n",
    "    boxes = output[:, :4]\n",
    "    scores = output[:, 4:5] * output[:, 5:]\n",
    "\n",
    "    #Processing of bounding boxes\n",
    "    boxes_xyxy = np.ones_like(boxes)\n",
    "    boxes_xyxy[:, 0] = boxes[:, 0] - boxes[:, 2]/2.\n",
    "    boxes_xyxy[:, 1] = boxes[:, 1] - boxes[:, 3]/2.\n",
    "    boxes_xyxy[:, 2] = boxes[:, 0] + boxes[:, 2]/2.\n",
    "    boxes_xyxy[:, 3] = boxes[:, 1] + boxes[:, 3]/2.\n",
    "    boxes_xyxy /= ratio\n",
    "\n",
    "    #For each prediction from 8400 predictions finding the results\n",
    "    for i in range(0, output.shape[0]):\n",
    "        (minScore, maxScore, minClassLoc, (x, maxClassIndex)) = cv2.minMaxLoc(scores[i])\n",
    "        if maxScore >= 0.2:\n",
    "            boxes_updated.append(boxes_xyxy[i])\n",
    "            scores_updated.append(float(maxScore))\n",
    "            class_ids.append(maxClassIndex)\n",
    "\n",
    "    # Removing Overlapping predictions\n",
    "    result_boxes = cv2.dnn.NMSBoxes(boxes_updated, scores_updated, 0.20, 0.5, 0.5) #32b CPU\n",
    "    detections = []\n",
    "    img = original_image\n",
    "\n",
    "    #For each prediction showing drawing the bounding boxes\n",
    "    for i in range(len(result_boxes)):\n",
    "        index = result_boxes[i]\n",
    "        box = boxes_updated[index]\n",
    "        detection = {\n",
    "            'class_id': class_ids[index],\n",
    "            'class_name': label2class[str(class_ids[index])],\n",
    "            'confidence': scores_updated[index],\n",
    "            'box': box\n",
    "             }\n",
    "        detections.append(detection)\n",
    "        img = draw_bounding_box(original_image, class_ids[index],detection['confidence'], int(box[0]), int(box[1]), int(box[2]), int(box[3]))                          \n",
    "                                \n",
    "    cv2.imwrite(save_img_path, img)\n",
    "\n",
    "\n",
    "    str_pred = \"\"\n",
    "    for dic in detections:\n",
    "        str_pred+= dic['class_name']+\" \"+str(dic['confidence'])+\" \"+str(dic['box'][0])+\" \"+str(dic['box'][1])+\" \"+str(dic['box'][2])+\" \"+str(dic['box'][3])+\"\\n\"\n",
    "    return str_pred.strip()"
   ]
  },
  {
   "cell_type": "code",
   "execution_count": null,
   "id": "24addea8-1ab7-46a6-a01b-3537e82abd5a",
   "metadata": {},
   "outputs": [],
   "source": [
    "def postprocess_helper(outputs, img_size, p6=False):\n",
    "    grids = []\n",
    "    expanded_strides = []\n",
    "    strides = [8, 16, 32] if not p6 else [8, 16, 32, 64]\n",
    "\n",
    "    hsizes = [img_size[0] // stride for stride in strides]\n",
    "    wsizes = [img_size[1] // stride for stride in strides]\n",
    "\n",
    "    for hsize, wsize, stride in zip(hsizes, wsizes, strides):\n",
    "        xv, yv = np.meshgrid(np.arange(wsize), np.arange(hsize))\n",
    "        grid = np.stack((xv, yv), 2).reshape(1, -1, 2)\n",
    "        grids.append(grid)\n",
    "        shape = grid.shape[:2]\n",
    "        expanded_strides.append(np.full((*shape, 1), stride))\n",
    "\n",
    "    grids = np.concatenate(grids, 1)\n",
    "    expanded_strides = np.concatenate(expanded_strides, 1)\n",
    "    outputs[..., :2] = (outputs[..., :2] + grids) * expanded_strides\n",
    "    outputs[..., 2:4] = np.exp(outputs[..., 2:4]) * expanded_strides\n",
    "\n",
    "    return outputs"
   ]
  },
  {
   "cell_type": "code",
   "execution_count": null,
   "id": "10396ea1-83d0-4dca-92af-2823de7ce749",
   "metadata": {},
   "outputs": [],
   "source": [
    "#000000329219\n",
    "folder = [\"OUTPUT_32b_CPU\",\"OUTPUT_8b_DSP\"]\n",
    "detection_results = [\"detection_results_32b_CPU\",\"detection_results_8b_DSP\"]\n",
    "results = [\"prediction_results_32b_CPU\",\"prediction_results_8b_DSP\"]\n",
    "f=open(\"list.txt\",\"r\")\n",
    "input_list = f.readlines()\n",
    "input_shape=tuple([640,640])\n",
    "f.close()\n",
    "for j in range(0,len(folder)):\n",
    "    for result_path in glob.glob(os.path.join(folder[j], '*')):\n",
    "        if \".log\" not in result_path and int(result_path.split(\"_\")[-1])<len(input_list):\n",
    "            #using raw file to traverse output folders and result folder will be in sequence as per list.txt\n",
    "            raw_path = input_list[int(result_path.split(\"_\")[-1])].replace(\"\\n\",\"\") # rawfile path from list.txt\n",
    "            if os.path.exists(raw_path):\n",
    "                output = np.fromfile(result_path+'/output.raw', dtype=\"float32\")               \n",
    "                output=output.reshape((1,1,8400, 85))\n",
    "                predictions = postprocess_helper(output[0], input_shape)[0]\n",
    "                originalImagePath = raw_path.replace(\".raw\",\".jpg\").replace(\"raw\",\"val2017\")\n",
    "                runtime = folder[j].split(\"_\")[-1]\n",
    "                save_img_path = detection_results[j]+\"/\"+raw_path.split(\"/\")[-1].split(\".\")[0]+\"_\"+runtime+\".jpg\"\n",
    "                ratio=dict[raw_path.split(\"/\")[-1].split(\".\")[0]]\n",
    "                label_and_coordinates = post_proc(predictions, originalImagePath, save_img_path,ratio)\n",
    "                f = open(results[j]+\"/\"+raw_path.split(\"/\")[-1].split(\".\")[0]+\".txt\",\"w\")\n",
    "                f.writelines(label_and_coordinates)\n",
    "                f.close()\n",
    "            else:\n",
    "                print(\"***\",raw_path)"
   ]
  },
  {
   "cell_type": "markdown",
   "id": "1374e085-55e2-4467-8b9c-6a2327a96c90",
   "metadata": {},
   "source": [
    "## Visualizing the Output"
   ]
  },
  {
   "cell_type": "code",
   "execution_count": null,
   "id": "bac1d438-2ea7-48b8-96d8-27d76c79b7c2",
   "metadata": {},
   "outputs": [],
   "source": [
    "detection_results = [\"detection_results_32b_CPU\",\"detection_results_8b_DSP\"]\n",
    "for CPU_path in glob.glob(os.path.join(detection_results[0], '*')):\n",
    "    CPU_img_name=CPU_path.split(\"/\")[1].split(\"_\")[0]\n",
    "    for DSP_path in glob.glob(os.path.join(detection_results[1], '*')):\n",
    "        DSP_img_name=DSP_path.split(\"/\")[1].split(\"_\")[0]\n",
    "        \n",
    "        if CPU_img_name!=DSP_img_name:continue\n",
    "            \n",
    "        CPU_img=cv2.imread(CPU_path)\n",
    "        DSP_img=cv2.imread(DSP_path)\n",
    "        fing,ax=plt.subplots(1,2,figsize=(10,5))\n",
    "        ax[0].imshow(CPU_img)\n",
    "        ax[0].set_title(\"CPU 32 Inference\")\n",
    "\n",
    "        ax[1].imshow(DSP_img)\n",
    "        ax[1].set_title(\"DSP 8 Inference\")\n",
    "        plt.tight_layout()\n",
    "        plt.show()\n"
   ]
  }
 ],
 "metadata": {
  "kernelspec": {
   "display_name": "Python 3 (ipykernel)",
   "language": "python",
   "name": "python3"
  },
  "language_info": {
   "codemirror_mode": {
    "name": "ipython",
    "version": 3
   },
   "file_extension": ".py",
   "mimetype": "text/x-python",
   "name": "python",
   "nbconvert_exporter": "python",
   "pygments_lexer": "ipython3",
   "version": "3.10.10"
  }
 },
 "nbformat": 4,
 "nbformat_minor": 5
}
