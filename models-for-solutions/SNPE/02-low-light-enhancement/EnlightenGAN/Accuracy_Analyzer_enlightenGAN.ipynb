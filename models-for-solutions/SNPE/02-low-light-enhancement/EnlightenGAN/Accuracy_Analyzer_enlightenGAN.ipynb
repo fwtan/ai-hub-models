{
 "cells": [
  {
   "cell_type": "markdown",
   "id": "75df6b48",
   "metadata": {},
   "source": [
    "# Setting Up All Artifacts details"
   ]
  },
  {
   "cell_type": "code",
   "execution_count": null,
   "id": "3879b5c0-cd54-4b42-9953-f912506cfc3d",
   "metadata": {},
   "outputs": [],
   "source": [
    "## Give appropriate permission to the directory \"FOLDER_WITH_ARTIFACTS\" you are working with\n",
    "import os\n",
    "os.environ['SNPE_ROOT']=\"/local/mnt/workspace/qaisw-v2.15.1.230926150623_62883\"#set up your snpe path here.\n",
    "os.environ['RAW_FILE_FOLDER']=\"raw\"\n",
    "os.environ['FOLDER_WITH_ARTIFACTS']=\"EnhancementGAN\"\n",
    "os.environ['DLC32']=\"enlighten_fp32.dlc\"\n",
    "os.environ['DLC8']=\"enlighten_w8a8.dlc\"\n",
    "os.environ['TARGET_INPUT_LIST']=\"list.txt\"\n",
    "os.environ['ONDEVICE_FOLDER']=\"EnhancementGAN_comparision\"\n",
    "os.environ['DEVICE_HOST']=\"localhost\"\n",
    "os.environ['DEVICE_ID']=\"2dce6316\" #change with your device-id. Use command \"adb devices\" to get devices names.\n",
    "os.environ['SNPE_TARGET_ARCH']=\"aarch64-android\"\n",
    "os.environ['SNPE_TARGET_STL']=\"libc++_shared.so\""
   ]
  },
  {
   "cell_type": "code",
   "execution_count": null,
   "id": "6d904ce4",
   "metadata": {},
   "outputs": [],
   "source": [
    "import cv2\n",
    "import glob\n",
    "import os\n",
    "import numpy as np\n",
    "import torch\n",
    "!pip install onnxsim"
   ]
  },
  {
   "cell_type": "markdown",
   "id": "73d25715",
   "metadata": {},
   "source": [
    "# Download dataset\n",
    "\n",
    "Before proceeding with next steps, download dataset of your choice, and keep it ready to test on the images. Sample pre-processing and post-processing operations are shown below. They can be applied for the selected dataset. "
   ]
  },
  {
   "cell_type": "markdown",
   "id": "54764069",
   "metadata": {},
   "source": [
    "# Pre-processing data "
   ]
  },
  {
   "cell_type": "code",
   "execution_count": null,
   "id": "0782fcfa",
   "metadata": {},
   "outputs": [],
   "source": [
    "def preprocess(ll_img, hl_img):\n",
    "    ll_img = np.array(ll_img, dtype='float32')\n",
    "    hl_img = np.array(hl_img, dtype='float32')\n",
    "    \n",
    "    ll_img = np.uint8(np.clip(ll_img, 0., 255.))  # this is to simulate matlab's imwrite operation\n",
    "    hl_img = np.uint8(np.clip(hl_img, 0., 255.))  # this is to simulate matlab's imwrite operation\n",
    "    \n",
    "    ll_img = np.uint8(ll_img)\n",
    "    hl_img = np.uint8(hl_img)\n",
    "    \n",
    "    ll_img = convert_image(ll_img, source='array', target='[0, 1]')\n",
    "    hl_img = convert_image(hl_img, source='array', target='[0, 1]')\n",
    "    \n",
    "    return ll_img, hl_img"
   ]
  },
  {
   "cell_type": "code",
   "execution_count": null,
   "id": "5901102f",
   "metadata": {},
   "outputs": [],
   "source": [
    "def convert_image(img, source, target):\n",
    "    if source == 'array':\n",
    "        img = torch.from_numpy(img.transpose((2, 0, 1))).contiguous()#chw\n",
    "        img = img.to(dtype=torch.float32).div(255) \n",
    "    elif source == '[0, 1]':\n",
    "        img = torch.clamp(img, 0, 1)  # useful to post-process output of models that can overspill\n",
    "    \n",
    "    if target == '[0, 1]':\n",
    "        pass  # already in [0, 1]\n",
    "    return img"
   ]
  },
  {
   "cell_type": "code",
   "execution_count": null,
   "id": "765569a7",
   "metadata": {},
   "outputs": [],
   "source": [
    "def post_process(img):\n",
    "    img = img.detach().cpu().numpy()\n",
    "    img = np.clip(255. * img, 0., 255.)\n",
    "    img = np.uint8(img)\n",
    "    img = img.transpose(1, 2, 0)#hwc\n",
    "    return img"
   ]
  },
  {
   "cell_type": "code",
   "execution_count": null,
   "id": "a021d75f",
   "metadata": {},
   "outputs": [],
   "source": [
    "def load_dataset(test_images_dir):\n",
    "    # Input images for the model\n",
    "    INPUTS_LL = []\n",
    "    # Post-processed images for visualization\n",
    "    IMAGES_LL = [] # LL:Low Light\n",
    "    IMAGES_HL = [] # HL:High Light\n",
    "    # Load the test images\n",
    "    count=0\n",
    "    for img_path in glob.glob(os.path.join(test_images_dir, '*')):\n",
    "        l_img = cv2.resize(cv2.imread(img_path),[320,240],interpolation=cv2.INTER_CUBIC)\n",
    "        l_img = cv2.cvtColor(l_img, cv2.COLOR_BGR2RGB)\n",
    "        h_img = cv2.resize(cv2.imread(img_path.replace(\"low\",\"high\")),[320,240],interpolation=cv2.INTER_CUBIC)\n",
    "        h_img = cv2.cvtColor(h_img, cv2.COLOR_BGR2RGB)\n",
    "        ll_img, hl_img = preprocess(l_img, h_img)#chw\n",
    "        INPUTS_LL.append(ll_img)#chw\n",
    "        IMAGES_LL.append(post_process(ll_img))#hwc\n",
    "        IMAGES_HL.append(post_process(hl_img))#hwc\n",
    "    return INPUTS_LL, IMAGES_LL, IMAGES_HL"
   ]
  },
  {
   "cell_type": "code",
   "execution_count": null,
   "id": "128de23f-4c1a-4cca-a854-9b7f7d405941",
   "metadata": {},
   "outputs": [],
   "source": [
    "os.makedirs('raw', exist_ok=True)"
   ]
  },
  {
   "cell_type": "code",
   "execution_count": null,
   "id": "7fa25133",
   "metadata": {},
   "outputs": [],
   "source": [
    "test_images_dir = \"Directory with test images - set this variable to directory name\"\n",
    "INPUTS_LL, IMAGES_LL, IMAGES_HL = load_dataset(test_images_dir)\n",
    "print(len(INPUTS_LL),len(IMAGES_LL),len(IMAGES_HL))\n",
    "for i, img_ll in enumerate(INPUTS_LL):\n",
    "    img_ll = img_ll.cpu().detach().numpy()\n",
    "    img_ll = img_ll.astype(np.float32)\n",
    "    fid = open(\"raw/img_\"+str(i)+ \".raw\", 'wb')\n",
    "    img_ll.tofile(fid)\n",
    "    fid.close()"
   ]
  },
  {
   "cell_type": "code",
   "execution_count": null,
   "id": "046a874e-cb3a-4739-80dc-17882ddf0c89",
   "metadata": {},
   "outputs": [],
   "source": [
    "total_iter = 15\n",
    "print(\"Generating input_list \\\"small_raw_list.txt\\\" with {} iterations\".format(total_iter))\n",
    "with open(\"list.txt\",'w') as f:\n",
    "    for i in range(total_iter):\n",
    "        f.write(\"raw/img_{}.raw\\n\".format(i))"
   ]
  },
  {
   "cell_type": "markdown",
   "id": "289c33ca-95a5-4c3a-8aa1-4a773815c242",
   "metadata": {},
   "source": [
    "## Getting the ONNX Model\n",
    "- Take this from here [ https://github.com/arsenyinfo/EnlightenGAN-inference/blob/main/enlighten_inference/enlighten.onnx ] "
   ]
  },
  {
   "cell_type": "code",
   "execution_count": null,
   "id": "777189e4-81d8-4135-b175-ef5b8727d9a1",
   "metadata": {},
   "outputs": [],
   "source": [
    "!git clone https://github.com/arsenyinfo/EnlightenGAN-inference.git"
   ]
  },
  {
   "cell_type": "code",
   "execution_count": null,
   "id": "f265a057-2bd8-4da3-84e5-d3db55439289",
   "metadata": {},
   "outputs": [],
   "source": [
    "%%bash\n",
    "source $SNPE_ROOT/bin/envsetup.sh\n",
    "snpe-onnx-to-dlc -i EnlightenGAN-inference/enlighten_inference/enlighten.onnx -d input 1,3,240,320 -o enlighten_fp32.dlc"
   ]
  },
  {
   "cell_type": "code",
   "execution_count": null,
   "id": "ecd438c0-3e41-4339-8b41-99876d210bd0",
   "metadata": {},
   "outputs": [],
   "source": [
    "%%bash\n",
    "source $SNPE_ROOT/bin/envsetup.sh\n",
    "snpe-dlc-quantize --input_dlc enlighten_fp32.dlc --input_list list.txt --output_dlc enlighten_w8a8.dlc"
   ]
  },
  {
   "cell_type": "markdown",
   "id": "aa51d4e0",
   "metadata": {},
   "source": [
    "# Post-process model output"
   ]
  },
  {
   "cell_type": "code",
   "execution_count": null,
   "id": "4daa7b8e",
   "metadata": {},
   "outputs": [],
   "source": [
    "def post_process_enhanced(img):\n",
    "    img = np.fromfile(img, np.float32)\n",
    "    img = img.reshape((3, 240, 320)).astype(np.float32)\n",
    "    img = np.clip((img+1)/2 * 255. , 0., 255.)\n",
    "    img = np.uint8(img)\n",
    "    img = img.transpose(1, 2, 0)#hwc\n",
    "    return img"
   ]
  },
  {
   "cell_type": "markdown",
   "id": "63a1687e",
   "metadata": {},
   "source": [
    "# Creating Bin and Lib Folder on Device "
   ]
  },
  {
   "cell_type": "code",
   "execution_count": null,
   "id": "a8c2b9ce",
   "metadata": {},
   "outputs": [],
   "source": [
    "%%bash\n",
    "export DEVICE_SHELL=\"adb -H $DEVICE_HOST -s $DEVICE_ID\"\n",
    "$DEVICE_SHELL shell \"mkdir -p /data/local/tmp/snpeexample/$SNPE_TARGET_ARCH/bin\" && $DEVICE_SHELL shell \"mkdir -p /data/local/tmp/snpeexample/$SNPE_TARGET_ARCH/lib\" && $DEVICE_SHELL shell \"mkdir -p /data/local/tmp/snpeexample/dsp/lib\""
   ]
  },
  {
   "cell_type": "markdown",
   "id": "ea80b847",
   "metadata": {},
   "source": [
    "# Pushing all Lib and Bin files onto Device"
   ]
  },
  {
   "cell_type": "code",
   "execution_count": null,
   "id": "ed6634e3",
   "metadata": {},
   "outputs": [],
   "source": [
    "%%bash\n",
    "export DEVICE_SHELL=\"adb -H $DEVICE_HOST -s $DEVICE_ID\"\n",
    "$DEVICE_SHELL push $SNPE_ROOT/lib/$SNPE_TARGET_ARCH/$SNPE_TARGET_STL /data/local/tmp/snpeexample/$SNPE_TARGET_ARCH/lib\n",
    "$DEVICE_SHELL push $SNPE_ROOT/bin/$SNPE_TARGET_ARCH/snpe-net-run /data/local/tmp/snpeexample/$SNPE_TARGET_ARCH/bin\n",
    "$DEVICE_SHELL push $SNPE_ROOT/lib/hexagon-v75/unsigned/*.so /data/local/tmp/snpeexample/dsp/lib\n",
    "$DEVICE_SHELL push $SNPE_ROOT/lib/$SNPE_TARGET_ARCH/*.so /data/local/tmp/snpeexample/$SNPE_TARGET_ARCH/lib"
   ]
  },
  {
   "cell_type": "markdown",
   "id": "5bf854eb",
   "metadata": {},
   "source": [
    "# Pushing Artifacts on to Device"
   ]
  },
  {
   "cell_type": "code",
   "execution_count": null,
   "id": "088a8923",
   "metadata": {},
   "outputs": [],
   "source": [
    "%%bash\n",
    "export DEVICE_SHELL=\"adb -H $DEVICE_HOST -s $DEVICE_ID\"\n",
    "$DEVICE_SHELL shell \"mkdir -p /data/local/tmp/$ONDEVICE_FOLDER\""
   ]
  },
  {
   "cell_type": "code",
   "execution_count": null,
   "id": "7d34aeac",
   "metadata": {},
   "outputs": [],
   "source": [
    "%%bash\n",
    "export DEVICE_SHELL=\"adb -H $DEVICE_HOST -s $DEVICE_ID\"\n",
    "$DEVICE_SHELL push $DLC32 /data/local/tmp/$ONDEVICE_FOLDER\n",
    "$DEVICE_SHELL push $DLC8 /data/local/tmp/$ONDEVICE_FOLDER\n",
    "$DEVICE_SHELL push raw /data/local/tmp/$ONDEVICE_FOLDER\n",
    "$DEVICE_SHELL push $TARGET_INPUT_LIST /data/local/tmp/$ONDEVICE_FOLDER"
   ]
  },
  {
   "cell_type": "markdown",
   "id": "74bfd5bd",
   "metadata": {},
   "source": [
    "# Inferencing 8 bit DLC on DSP Runtime\n",
    "* Give name of DLC in OUTPUT_DLC_QUANTIZED8 and ondevice folder"
   ]
  },
  {
   "cell_type": "code",
   "execution_count": null,
   "id": "2fbcc4ee",
   "metadata": {},
   "outputs": [],
   "source": [
    "%%bash\n",
    "export DEVICE_SHELL=\"adb -H $DEVICE_HOST -s $DEVICE_ID\"\n",
    "$DEVICE_SHELL shell\n",
    "export LD_LIBRARY_PATH=$LD_LIBRARY_PATH:/data/local/tmp/snpeexample/aarch64-android/lib\n",
    "export PATH=$PATH:/data/local/tmp/snpeexample/aarch64-android/bin\n",
    "export OUTPUT_FOLDER=OUTPUT_8b_DSP\n",
    "export OUTPUT_DLC_QUANTIZED8=enlighten_w8a8.dlc\n",
    "export ADSP_LIBRARY_PATH=\"/data/local/tmp/snpeexample/dsp/lib;/system/lib/rfsa/adsp;/system/vendor/lib/rfsa/adsp;/dsp\"\n",
    "export ONDEVICE_FOLDER=\"EnhancementGAN_comparision\"\n",
    "cd /data/local/tmp/$ONDEVICE_FOLDER &&\n",
    "snpe-net-run --container $OUTPUT_DLC_QUANTIZED8 --input_list list.txt --output_dir $OUTPUT_FOLDER --use_dsp"
   ]
  },
  {
   "cell_type": "markdown",
   "id": "25c225c6",
   "metadata": {},
   "source": [
    "# Inferencing 32b DLC on CPU Runtime\n",
    "Give name of DLC in OUTPUT_DLC_32 and ondevice folder"
   ]
  },
  {
   "cell_type": "code",
   "execution_count": null,
   "id": "1a06d463",
   "metadata": {},
   "outputs": [],
   "source": [
    "%%bash\n",
    "export DEVICE_SHELL=\"adb -H $DEVICE_HOST -s $DEVICE_ID\"\n",
    "$DEVICE_SHELL shell\n",
    "export LD_LIBRARY_PATH=$LD_LIBRARY_PATH:/data/local/tmp/snpeexample/aarch64-android/lib\n",
    "export PATH=$PATH:/data/local/tmp/snpeexample/aarch64-android/bin\n",
    "export OUTPUT_FOLDER=OUTPUT_32b_CPU\n",
    "export OUTPUT_DLC_32=enlighten_fp32.dlc\n",
    "export ONDEVICE_FOLDER=\"EnhancementGAN_comparision\"\n",
    "cd /data/local/tmp/$ONDEVICE_FOLDER &&\n",
    "snpe-net-run --container $OUTPUT_DLC_32 --input_list list.txt --output_dir $OUTPUT_FOLDER"
   ]
  },
  {
   "cell_type": "markdown",
   "id": "ec8c1af8",
   "metadata": {},
   "source": [
    "# Pulling Output folder generated on different precision and cores"
   ]
  },
  {
   "cell_type": "code",
   "execution_count": null,
   "id": "f30dd986-8f19-4c6e-af5b-ee3baa446bcf",
   "metadata": {},
   "outputs": [],
   "source": [
    "%%bash\n",
    "rm -rf OUTPUT_8b_DSP\n",
    "rm -rf OUTPUT_32b_CPU"
   ]
  },
  {
   "cell_type": "code",
   "execution_count": null,
   "id": "3015b52c",
   "metadata": {},
   "outputs": [],
   "source": [
    "%%bash\n",
    "export DEVICE_SHELL=\"adb -H $DEVICE_HOST -s $DEVICE_ID\"\n",
    "$DEVICE_SHELL pull /data/local/tmp/$ONDEVICE_FOLDER/OUTPUT_8b_DSP OUTPUT_8b_DSP\n",
    "$DEVICE_SHELL pull /data/local/tmp/$ONDEVICE_FOLDER/OUTPUT_32b_CPU OUTPUT_32b_CPU"
   ]
  },
  {
   "cell_type": "markdown",
   "id": "8b3b27e6",
   "metadata": {},
   "source": [
    "# Calculate PSNR\n",
    "* Pass path of two raw image in Argument."
   ]
  },
  {
   "cell_type": "code",
   "execution_count": null,
   "id": "908e7a1c",
   "metadata": {},
   "outputs": [],
   "source": [
    "import math\n",
    "def compute_psnr(img_pred, img_true, data_range=255., eps=1e-8):\n",
    "    err = (img_pred - img_true) ** 2 \n",
    "    err = np.mean(err)\n",
    "    return 10. * math.log10((data_range ** 2) / (err + eps))"
   ]
  },
  {
   "cell_type": "code",
   "execution_count": null,
   "id": "ea26ceba",
   "metadata": {},
   "outputs": [],
   "source": [
    "def evaluate_average_psnr(el_images, hl_images): #(enhanced_light<model o/p>, high_light <groud_truth>)\n",
    "    psnr = []\n",
    "    for i in range(len(el_images)):\n",
    "        el_img = cv2.imread(el_images[i], 1)\n",
    "        hl_img = cv2.imread(hl_images[i], 1)\n",
    "        psnr.append(compute_psnr(el_img,hl_img))\n",
    "    average_psnr = np.mean(np.array(psnr))\n",
    "    return average_psnr"
   ]
  },
  {
   "cell_type": "code",
   "execution_count": null,
   "id": "e7cea900",
   "metadata": {},
   "outputs": [],
   "source": [
    "folder = [\"OUTPUT_32b_CPU\", \"OUTPUT_8b_DSP\"]\n",
    "from PIL import Image\n",
    "dict_folder_wise={}\n",
    "for j in range(0,len(folder)):\n",
    "    IMAGES_EL = []# EL: Enhanced Light (model output)\n",
    "    File_LL=[]\n",
    "    File_EL=[]\n",
    "    File_HL=[]\n",
    "    dict_folder_wise[str(folder[j])]=[]\n",
    "    for i in range(0,15):\n",
    "        # for prediction img\n",
    "        IMAGES_EL.append(post_process_enhanced(folder[j]+\"/Result_\"+str(i)+\"/output.raw\"))  \n",
    "        im = Image.fromarray(IMAGES_EL[i])\n",
    "        im.save(folder[j]+\"/Result_\"+str(i)+\"/prediction.jpeg\")\n",
    "        File_EL.append(folder[j]+\"/Result_\"+str(i)+\"/prediction.jpeg\")\n",
    "        \n",
    "        #for ground truth HL\n",
    "        im = Image.fromarray(IMAGES_HL[i])\n",
    "        im.save(folder[j]+\"/Result_\"+str(i)+\"/groundtruth_HL.jpeg\")\n",
    "        File_HL.append(folder[j]+\"/Result_\"+str(i)+\"/groundtruth_HL.jpeg\")\n",
    "        \n",
    "        #for ground truth LL\n",
    "        im = Image.fromarray(IMAGES_LL[i])\n",
    "        im.save(folder[j]+\"/Result_\"+str(i)+\"/groundtruth_LL.jpeg\")\n",
    "        File_LL.append(folder[j]+\"/Result_\"+str(i)+\"/groundtruth_LL.jpeg\")\n",
    "        dict_folder_wise[str(folder[j])].append([File_LL[i],File_HL[i],File_EL[i]])\n",
    "    print(folder[j],\" :: \",evaluate_average_psnr(File_EL,File_HL))\n",
    "    print(\"\\n============================\\n\")"
   ]
  },
  {
   "cell_type": "code",
   "execution_count": null,
   "id": "5466ed73-061f-4f67-85cf-85756ae79e7d",
   "metadata": {},
   "outputs": [],
   "source": [
    "import matplotlib.pyplot as plt\n",
    "from matplotlib.pyplot import figure, imshow, axis\n",
    "from matplotlib.image import imread\n",
    "import random as rand\n",
    "\n",
    "def showImagesHorizontally(majors,index):\n",
    "    fig, axs = plt.subplots(1, 4, figsize=(12,4))\n",
    "    for nn, ax in enumerate(axs.flat):\n",
    "        if nn<=2:\n",
    "            column = majors[nn]\n",
    "            column_rec_name = column.replace('\\n', '_').replace(' ', '_')\n",
    "            image = imread(majors[nn])\n",
    "            ax.set_xlabel(majors[nn].split(\"/\")[-1])\n",
    "        else:\n",
    "            image=imread(dict_folder_wise['OUTPUT_8b_DSP'][index][-1])\n",
    "            ax.set_xlabel(\"Prediction 8b\")\n",
    "        ax.imshow(image)\n",
    "        \n",
    "    fig.suptitle(\"Comparison Between Ground Truth and Prediction\", fontsize=16)\n",
    "    plt.show()\n",
    "\n",
    "for index in range(0,15):\n",
    "    showImagesHorizontally(dict_folder_wise['OUTPUT_32b_CPU'][index],index)"
   ]
  }
 ],
 "metadata": {
  "kernelspec": {
   "display_name": "Python 3 (ipykernel)",
   "language": "python",
   "name": "python3"
  },
  "language_info": {
   "codemirror_mode": {
    "name": "ipython",
    "version": 3
   },
   "file_extension": ".py",
   "mimetype": "text/x-python",
   "name": "python",
   "nbconvert_exporter": "python",
   "pygments_lexer": "ipython3",
   "version": "3.10.10"
  }
 },
 "nbformat": 4,
 "nbformat_minor": 5
}
