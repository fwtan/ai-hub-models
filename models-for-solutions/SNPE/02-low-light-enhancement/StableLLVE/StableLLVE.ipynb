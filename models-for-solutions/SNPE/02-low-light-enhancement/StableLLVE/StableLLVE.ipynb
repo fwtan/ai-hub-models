{
 "cells": [
  {
   "cell_type": "markdown",
   "id": "812369c8-d674-413d-8a2d-18979068925f",
   "metadata": {},
   "source": [
    "# Setting Up All Artifacts details"
   ]
  },
  {
   "cell_type": "code",
   "execution_count": null,
   "id": "6edfd9b8-50a1-4170-b53d-9f5b364dad5a",
   "metadata": {},
   "outputs": [],
   "source": [
    "## Give appropriate permission to the directory \"FOLDER_WITH_ARTIFACTS\" you are working with\n",
    "import os\n",
    "os.environ['SNPE_ROOT']=\"/local/mnt/workspace/qaisw-v2.15.1.230926150623_62883\"#set up your snpe path here.\n",
    "os.environ['RAW_FILE_FOLDER']=\"raw\"#rawfiles\n",
    "os.environ['FOLDER_WITH_ARTIFACTS']=\"StableLLVE\"\n",
    "os.environ['DLC32']=\"dlc/StableLLVE_fp32.dlc\"\n",
    "os.environ['DLC8']=\"dlc/StableLLVE_w8a8.dlc\"\n",
    "os.environ['TARGET_INPUT_LIST']=\"list.txt\"\n",
    "os.environ['ONDEVICE_FOLDER']=\"StableLLVE\"\n",
    "os.environ['DEVICE_HOST']=\"localhost\"\n",
    "os.environ['DEVICE_ID']=\"2dce6316\" #fill your device-id. Use command \"adb devices\" to get devices names. example :\"e18d5d0\"\n",
    "os.environ['SNPE_TARGET_ARCH']=\"aarch64-android\"\n",
    "os.environ['SNPE_TARGET_STL']=\"libc++_shared.so\""
   ]
  },
  {
   "cell_type": "code",
   "execution_count": null,
   "id": "51c72fa0-3922-450f-831a-d68db70dc8f0",
   "metadata": {},
   "outputs": [],
   "source": [
    "%%bash\n",
    "git clone https://github.com/zkawfanx/StableLLVE.git"
   ]
  },
  {
   "cell_type": "code",
   "execution_count": null,
   "id": "7ae819f8-1fa0-40f4-b1ab-c154c13ecee2",
   "metadata": {},
   "outputs": [],
   "source": [
    "%%bash\n",
    "cp generate_model.py StableLLVE/\n",
    "cd StableLLVE\n",
    "python generate_model.py"
   ]
  },
  {
   "cell_type": "markdown",
   "id": "76560005-18f9-4750-898a-8fd2d4380e48",
   "metadata": {},
   "source": [
    "#### Getting the Non Quantized DLC File"
   ]
  },
  {
   "cell_type": "code",
   "execution_count": null,
   "id": "e63fd5ba-38e3-42f3-ab0a-392a75956c3e",
   "metadata": {},
   "outputs": [],
   "source": [
    "%%bash\n",
    "source $SNPE_ROOT/bin/envsetup.sh\n",
    "snpe-onnx-to-dlc -i StableLLVE.onnx -o dlc/StableLLVE_fp32.dlc"
   ]
  },
  {
   "cell_type": "markdown",
   "id": "62ed60a5-c3c2-4db1-a205-6032b3fd5d1e",
   "metadata": {},
   "source": [
    "#### Understanding the Architecture of the Model"
   ]
  },
  {
   "cell_type": "code",
   "execution_count": null,
   "id": "a7e336db-7f3d-40e9-8287-749296815174",
   "metadata": {},
   "outputs": [],
   "source": [
    "%%bash \n",
    "source $SNPE_ROOT/bin/envsetup.sh\n",
    "snpe-dlc-viewer -i dlc/StableLLVE_fp32.dlc -s StableLLVE.html\n",
    "snpe-dlc-info -i dlc/StableLLVE_fp32.dlc>StableLLVE.txt"
   ]
  },
  {
   "cell_type": "markdown",
   "id": "0a668a89-dcf2-40b2-a04e-0a1dac9505f3",
   "metadata": {},
   "source": [
    "Use the dataset of your choice to validate the pre-processing, and post processing steps given in this notebook"
   ]
  },
  {
   "cell_type": "code",
   "execution_count": null,
   "id": "46cd1837-3628-4a43-aef4-0216dbe6c250",
   "metadata": {},
   "outputs": [],
   "source": [
    "def preprocess(ll_img, hl_img):\n",
    "    ll_img = np.array(ll_img, dtype='float32')\n",
    "    hl_img = np.array(hl_img, dtype='float32')   \n",
    "    ll_img = np.uint8(np.clip(ll_img, 0., 255.))  # this is to simulate matlab's imwrite operation\n",
    "    hl_img = np.uint8(np.clip(hl_img, 0., 255.))  # this is to simulate matlab's imwrite operation \n",
    "    ll_img = np.uint8(ll_img)\n",
    "    hl_img = np.uint8(hl_img)\n",
    "    ll_img = convert_image(ll_img, source='array', target='[0, 1]')\n",
    "    hl_img = convert_image(hl_img, source='array', target='[0, 1]')\n",
    "    return ll_img, hl_img"
   ]
  },
  {
   "cell_type": "markdown",
   "id": "43b9c217-3515-48c3-a627-e1abe008a8b0",
   "metadata": {},
   "source": [
    "## Preprocessing the data to generate raw file"
   ]
  },
  {
   "cell_type": "code",
   "execution_count": null,
   "id": "5b7394b5-be2e-49a6-a584-cf22a4e230c7",
   "metadata": {},
   "outputs": [],
   "source": [
    "def convert_image(img, source, target):\n",
    "    if source == 'array':\n",
    "        img = torch.from_numpy(img.transpose((2, 0, 1))).contiguous()#chw\n",
    "        img = img.to(dtype=torch.float32).div(255) \n",
    "    elif source == '[0, 1]':\n",
    "        img = torch.clamp(img, 0, 1)  # useful to post-process output of models that can overspill\n",
    "    \n",
    "    if target == '[0, 1]':\n",
    "        pass  # already in [0, 1]\n",
    "    return img"
   ]
  },
  {
   "cell_type": "code",
   "execution_count": null,
   "id": "5464e147-2fe8-4599-b414-449daabafc5b",
   "metadata": {},
   "outputs": [],
   "source": [
    "def post_process(img):\n",
    "    img = img.detach().cpu().numpy()\n",
    "    img = np.clip(255. * img, 0., 255.)\n",
    "    img = np.uint8(img)\n",
    "    img = img.transpose(1, 2, 0)#hwc\n",
    "    return img"
   ]
  },
  {
   "cell_type": "code",
   "execution_count": null,
   "id": "5d46939e-91f4-41e8-9893-428cca828e55",
   "metadata": {},
   "outputs": [],
   "source": [
    "def load_dataset(test_images_dir):\n",
    "    # Input images for the model\n",
    "    INPUTS_LL = []\n",
    "    # Post-processed images for visualization\n",
    "    IMAGES_LL = [] # LL:Low Light\n",
    "    IMAGES_HL = [] # HL:High Light\n",
    "\n",
    "    # Load the test images\n",
    "    count=0\n",
    "    for img_path in glob.glob(os.path.join(test_images_dir, '*')):\n",
    "        l_img = cv2.resize(cv2.imread(img_path),[480,640],interpolation=cv2.INTER_CUBIC)\n",
    "        l_img = cv2.cvtColor(l_img, cv2.COLOR_BGR2RGB)\n",
    "        \n",
    "        h_img = cv2.resize(cv2.imread(img_path.replace(\"low\",\"high\")),[480,640],interpolation=cv2.INTER_CUBIC)\n",
    "        h_img = cv2.cvtColor(h_img, cv2.COLOR_BGR2RGB)\n",
    "        \n",
    "        ll_img, hl_img = preprocess(l_img, h_img)#chw\n",
    "\n",
    "        INPUTS_LL.append(ll_img)#chw\n",
    "        IMAGES_LL.append(post_process(ll_img))#hwc\n",
    "        IMAGES_HL.append(post_process(hl_img))#hwc\n",
    "    return INPUTS_LL, IMAGES_LL, IMAGES_HL"
   ]
  },
  {
   "cell_type": "markdown",
   "id": "383721cd-2990-4bae-ac71-25ee362be4f6",
   "metadata": {},
   "source": [
    "**Converting the low dataset to raw file format to give it to the model and do the inference**"
   ]
  },
  {
   "cell_type": "code",
   "execution_count": null,
   "id": "45863450-b505-439e-86ec-0b9051fafc9c",
   "metadata": {},
   "outputs": [],
   "source": [
    "os.makedirs('raw', exist_ok=True)"
   ]
  },
  {
   "cell_type": "code",
   "execution_count": null,
   "id": "a143f8f0-4293-4421-a161-5d7baeed945a",
   "metadata": {},
   "outputs": [],
   "source": [
    "import glob\n",
    "import os\n",
    "import cv2\n",
    "import numpy as np\n",
    "import torch\n",
    "\n",
    "test_images_dir = \"eval15/low\"\n",
    "INPUTS_LL, IMAGES_LL, IMAGES_HL = load_dataset(test_images_dir)\n",
    "print(len(INPUTS_LL),len(IMAGES_LL),len(IMAGES_HL))\n",
    "for i, img_ll in enumerate(INPUTS_LL):\n",
    "    img_ll = img_ll.cpu().detach().numpy()\n",
    "    img_ll = img_ll.astype(np.float32)\n",
    "    fid = open(\"raw/img_\"+str(i)+ \".raw\", 'wb')\n",
    "    img_ll.tofile(fid)\n",
    "    fid.close()"
   ]
  },
  {
   "cell_type": "code",
   "execution_count": null,
   "id": "bb1240ff-32b4-43d1-9d66-51daa84912d0",
   "metadata": {},
   "outputs": [],
   "source": [
    "def post_process_enhanced(img):\n",
    "    img = np.fromfile(img, np.float32)\n",
    "    img = img.reshape((3,640,480)).astype(np.float32)\n",
    "    img = np.clip(img* 255. , 0., 255.)\n",
    "    img = np.uint8(img)\n",
    "    img = img.transpose(1, 2, 0)#hwc\n",
    "    return img"
   ]
  },
  {
   "cell_type": "markdown",
   "id": "cf7caf62-b968-49c1-bd37-1f47e8e294f1",
   "metadata": {},
   "source": [
    "#### Getting the Quantized Model"
   ]
  },
  {
   "cell_type": "code",
   "execution_count": null,
   "id": "7b82cb89-9a4f-4765-8768-95f9cad70b3c",
   "metadata": {},
   "outputs": [],
   "source": [
    "total_iter = 15\n",
    "print(\"Generating input_list \\\"small_raw_list.txt\\\" with {} iterations\".format(total_iter))\n",
    "with open(\"list.txt\",'w') as f:\n",
    "    for i in range(total_iter):\n",
    "        f.write(\"raw/img_{}.raw\\n\".format(i))"
   ]
  },
  {
   "cell_type": "code",
   "execution_count": null,
   "id": "1b935f71-2506-4b8b-8b34-a3bdb1d64064",
   "metadata": {},
   "outputs": [],
   "source": [
    "%%bash\n",
    "source $SNPE_ROOT/bin/envsetup.sh\n",
    "snpe-dlc-quantize --input_dlc dlc/StableLLVE_fp32.dlc --input_list list.txt --use_enhanced_quantizer --use_adjusted_weights_quantizer --axis_quant --output_dlc dlc/StableLLVE_w8a8.dlc --enable_htp --htp_socs sm8550"
   ]
  },
  {
   "cell_type": "markdown",
   "id": "70efadeb-6a42-459d-a65d-80b8585209da",
   "metadata": {},
   "source": [
    "## Model Inference"
   ]
  },
  {
   "cell_type": "code",
   "execution_count": null,
   "id": "6285c5cb-d3ba-40d5-ad37-4e9ed9825248",
   "metadata": {},
   "outputs": [],
   "source": [
    "%%bash\n",
    "export DEVICE_SHELL=\"adb -H $DEVICE_HOST -s $DEVICE_ID\"\n",
    "$DEVICE_SHELL shell \"mkdir -p /data/local/tmp/snpeexample/$SNPE_TARGET_ARCH/bin\" && $DEVICE_SHELL shell \"mkdir -p /data/local/tmp/snpeexample/$SNPE_TARGET_ARCH/lib\" && $DEVICE_SHELL shell \"mkdir -p /data/local/tmp/snpeexample/dsp/lib\""
   ]
  },
  {
   "cell_type": "code",
   "execution_count": null,
   "id": "76335d80-0f60-46b4-9825-92f39ab38d14",
   "metadata": {},
   "outputs": [],
   "source": [
    "%%bash\n",
    "export DEVICE_SHELL=\"adb -H $DEVICE_HOST -s $DEVICE_ID\"\n",
    "$DEVICE_SHELL push $SNPE_ROOT/lib/$SNPE_TARGET_ARCH/$SNPE_TARGET_STL /data/local/tmp/snpeexample/$SNPE_TARGET_ARCH/lib\n",
    "$DEVICE_SHELL push $SNPE_ROOT/bin/$SNPE_TARGET_ARCH/snpe-net-run /data/local/tmp/snpeexample/$SNPE_TARGET_ARCH/bin\n",
    "$DEVICE_SHELL push $SNPE_ROOT/lib/hexagon-v75/unsigned/*.so /data/local/tmp/snpeexample/dsp/lib\n",
    "$DEVICE_SHELL push $SNPE_ROOT/lib/$SNPE_TARGET_ARCH/*.so /data/local/tmp/snpeexample/$SNPE_TARGET_ARCH/lib"
   ]
  },
  {
   "cell_type": "code",
   "execution_count": null,
   "id": "041088db-cbef-4fe7-9797-c4928a5e2ff9",
   "metadata": {},
   "outputs": [],
   "source": [
    "%%bash\n",
    "export DEVICE_SHELL=\"adb -H $DEVICE_HOST -s $DEVICE_ID\"\n",
    "$DEVICE_SHELL shell \"mkdir -p /data/local/tmp/$ONDEVICE_FOLDER\""
   ]
  },
  {
   "cell_type": "code",
   "execution_count": null,
   "id": "5bc11881-6c24-4b04-80fe-f7ce4e2d8508",
   "metadata": {},
   "outputs": [],
   "source": [
    "%%bash\n",
    "export DEVICE_SHELL=\"adb -H $DEVICE_HOST -s $DEVICE_ID\"\n",
    "$DEVICE_SHELL push $DLC32 /data/local/tmp/$ONDEVICE_FOLDER\n",
    "$DEVICE_SHELL push $DLC8 /data/local/tmp/$ONDEVICE_FOLDER\n",
    "$DEVICE_SHELL push raw /data/local/tmp/$ONDEVICE_FOLDER\n",
    "$DEVICE_SHELL push $TARGET_INPUT_LIST /data/local/tmp/$ONDEVICE_FOLDER"
   ]
  },
  {
   "cell_type": "markdown",
   "id": "83246ab3-eec9-4484-8e75-0438d699fd24",
   "metadata": {},
   "source": [
    "#### Inferencing the Quantized Model"
   ]
  },
  {
   "cell_type": "code",
   "execution_count": null,
   "id": "66cf75f2-91fd-4193-b62c-ac4e65b55e0f",
   "metadata": {},
   "outputs": [],
   "source": [
    "%%bash\n",
    "export DEVICE_SHELL=\"adb -H $DEVICE_HOST -s $DEVICE_ID\"\n",
    "$DEVICE_SHELL shell\n",
    "export LD_LIBRARY_PATH=$LD_LIBRARY_PATH:/data/local/tmp/snpeexample/aarch64-android/lib\n",
    "export PATH=$PATH:/data/local/tmp/snpeexample/aarch64-android/bin\n",
    "export OUTPUT_FOLDER=OUTPUT_8b_DSP\n",
    "export OUTPUT_DLC_QUANTIZED8=StableLLVE_w8a8.dlc\n",
    "export ADSP_LIBRARY_PATH=\"/data/local/tmp/snpeexample/dsp/lib;/system/lib/rfsa/adsp;/system/vendor/lib/rfsa/adsp;/dsp\"\n",
    "export ONDEVICE_FOLDER=\"StableLLVE\"\n",
    "cd /data/local/tmp/$ONDEVICE_FOLDER &&\n",
    "snpe-net-run --container $OUTPUT_DLC_QUANTIZED8 --input_list list.txt --output_dir $OUTPUT_FOLDER --use_dsp"
   ]
  },
  {
   "cell_type": "markdown",
   "id": "25c7d5cc-10be-4c65-a7dc-bb7063e94c62",
   "metadata": {},
   "source": [
    "#### Inferencing the Non-Quantized Model"
   ]
  },
  {
   "cell_type": "code",
   "execution_count": null,
   "id": "00018b15-f86e-45d6-ab4e-29323dcf50f8",
   "metadata": {},
   "outputs": [],
   "source": [
    "%%bash\n",
    "export DEVICE_SHELL=\"adb -H $DEVICE_HOST -s $DEVICE_ID\"\n",
    "$DEVICE_SHELL shell\n",
    "export LD_LIBRARY_PATH=$LD_LIBRARY_PATH:/data/local/tmp/snpeexample/aarch64-android/lib\n",
    "export PATH=$PATH:/data/local/tmp/snpeexample/aarch64-android/bin\n",
    "export OUTPUT_FOLDER=OUTPUT_32b_CPU\n",
    "export OUTPUT_DLC_32=StableLLVE_fp32.dlc\n",
    "export ONDEVICE_FOLDER=\"StableLLVE\"\n",
    "cd /data/local/tmp/$ONDEVICE_FOLDER &&\n",
    "snpe-net-run --container $OUTPUT_DLC_32 --input_list list.txt  --output_dir $OUTPUT_FOLDER"
   ]
  },
  {
   "cell_type": "code",
   "execution_count": null,
   "id": "daf30cd9-1f84-4cc0-8ea0-fd5615bdd4f7",
   "metadata": {},
   "outputs": [],
   "source": [
    "%%bash\n",
    "rm -rf OUTPUT_8b_DSP\n",
    "rm -rf OUTPUT_32b_CPU"
   ]
  },
  {
   "cell_type": "markdown",
   "id": "7136946e-da34-4a68-b361-f8707bd9e0e4",
   "metadata": {},
   "source": [
    "#### Pulling the Output"
   ]
  },
  {
   "cell_type": "code",
   "execution_count": null,
   "id": "e3f2ad57-17fd-4da4-8184-abfe052359fb",
   "metadata": {},
   "outputs": [],
   "source": [
    "%%bash\n",
    "export DEVICE_SHELL=\"adb -H $DEVICE_HOST -s $DEVICE_ID\"\n",
    "$DEVICE_SHELL pull /data/local/tmp/$ONDEVICE_FOLDER/OUTPUT_8b_DSP OUTPUT_8b_DSP\n",
    "$DEVICE_SHELL pull /data/local/tmp/$ONDEVICE_FOLDER/OUTPUT_32b_CPU OUTPUT_32b_CPU"
   ]
  },
  {
   "cell_type": "markdown",
   "id": "b2aab437-c5a8-456d-ac30-403f74380eb6",
   "metadata": {},
   "source": [
    "### Post Processing and Calculating PSNR Value"
   ]
  },
  {
   "cell_type": "code",
   "execution_count": null,
   "id": "279b123a-9c33-4833-8de0-34943927f1a2",
   "metadata": {},
   "outputs": [],
   "source": [
    "import math\n",
    "def compute_psnr(img_pred, img_true, data_range=255., eps=1e-8):\n",
    "    err = (img_pred - img_true) ** 2 \n",
    "    err = np.mean(err)\n",
    "    return 10. * math.log10((data_range ** 2) / (err + eps))"
   ]
  },
  {
   "cell_type": "code",
   "execution_count": null,
   "id": "0a180675-6ffc-4c6c-a73a-2014b4c72c3c",
   "metadata": {},
   "outputs": [],
   "source": [
    "def evaluate_average_psnr(el_images, hl_images): #(enhanced_light<model o/p>, high_light <groud_truth>)\n",
    "    psnr = []\n",
    "    for i in range(len(el_images)):\n",
    "        el_img = cv2.imread(el_images[i], 1)\n",
    "        hl_img = cv2.imread(hl_images[i], 1)\n",
    "        psnr.append(compute_psnr(el_img,hl_img))\n",
    "    average_psnr = np.mean(np.array(psnr))\n",
    "    return average_psnr"
   ]
  },
  {
   "cell_type": "code",
   "execution_count": null,
   "id": "fa0ccd13-8824-4237-94dd-c406811e25be",
   "metadata": {
    "scrolled": true
   },
   "outputs": [],
   "source": [
    "folder = [\"OUTPUT_32b_CPU\", \"OUTPUT_8b_DSP\"]\n",
    "from PIL import Image\n",
    "dict_folder_wise={}\n",
    "for j in range(0,len(folder)):\n",
    "    IMAGES_EL = []# EL: Enhanced Light (model output)\n",
    "    File_LL=[]\n",
    "    File_EL=[]\n",
    "    File_HL=[]\n",
    "    dict_folder_wise[str(folder[j])]=[]\n",
    "    for i in range(0,15):\n",
    "        # for prediction img\n",
    "        IMAGES_EL.append(post_process_enhanced(folder[j]+\"/Result_\"+str(i)+\"/363.raw\"))  \n",
    "        im = Image.fromarray(IMAGES_EL[i])\n",
    "        im.save(folder[j]+\"/Result_\"+str(i)+\"/prediction.jpeg\")\n",
    "        File_EL.append(folder[j]+\"/Result_\"+str(i)+\"/prediction.jpeg\")\n",
    "        \n",
    "        #for ground truth HL\n",
    "        im = Image.fromarray(IMAGES_HL[i])\n",
    "        im.save(folder[j]+\"/Result_\"+str(i)+\"/groundtruth_HL.jpeg\")\n",
    "        File_HL.append(folder[j]+\"/Result_\"+str(i)+\"/groundtruth_HL.jpeg\")\n",
    "        \n",
    "        #for ground truth LL\n",
    "        im = Image.fromarray(IMAGES_LL[i])\n",
    "        im.save(folder[j]+\"/Result_\"+str(i)+\"/groundtruth_LL.jpeg\")\n",
    "        File_LL.append(folder[j]+\"/Result_\"+str(i)+\"/groundtruth_LL.jpeg\")\n",
    "        dict_folder_wise[str(folder[j])].append([File_LL[i],File_HL[i],File_EL[i]])\n",
    "    print(folder[j],\" :: \",evaluate_average_psnr(File_EL,File_HL))\n",
    "    print(\"\\n============================\\n\")"
   ]
  },
  {
   "cell_type": "markdown",
   "id": "0be9fd7f-0436-4e8c-abd9-100be31845b4",
   "metadata": {},
   "source": [
    "### Comaparison of Output between Non Quantized Model and Quantized Model"
   ]
  },
  {
   "cell_type": "code",
   "execution_count": null,
   "id": "302a0fd6-f69f-4e2e-a3ee-14895246c404",
   "metadata": {},
   "outputs": [],
   "source": [
    "import matplotlib.pyplot as plt\n",
    "from matplotlib.pyplot import figure, imshow, axis\n",
    "from matplotlib.image import imread\n",
    "import random as rand\n",
    "\n",
    "def showImagesHorizontally(majors,index):\n",
    "    fig, axs = plt.subplots(1, 4, figsize=(12,4))\n",
    "    for nn, ax in enumerate(axs.flat):\n",
    "        if nn<=2:\n",
    "            column = majors[nn]\n",
    "            column_rec_name = column.replace('\\n', '_').replace(' ', '_')\n",
    "            image = imread(majors[nn])\n",
    "            ax.set_xlabel(majors[nn].split(\"/\")[-1])\n",
    "        else:\n",
    "            image=imread(dict_folder_wise['OUTPUT_8b_DSP'][index][-1])\n",
    "            ax.set_xlabel(\"Prediction 8b\")\n",
    "        ax.imshow(image)\n",
    "        \n",
    "    fig.suptitle(\"Comparison Between Ground Truth and Prediction\", fontsize=16)\n",
    "    plt.show()\n",
    "\n",
    "for index in range(0,15):\n",
    "    showImagesHorizontally(dict_folder_wise['OUTPUT_32b_CPU'][index],index)"
   ]
  },
  {
   "cell_type": "code",
   "execution_count": null,
   "id": "b69ac507-97f6-423e-a242-8cd936f19801",
   "metadata": {},
   "outputs": [],
   "source": []
  }
 ],
 "metadata": {
  "kernelspec": {
   "display_name": "Python 3 (ipykernel)",
   "language": "python",
   "name": "python3"
  },
  "language_info": {
   "codemirror_mode": {
    "name": "ipython",
    "version": 3
   },
   "file_extension": ".py",
   "mimetype": "text/x-python",
   "name": "python",
   "nbconvert_exporter": "python",
   "pygments_lexer": "ipython3",
   "version": "3.10.10"
  }
 },
 "nbformat": 4,
 "nbformat_minor": 5
}
