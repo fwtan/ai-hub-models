{
 "cells": [
  {
   "cell_type": "markdown",
   "id": "da0b6f27-ce33-44c3-ae37-dbc170ce31ce",
   "metadata": {},
   "source": [
    "#### Installing Necessary Libraries"
   ]
  },
  {
   "cell_type": "code",
   "execution_count": null,
   "id": "81d0d960-ed61-475f-bb1c-0f78d6145636",
   "metadata": {},
   "outputs": [],
   "source": [
    "!pip3 install scikit-learn\n",
    "!pip3 install bokeh\n",
    "!pip3 install torchvision==0.9.0\n",
    "!pip3 install scikit-learn\n",
    "!pip3 install torch==1.8.0\n",
    "!pip3 install onnx==1.8.1\n",
    "!pip3 install onnxruntime==1.7.0\n",
    "!pip3 install vizer\n",
    "!pip3 install yacs"
   ]
  },
  {
   "cell_type": "markdown",
   "id": "aa6c9fd6-d8ed-4338-8dec-83341654d51e",
   "metadata": {},
   "source": [
    "#### Importing Libraries"
   ]
  },
  {
   "cell_type": "code",
   "execution_count": null,
   "id": "3c977b77-b812-4536-92a8-2d3bb1c76efb",
   "metadata": {},
   "outputs": [],
   "source": [
    "import cv2\n",
    "import glob\n",
    "import os\n",
    "import numpy as np\n",
    "from PIL import Image\n",
    "import re\n",
    "import matplotlib.image as mpimg\n",
    "import matplotlib.pyplot as plt\n",
    "import cv2\n",
    "import glob\n",
    "import os\n",
    "import numpy as np\n",
    "from PIL import Image\n",
    "import re\n",
    "import matplotlib.image as mpimg\n",
    "import matplotlib.pyplot as plt\n",
    "import torch\n",
    "import sklearn\n",
    "from bokeh import plotting\n",
    "from numpy.linalg import norm\n",
    "from sklearn.metrics.pairwise import cosine_similarity\n",
    "from sklearn.metrics import mean_squared_error\n",
    "import math\n",
    "from IPython.display import Image, display"
   ]
  },
  {
   "cell_type": "markdown",
   "id": "4aa6564c-97f2-4fb9-8a30-9805c9d01697",
   "metadata": {},
   "source": [
    "## Getting the dataset\n"
   ]
  },
  {
   "cell_type": "code",
   "execution_count": null,
   "id": "c52d3e5c-f5ee-4650-9816-4632bc6e260b",
   "metadata": {},
   "outputs": [],
   "source": [
    "# User needs to download the dataset of their choice. "
   ]
  },
  {
   "cell_type": "markdown",
   "id": "619b2ab6-2994-42ab-85b7-501a582dc913",
   "metadata": {},
   "source": [
    "## Getting The Model"
   ]
  },
  {
   "cell_type": "markdown",
   "id": "ed303842-9d2c-49af-bbe8-cfb15ff57211",
   "metadata": {},
   "source": [
    "### Clonning the repo and getting the onnx model"
   ]
  },
  {
   "cell_type": "code",
   "execution_count": null,
   "id": "8e547f22-fdca-4fbc-924d-025065f0b070",
   "metadata": {},
   "outputs": [],
   "source": [
    "%%bash\n",
    "git clone https://github.com/lufficc/SSD.git\n",
    "cd SSD/\n",
    "git reset --hard 68dc0a20efaf3997e58b616afaaaa21bf8ca3c05\n",
    "wget https://github.com/lufficc/SSD/releases/download/1.2/mobilenet_v2_ssd320_voc0712_v2.pth"
   ]
  },
  {
   "cell_type": "code",
   "execution_count": null,
   "id": "de134e1a-594b-4ad9-9df8-a3c23044b463",
   "metadata": {},
   "outputs": [],
   "source": [
    "command1=\"cp utils/changes_on_top_without_ABP-NMS.patch SSD/;cd SSD;patch -p1 < ./changes_on_top_without_ABP-NMS.patch;python demo.py --config-file configs/mobilenet_v2_ssd320_voc0712.yaml --images_dir demo  --ckpt mobilenet_v2_ssd320_voc0712_v2.pth\"\n",
    "os.system(command1)\n"
   ]
  },
  {
   "cell_type": "code",
   "execution_count": null,
   "id": "ed2436e1-5790-4f46-8598-fd2235ab1221",
   "metadata": {},
   "outputs": [],
   "source": [
    "command2=\"cd SSD;cp ssd_mobilenetV2_without_ABP-NMS.onnx ../\"\n",
    "os.system(command2)"
   ]
  },
  {
   "cell_type": "markdown",
   "id": "82da456c-d748-4374-ad82-1da014d87954",
   "metadata": {},
   "source": [
    "### Getting the DLC Model"
   ]
  },
  {
   "cell_type": "code",
   "execution_count": null,
   "id": "61b04f79-c0f4-41a5-9f96-2a7b886628c6",
   "metadata": {},
   "outputs": [],
   "source": [
    "%%bash\n",
    "snpe-onnx-to-dlc -i ssd_mobilenetV2_without_ABP-NMS.onnx -o ssd_mobilenetV2_without_ABP-NMS_fp32.dlc --quantization_overrides encoding_format.encodings "
   ]
  },
  {
   "cell_type": "markdown",
   "id": "f54e040a-6837-4301-a5af-4c2a2bbab0a7",
   "metadata": {},
   "source": [
    "#### Architecture of The SSD-MobileNet-V2 Model\n",
    "*Please Check From the Below File Path the Architecture*"
   ]
  },
  {
   "cell_type": "code",
   "execution_count": null,
   "id": "290312f8-6c96-45f4-92a8-5a3a989e3589",
   "metadata": {},
   "outputs": [],
   "source": [
    "%%bash\n",
    "snpe-dlc-viewer -i ssd_mobilenetV2_without_ABP-NMS_fp32.dlc -s ssd_mobilenetV2_without_ABP-NMS_fp32.html"
   ]
  },
  {
   "cell_type": "markdown",
   "id": "8464804a-d310-4396-af43-90972e4bebe6",
   "metadata": {},
   "source": [
    "### Preprocessing the image"
   ]
  },
  {
   "cell_type": "code",
   "execution_count": null,
   "id": "4c92e3b9-93cb-46f7-9456-007451f6d379",
   "metadata": {},
   "outputs": [],
   "source": [
    "class Compose(object):\n",
    "    def __init__(self, transforms):\n",
    "        self.transforms = transforms\n",
    "\n",
    "    def __call__(self, img, boxes=None, labels=None):\n",
    "        for t in self.transforms:\n",
    "            img, boxes, labels = t(img, boxes, labels)\n",
    "            if boxes is not None:\n",
    "                boxes, labels = remove_empty_boxes(boxes, labels)\n",
    "        return img, boxes, labels\n",
    "\n",
    "class SubtractMeans(object):\n",
    "    def __init__(self, mean):\n",
    "        self.mean = np.array(mean, dtype=np.float32)\n",
    "\n",
    "    def __call__(self, image, boxes=None, labels=None):\n",
    "        image = image.astype(np.float32)\n",
    "        image -= self.mean\n",
    "        return image.astype(np.float32), boxes, labels\n",
    "\n",
    "class Resize(object):\n",
    "    def __init__(self, size=300):\n",
    "        self.size = size\n",
    "    def __call__(self, image, boxes=None, labels=None):\n",
    "        image = cv2.resize(image, (self.size,\n",
    "                                   self.size))\n",
    "        return image, boxes, labels\n",
    "\n",
    "def build_transforms(IMAGE_SIZE = 300, PIXEL_MEAN = [123, 117, 104]):\n",
    "    transform = [\n",
    "        Resize(IMAGE_SIZE), #300\n",
    "        SubtractMeans(PIXEL_MEAN), #[123, 117, 104]\n",
    "    ]\n",
    "    transform = Compose(transform)\n",
    "    return transform\n",
    "\n",
    "def load_img(img):\n",
    "    image_bgr = cv2.imread(img, cv2.IMREAD_COLOR)\n",
    "    image_rgb = cv2.cvtColor(image_bgr, cv2.COLOR_BGR2RGB)\n",
    "    height, width, _ = image_rgb.shape\n",
    "    transforms = build_transforms(IMAGE_SIZE = 320, PIXEL_MEAN = [123, 117, 104])\n",
    "    images = transforms(image_rgb)[0]\n",
    "    images = np.ascontiguousarray(images)\n",
    "    return images"
   ]
  },
  {
   "cell_type": "code",
   "execution_count": null,
   "id": "478dff7f-7004-4414-a87e-ad72d37f0129",
   "metadata": {},
   "outputs": [],
   "source": [
    "import cv2\n",
    "import numpy as np\n",
    "import os\n",
    "def detect(imgfile,i):\n",
    "    img= load_img(imgfile)\n",
    "    img.tofile(\"raw/\"+filenames[i].split(\".\")[0]+\".raw\")\n",
    "    \n",
    "filenames = os.listdir(\"val2017\")\n",
    "for i in range(0,len(filenames)):\n",
    "    if \"jpg\" in filenames[i].lower():\n",
    "        detect(\"val2017/\"+filenames[i],i)\n",
    "    else:\n",
    "        print(\"Could not get this image pre-processed\")\n",
    "        print(\" ==> filename :: \",filenames[i].lower())"
   ]
  },
  {
   "cell_type": "code",
   "execution_count": null,
   "id": "acdfe576-a083-4581-a3dc-ff0e964ecba1",
   "metadata": {},
   "outputs": [],
   "source": [
    "%%bash\n",
    "find ./raw -name *.raw > list.txt"
   ]
  },
  {
   "cell_type": "markdown",
   "id": "c2d1b62c-71c5-4915-8cfc-bc12080b4cdc",
   "metadata": {},
   "source": [
    "#### Quantizing the DLC Model"
   ]
  },
  {
   "cell_type": "code",
   "execution_count": null,
   "id": "2ba82fb8-a27d-4f32-a93d-01c6f1a68b4d",
   "metadata": {},
   "outputs": [],
   "source": [
    "%%bash\n",
    "snpe-dlc-quantize --input_dlc ssd_mobilenetV2_without_ABP-NMS_fp32.dlc  --override_params --optimization cle --input_list list.txt --use_enhanced_quantizer --use_adjusted_weights_quantizer --axis_quant --output_dlc ssd_mobilenetV2_without_ABP-NMS_a8w8.dlc --enable_htp --htp_socs sm8550"
   ]
  },
  {
   "cell_type": "markdown",
   "id": "5d1b147e-b32a-4a62-a5ce-259af3f39083",
   "metadata": {},
   "source": [
    "## Running The DLC Model"
   ]
  },
  {
   "cell_type": "code",
   "execution_count": null,
   "id": "9f7498cc-477f-4fd2-823c-19253feab4a9",
   "metadata": {},
   "outputs": [],
   "source": [
    "%%bash\n",
    "cd ../../../../snpe/qaisw-v2.15.1.230926150623_62883\n",
    "adb devices"
   ]
  },
  {
   "cell_type": "code",
   "execution_count": null,
   "id": "673c235c-cea9-42f3-a130-4fddd496dcf8",
   "metadata": {},
   "outputs": [],
   "source": [
    "## Give appropriate permission to the directory \"FOLDER_WITH_ARTIFACTS\" you are working with\n",
    "import os\n",
    "os.environ['SNPE_ROOT']=\"../../../../snpe/qaisw-v2.15.1.230926150623_62883\"#set up your snpe path here.\n",
    "os.environ['RAW_FILE_FOLDER']=\"raw\"#rawfiles\n",
    "os.environ['FOLDER_WITH_ARTIFACTS']=\"SSD_MobileNetV2\"\n",
    "os.environ['DLC32']=\"ssd_mobilenetV2_without_ABP-NMS_fp32.dlc\"\n",
    "os.environ['DLC8']=\"ssd_mobilenetV2_without_ABP-NMS_a8w8.dlc\"\n",
    "os.environ['TARGET_INPUT_LIST']=\"list.txt\"\n",
    "os.environ['ONDEVICE_FOLDER']=\"SSD_MobileNetV2\"\n",
    "os.environ['DEVICE_HOST']=\"localhost\"\n",
    "os.environ['DEVICE_ID']=\"389c94f8\" #fill your device-id. Use command \"adb devices\" to get devices names. example :\"e18d5d0\"\n",
    "os.environ['SNPE_TARGET_ARCH']=\"aarch64-android\"\n",
    "os.environ['SNPE_TARGET_STL']=\"libc++_shared.so\""
   ]
  },
  {
   "cell_type": "markdown",
   "id": "d86717c3-7f51-4f94-84a4-090359d08f49",
   "metadata": {},
   "source": [
    "#### Creating Bin and Lib Folder on Device"
   ]
  },
  {
   "cell_type": "code",
   "execution_count": null,
   "id": "e52ea798-55ce-4af7-966b-14cc22b12318",
   "metadata": {},
   "outputs": [],
   "source": [
    "%%bash\n",
    "export DEVICE_SHELL=\"adb -H $DEVICE_HOST -s $DEVICE_ID\"\n",
    "$DEVICE_SHELL shell \"mkdir -p /data/local/tmp/snpeexample/$SNPE_TARGET_ARCH/bin\" && $DEVICE_SHELL shell \"mkdir -p /data/local/tmp/snpeexample/$SNPE_TARGET_ARCH/lib\" && $DEVICE_SHELL shell \"mkdir -p /data/local/tmp/snpeexample/dsp/lib\""
   ]
  },
  {
   "cell_type": "markdown",
   "id": "9cc00ffe-a95f-4c8a-add4-f8405dad3bf6",
   "metadata": {},
   "source": [
    "### Pushing all Lib and Bin files onto Device"
   ]
  },
  {
   "cell_type": "code",
   "execution_count": null,
   "id": "60e63e06-fac3-4d1f-856d-a08da815dc8b",
   "metadata": {},
   "outputs": [],
   "source": [
    "%%bash\n",
    "export DEVICE_SHELL=\"adb -H $DEVICE_HOST -s $DEVICE_ID\"\n",
    "$DEVICE_SHELL push $SNPE_ROOT/lib/$SNPE_TARGET_ARCH/$SNPE_TARGET_STL /data/local/tmp/snpeexample/$SNPE_TARGET_ARCH/lib\n",
    "$DEVICE_SHELL push $SNPE_ROOT/bin/$SNPE_TARGET_ARCH/snpe-net-run /data/local/tmp/snpeexample/$SNPE_TARGET_ARCH/bin\n",
    "$DEVICE_SHELL push $SNPE_ROOT/lib/hexagon-v73/unsigned/*.so /data/local/tmp/snpeexample/dsp/lib\n",
    "$DEVICE_SHELL push $SNPE_ROOT/lib/$SNPE_TARGET_ARCH/*.so /data/local/tmp/snpeexample/$SNPE_TARGET_ARCH/lib"
   ]
  },
  {
   "cell_type": "markdown",
   "id": "f05ef4ec-1a1d-484e-a223-3b579b9d1b19",
   "metadata": {},
   "source": [
    "### Pushing Artifacts on to Device"
   ]
  },
  {
   "cell_type": "code",
   "execution_count": null,
   "id": "3265be37-824e-44b0-8435-fdd83366cf85",
   "metadata": {},
   "outputs": [],
   "source": [
    "%%bash\n",
    "export DEVICE_SHELL=\"adb -H $DEVICE_HOST -s $DEVICE_ID\"\n",
    "$DEVICE_SHELL shell \"mkdir -p /data/local/tmp/$ONDEVICE_FOLDER\""
   ]
  },
  {
   "cell_type": "code",
   "execution_count": null,
   "id": "742b3952-e121-4164-8a1f-cdddb68dfa86",
   "metadata": {},
   "outputs": [],
   "source": [
    "%%bash\n",
    "\n",
    "export DEVICE_SHELL=\"adb -H $DEVICE_HOST -s $DEVICE_ID\"\n",
    "$DEVICE_SHELL push $DLC32 /data/local/tmp/$ONDEVICE_FOLDER\n",
    "$DEVICE_SHELL push $DLC8 /data/local/tmp/$ONDEVICE_FOLDER\n",
    "$DEVICE_SHELL push raw /data/local/tmp/$ONDEVICE_FOLDER\n",
    "$DEVICE_SHELL push $TARGET_INPUT_LIST /data/local/tmp/$ONDEVICE_FOLDER"
   ]
  },
  {
   "cell_type": "markdown",
   "id": "455048aa-b8f5-4893-a5b2-d6b502fc2503",
   "metadata": {},
   "source": [
    "### Inferencing 8 bit DLC on DSP Runtime\n"
   ]
  },
  {
   "cell_type": "code",
   "execution_count": null,
   "id": "93745257-4f3c-411a-98ed-c2af07755ad4",
   "metadata": {},
   "outputs": [],
   "source": [
    "%%bash\n",
    "export DEVICE_SHELL=\"adb -H $DEVICE_HOST -s $DEVICE_ID\"\n",
    "$DEVICE_SHELL shell\n",
    "export LD_LIBRARY_PATH=$LD_LIBRARY_PATH:/data/local/tmp/snpeexample/aarch64-android/lib\n",
    "export PATH=$PATH:/data/local/tmp/snpeexample/aarch64-android/bin\n",
    "export OUTPUT_FOLDER=OUTPUT_8b_DSP\n",
    "export OUTPUT_DLC_QUANTIZED8=ssd_mobilenetV2_without_ABP-NMS_a8w8.dlc\n",
    "export ADSP_LIBRARY_PATH=\"/data/local/tmp/snpeexample/dsp/lib;/system/lib/rfsa/adsp;/system/vendor/lib/rfsa/adsp;/dsp\"\n",
    "export ONDEVICE_FOLDER=\"SSD_MobileNetV2\"\n",
    "cd /data/local/tmp/$ONDEVICE_FOLDER &&\n",
    "snpe-net-run --container $OUTPUT_DLC_QUANTIZED8 --input_list list.txt --set_output_tensors 935,986 --output_dir $OUTPUT_FOLDER --use_dsp"
   ]
  },
  {
   "cell_type": "markdown",
   "id": "014320fc-e2f2-4509-9e54-f52d63e600eb",
   "metadata": {},
   "source": [
    "### Inferencing 32b DLC on CPU Runtime\n"
   ]
  },
  {
   "cell_type": "code",
   "execution_count": null,
   "id": "d5c2722d-a74b-449e-8129-2f3a2be03528",
   "metadata": {},
   "outputs": [],
   "source": [
    "%%bash\n",
    "\n",
    "export DEVICE_SHELL=\"adb -H $DEVICE_HOST -s $DEVICE_ID\"\n",
    "$DEVICE_SHELL shell\n",
    "\n",
    "export LD_LIBRARY_PATH=$LD_LIBRARY_PATH:/data/local/tmp/snpeexample/aarch64-android/lib\n",
    "export PATH=$PATH:/data/local/tmp/snpeexample/aarch64-android/bin\n",
    "export OUTPUT_FOLDER=OUTPUT_32b_CPU\n",
    "export OUTPUT_DLC_32=ssd_mobilenetV2_without_ABP-NMS_fp32.dlc\n",
    "export ONDEVICE_FOLDER=\"SSD_MobileNetV2\"\n",
    "cd /data/local/tmp/$ONDEVICE_FOLDER &&\n",
    "snpe-net-run --container $OUTPUT_DLC_32 --input_list list.txt --set_unconsumed_as_output --output_dir $OUTPUT_FOLDER"
   ]
  },
  {
   "cell_type": "markdown",
   "id": "b3656548-f544-4fa7-9d1d-8b4f002df283",
   "metadata": {},
   "source": [
    "### Pulling the Output"
   ]
  },
  {
   "cell_type": "code",
   "execution_count": null,
   "id": "1961c0be-5bb4-4a44-9c79-4aaecb18d93b",
   "metadata": {},
   "outputs": [],
   "source": [
    "%%bash\n",
    "rm -rf OUTPUT_8b_DSP/\n",
    "rm -rf OUTPUT_32b_CPU/"
   ]
  },
  {
   "cell_type": "code",
   "execution_count": null,
   "id": "d277c31a-de1a-4333-a244-97f7bd32a87c",
   "metadata": {},
   "outputs": [],
   "source": [
    "%%bash\n",
    "export DEVICE_SHELL=\"adb -H $DEVICE_HOST -s $DEVICE_ID\"\n",
    "$DEVICE_SHELL pull /data/local/tmp/$ONDEVICE_FOLDER/OUTPUT_8b_DSP OUTPUT_8b_DSP\n",
    "$DEVICE_SHELL pull /data/local/tmp/$ONDEVICE_FOLDER/OUTPUT_32b_CPU OUTPUT_32b_CPU"
   ]
  },
  {
   "cell_type": "markdown",
   "id": "562a4e7d-fa79-49b6-bf8f-c1e5ac59548b",
   "metadata": {},
   "source": [
    "## Post Processing the Output"
   ]
  },
  {
   "cell_type": "code",
   "execution_count": null,
   "id": "1dfec26b-e9ea-4092-af07-e0a1393c034e",
   "metadata": {},
   "outputs": [],
   "source": [
    "%%bash\n",
    "mkdir -p \"detection_results_32b_CPU\"\n",
    "mkdir -p \"detection_results_8b_DSP\"\n",
    "mkdir -p \"prediction_results_32b_CPU\"\n",
    "mkdir -p \"prediction_results_8b_DSP\""
   ]
  },
  {
   "cell_type": "code",
   "execution_count": null,
   "id": "7f08e880-4da7-42bb-9472-59a0e4eb8d10",
   "metadata": {},
   "outputs": [],
   "source": [
    "class_name = [\"BACKGROUND\",\n",
    "            \"aeroplane\",\n",
    "            \"bicycle\",\n",
    "            \"bird\",\n",
    "            \"boat\",\n",
    "            \"bottle\",\n",
    "            \"bus\",\n",
    "            \"car\",\n",
    "            \"cat\",\n",
    "            \"chair\",\n",
    "            \"cow\",\n",
    "            \"diningtable\",\n",
    "            \"dog\",\n",
    "            \"horse\",\n",
    "            \"motorbike\",\n",
    "            \"person\",\n",
    "            \"pottedplant\",\n",
    "            \"sheep\",\n",
    "            \"sofa\",\n",
    "            \"train\",\n",
    "            \"tvmonitor\"]\n",
    "\n",
    "label2class={str(i):x for i,x in enumerate(class_name)}\n",
    "print(label2class)"
   ]
  },
  {
   "cell_type": "code",
   "execution_count": null,
   "id": "735a7276-cdb3-4d99-b8ad-7254f88d152a",
   "metadata": {},
   "outputs": [],
   "source": [
    "import torch\n",
    "\n",
    "#Computing the areas of rectangle given two corners\n",
    "def area_of(left_top, right_bottom) -> torch.Tensor:\n",
    "    hw = torch.clamp(right_bottom - left_top, min=0.0)\n",
    "    return hw[..., 0] * hw[..., 1]\n",
    "\n",
    "#Returning intersection-over-union (Jaccard index) of boxes.\n",
    "def iou_of(boxes0, boxes1, eps=1e-5):\n",
    "    overlap_left_top = torch.max(boxes0[..., :2], boxes1[..., :2])\n",
    "    overlap_right_bottom = torch.min(boxes0[..., 2:], boxes1[..., 2:])\n",
    "\n",
    "    overlap_area = area_of(overlap_left_top, overlap_right_bottom)\n",
    "    area0 = area_of(boxes0[..., :2], boxes0[..., 2:])\n",
    "    area1 = area_of(boxes1[..., :2], boxes1[..., 2:])\n",
    "    return overlap_area / (area0 + area1 - overlap_area + eps)\n",
    "\n",
    "\n",
    "\n",
    "#Returning the Bounding Boxes\n",
    "def hard_nms(box_scores, iou_threshold, top_k=-1, candidate_size=200):\n",
    "    scores = box_scores[:, -1]\n",
    "    boxes = box_scores[:, :-1]\n",
    "    picked = []\n",
    "    _, indexes = scores.sort(descending=True)\n",
    "    indexes = indexes[:candidate_size]\n",
    "    while len(indexes) > 0:\n",
    "        current = indexes[0]\n",
    "        picked.append(current.item())\n",
    "        if 0 < top_k == len(picked) or len(indexes) == 1:\n",
    "            break\n",
    "        current_box = boxes[current, :]\n",
    "        indexes = indexes[1:]\n",
    "        rest_boxes = boxes[indexes, :]\n",
    "        iou = iou_of(\n",
    "            rest_boxes,\n",
    "            current_box.unsqueeze(0),\n",
    "        )\n",
    "        indexes = indexes[iou <= iou_threshold]\n",
    "\n",
    "    return box_scores[picked, :]\n",
    "\n",
    "\n",
    "\n",
    "def nms(box_scores, nms_method=None, score_threshold=None, iou_threshold=None,\n",
    "        sigma=0.5, top_k=-1, candidate_size=200):\n",
    "    if nms_method == \"soft\":\n",
    "        return soft_nms(box_scores, score_threshold, sigma, top_k)\n",
    "    else:\n",
    "        return hard_nms(box_scores, iou_threshold, top_k, candidate_size=candidate_size)\n"
   ]
  },
  {
   "cell_type": "code",
   "execution_count": null,
   "id": "cd981ebf-f6c4-4b8c-bc48-15a8027507cc",
   "metadata": {},
   "outputs": [],
   "source": [
    "colors = np.random.uniform(0, 255, size=(len(list(label2class.values())), 3))\n",
    "\n",
    "import cv2.dnn\n",
    "import torch\n",
    "def postProcessing(scores,boxes,original_image_path,save_image_path):\n",
    "    original_image=cv2.imread(original_image_path, cv2.IMREAD_COLOR)\n",
    "    height,width,_=original_image.shape\n",
    "    prob_threshold = 0.4\n",
    "    picked_box_probs = []\n",
    "    picked_labels = []\n",
    "    for class_index in range(1, scores.shape[1]):\n",
    "        \n",
    "        probs = scores[:, class_index]\n",
    "        \n",
    "        mask = probs > prob_threshold\n",
    "        probs = probs[mask]\n",
    "        \n",
    "        if probs.shape[0] == 0:\n",
    "            continue\n",
    "        subset_boxes = boxes[mask, :]\n",
    "        subset_boxes = torch.from_numpy(subset_boxes)\n",
    "        probs = torch.from_numpy(probs)\n",
    "        box_probs = torch.cat([subset_boxes, probs.reshape(-1, 1)], dim=1)\n",
    "        box_probs = nms(box_probs, None,\n",
    "                                  score_threshold=prob_threshold,\n",
    "                                  iou_threshold=0.2,\n",
    "                                  sigma=0.2,\n",
    "                                  top_k=-1,\n",
    "                                  candidate_size=200)\n",
    "        picked_box_probs.extend([box_probs])\n",
    "        picked_labels.extend([class_index] * box_probs.size(0))\n",
    "        picked_box_probs = torch.cat(picked_box_probs)\n",
    "        picked_box_probs[:, 0] *= width\n",
    "        picked_box_probs[:, 1] *= height\n",
    "        picked_box_probs[:, 2] *= width\n",
    "        picked_box_probs[:, 3] *= height\n",
    "        label = class_name[picked_labels[0]]\n",
    "        \n",
    "        for i in range(0,len(picked_box_probs)):\n",
    "            x,y=int(picked_box_probs[i, 0].numpy()),int(picked_box_probs[i, 1].numpy())\n",
    "            x_plus_w,y_plus_h=int(picked_box_probs[i, 2].numpy()),int(picked_box_probs[i, 3].numpy())\n",
    "            original_image = cv2.rectangle(original_image,(x, y), (x_plus_w,y_plus_h),colors[class_index],2)\n",
    "            original_image=cv2.putText(original_image, label,(int(picked_box_probs[i, 0])+9, int(picked_box_probs[i, 1])-10),cv2.FONT_HERSHEY_SIMPLEX,1,(255, 40, 255),2)  # line type\n",
    "        \n",
    "        \n",
    "        picked_box_probs = []\n",
    "        picked_labels = []\n",
    "    cv2.imwrite(save_image_path,original_image)"
   ]
  },
  {
   "cell_type": "code",
   "execution_count": null,
   "id": "662f1d71-3df5-4113-9190-32760e107697",
   "metadata": {},
   "outputs": [],
   "source": [
    "folder = [\"OUTPUT_32b_CPU\",\"OUTPUT_8b_DSP\"]\n",
    "detection_results = [\"detection_results_32b_CPU\",\"detection_results_8b_DSP\"]\n",
    "results = [\"prediction_results_32b_CPU\",\"prediction_results_8b_DSP\"]\n",
    "f=open(\"list.txt\",\"r\")\n",
    "input_list = f.readlines()\n",
    "f.close()\n",
    "for j in range(0,2):\n",
    "    for result_path in glob.glob(os.path.join(folder[j], '*')):\n",
    "        if \".log\" not in result_path :\n",
    "            #using raw file to traverse output folders and result folder will be in sequence as per list.txt\n",
    "            raw_path = input_list[int(result_path.split(\"_\")[-1])].replace(\"\\n\",\"\") # rawfile path from list.txt\n",
    "            if os.path.exists(raw_path):\n",
    "                scores = np.fromfile(result_path+'/935.raw', dtype=\"float32\")\n",
    "                boxes=np.fromfile(result_path+'/986.raw', dtype=\"float32\")\n",
    "\n",
    "                boxes=boxes.reshape((3234,4))\n",
    "                scores=scores.reshape((3234,21))\n",
    "                originalImagePath = raw_path.replace(\".raw\",\".jpg\").replace(\"raw\",\"val2017\")\n",
    "\n",
    "                runtime = folder[j].split(\"_\")[-1]\n",
    "                save_img_path = detection_results[j]+\"/\"+raw_path.split(\"/\")[-1].split(\".\")[0]+\"_\"+runtime+\".jpg\"\n",
    "\n",
    "                postProcessing(scores,boxes,originalImagePath,save_img_path)\n",
    "                "
   ]
  },
  {
   "cell_type": "markdown",
   "id": "413b58d4-4827-4228-876a-f96964003910",
   "metadata": {},
   "source": [
    "## Visualization"
   ]
  },
  {
   "cell_type": "code",
   "execution_count": null,
   "id": "039bb5d8-66fe-47bf-87be-851ce61bce87",
   "metadata": {},
   "outputs": [],
   "source": [
    "\n",
    "detection_results = [\"detection_results_32b_CPU\",\"detection_results_8b_DSP\"]\n",
    "\n",
    "for CPU_path in glob.glob(os.path.join(detection_results[0], '*')):\n",
    "    CPU_img_name=CPU_path.split(\"/\")[1].split(\"_\")[0]\n",
    "    for DSP_path in glob.glob(os.path.join(detection_results[1], '*')):\n",
    "        DSP_img_name=DSP_path.split(\"/\")[1].split(\"_\")[0]\n",
    "        \n",
    "        if CPU_img_name!=DSP_img_name:continue\n",
    "            \n",
    "        CPU_img=cv2.imread(CPU_path)\n",
    "        DSP_img=cv2.imread(DSP_path)\n",
    "        fing,ax=plt.subplots(1,2,figsize=(10,5))\n",
    "        ax[0].imshow(CPU_img)\n",
    "        ax[0].set_title(\"CPU 32 Inference\")\n",
    "\n",
    "        ax[1].imshow(DSP_img)\n",
    "        ax[1].set_title(\"DSP 8 Inference\")\n",
    "        plt.tight_layout()\n",
    "        plt.show()\n"
   ]
  },
  {
   "cell_type": "markdown",
   "id": "9a61ca57-cbc8-4d3b-8d36-e62e37804fc8",
   "metadata": {},
   "source": [
    "# Mixed precision"
   ]
  },
  {
   "cell_type": "code",
   "execution_count": null,
   "id": "e87e13ee-34d9-4d21-88be-0fb0de77952a",
   "metadata": {},
   "outputs": [],
   "source": [
    "## Give appropriate permission to the directory \"FOLDER_WITH_ARTIFACTS\" you are working with\n",
    "import os\n",
    "os.environ['SNPE_ROOT']=\"../../../../../../snpe/snpe-2.10.0.4541\"#set up your snpe path here.\n",
    "os.environ['RAW_FILE_FOLDER']=\"raw\"#rawfiles\n",
    "os.environ['FOLDER_WITH_ARTIFACTS']=\"SSD_MobileNetV2\"\n",
    "os.environ['DLC32']=\"dlc/ssd_mobilenetV2_without_ABP-NMS.dlc\"\n",
    "os.environ['DLC8']=\"dlc/ssd_mobilenetV2_without_ABP-NMS_Q.dlc\"\n",
    "os.environ['TARGET_INPUT_LIST']=\"list.txt\"\n",
    "os.environ['ONDEVICE_FOLDER']=\"SSD_MobileNetV2\"\n",
    "os.environ['DEVICE_HOST']=\"localhost\"\n",
    "os.environ['DEVICE_ID']=\"e4149b7f\" #fill your device-id. Use command \"adb devices\" to get devices names. example :\"e18d5d0\"\n",
    "os.environ['SNPE_TARGET_ARCH']=\"aarch64-android-clang8.0\"\n",
    "os.environ['SNPE_TARGET_STL']=\"libc++_shared.so\""
   ]
  },
  {
   "cell_type": "code",
   "execution_count": null,
   "id": "67031ad4-d118-4504-a8b2-49bedefd6f76",
   "metadata": {},
   "outputs": [],
   "source": [
    "%%bash\n",
    "export DEVICE_SHELL=\"adb -H $DEVICE_HOST -s $DEVICE_ID\"\n",
    "$DEVICE_SHELL shell \"mkdir -p /data/local/tmp/snpeexample/$SNPE_TARGET_ARCH/bin\" && $DEVICE_SHELL shell \"mkdir -p /data/local/tmp/snpeexample/$SNPE_TARGET_ARCH/lib\" && $DEVICE_SHELL shell \"mkdir -p /data/local/tmp/snpeexample/dsp/lib\""
   ]
  },
  {
   "cell_type": "code",
   "execution_count": null,
   "id": "a4433134-442c-4b40-a10d-3751c90728f6",
   "metadata": {},
   "outputs": [],
   "source": [
    "%%bash\n",
    "export DEVICE_SHELL=\"adb -H $DEVICE_HOST -s $DEVICE_ID\"\n",
    "$DEVICE_SHELL push $SNPE_ROOT/lib/$SNPE_TARGET_ARCH/$SNPE_TARGET_STL /data/local/tmp/snpeexample/$SNPE_TARGET_ARCH/lib\n",
    "$DEVICE_SHELL push $SNPE_ROOT/bin/$SNPE_TARGET_ARCH/snpe-net-run /data/local/tmp/snpeexample/$SNPE_TARGET_ARCH/bin\n",
    "$DEVICE_SHELL push $SNPE_ROOT/lib/dsp/*.so /data/local/tmp/snpeexample/dsp/lib\n",
    "$DEVICE_SHELL push $SNPE_ROOT/lib/$SNPE_TARGET_ARCH/*.so /data/local/tmp/snpeexample/$SNPE_TARGET_ARCH/lib\n"
   ]
  },
  {
   "cell_type": "code",
   "execution_count": null,
   "id": "7e279429-1ebc-41f2-870b-ee05b7d2978b",
   "metadata": {},
   "outputs": [],
   "source": [
    "%%bash\n",
    "export DEVICE_SHELL=\"adb -H $DEVICE_HOST -s $DEVICE_ID\"\n",
    "$DEVICE_SHELL shell \"mkdir -p /data/local/tmp/$ONDEVICE_FOLDER\""
   ]
  },
  {
   "cell_type": "code",
   "execution_count": null,
   "id": "16419832-b66c-4625-b25d-a0d51d33ba74",
   "metadata": {},
   "outputs": [],
   "source": [
    "%%bash\n",
    "export DEVICE_SHELL=\"adb -H $DEVICE_HOST -s $DEVICE_ID\"\n",
    "$DEVICE_SHELL push $DLC32 /data/local/tmp/$ONDEVICE_FOLDER\n",
    "$DEVICE_SHELL push $DLC8 /data/local/tmp/$ONDEVICE_FOLDER\n",
    "$DEVICE_SHELL push raw /data/local/tmp/$ONDEVICE_FOLDER\n",
    "$DEVICE_SHELL push $TARGET_INPUT_LIST /data/local/tmp/$ONDEVICE_FOLDER"
   ]
  },
  {
   "cell_type": "code",
   "execution_count": null,
   "id": "d30f04b3-1d9a-4aa0-b90a-283825a7eefa",
   "metadata": {},
   "outputs": [],
   "source": [
    "%%bash\n",
    "export DEVICE_SHELL=\"adb -H $DEVICE_HOST -s $DEVICE_ID\"\n",
    "$DEVICE_SHELL shell\n",
    "export LD_LIBRARY_PATH=$LD_LIBRARY_PATH:/data/local/tmp/snpeexample/aarch64-android-clang8.0/lib\n",
    "export PATH=$PATH:/data/local/tmp/snpeexample/aarch64-android-clang8.0/bin\n",
    "export OUTPUT_FOLDER=OUTPUT_8b_DSP\n",
    "export OUTPUT_DLC_QUANTIZED8=ssd_mobilenetV2_without_ABP-NMS_Q.dlc\n",
    "export ADSP_LIBRARY_PATH=\"/data/local/tmp/snpeexample/dsp/lib;/system/lib/rfsa/adsp;/system/vendor/lib/rfsa/adsp;/dsp\"\n",
    "export ONDEVICE_FOLDER=\"SSD_MobileNetV2\"\n",
    "cd /data/local/tmp/$ONDEVICE_FOLDER &&\n",
    "snpe-net-run --container $OUTPUT_DLC_QUANTIZED8 --input_list list.txt --output_dir $OUTPUT_FOLDER --use_dsp --debug"
   ]
  },
  {
   "cell_type": "code",
   "execution_count": null,
   "id": "54df402c-1cf8-4ad4-b729-8a0fde9799ee",
   "metadata": {},
   "outputs": [],
   "source": [
    "%%bash\n",
    "export DEVICE_SHELL=\"adb -H $DEVICE_HOST -s $DEVICE_ID\"\n",
    "$DEVICE_SHELL shell\n",
    "export LD_LIBRARY_PATH=$LD_LIBRARY_PATH:/data/local/tmp/snpeexample/aarch64-android-clang8.0/lib\n",
    "export PATH=$PATH:/data/local/tmp/snpeexample/aarch64-android-clang8.0/bin\n",
    "export OUTPUT_FOLDER=OUTPUT_32b_CPU\n",
    "export OUTPUT_DLC_32=ssd_mobilenetV2_without_ABP-NMS.dlc\n",
    "export ONDEVICE_FOLDER=\"SSD_MobileNetV2\"\n",
    "cd /data/local/tmp/$ONDEVICE_FOLDER &&\n",
    "snpe-net-run --container $OUTPUT_DLC_32 --input_list list.txt --output_dir $OUTPUT_FOLDER --debug"
   ]
  },
  {
   "cell_type": "code",
   "execution_count": null,
   "id": "7412fb50-3b79-4bc2-952a-d95548940515",
   "metadata": {},
   "outputs": [],
   "source": [
    "%%bash\n",
    "rm -rf OUTPUT_32b_CPU\n",
    "rm -rf OUTPUT_8b_DSP\n",
    "ls"
   ]
  },
  {
   "cell_type": "code",
   "execution_count": null,
   "id": "7bd1afae-541a-4da9-857a-ed96e16a8405",
   "metadata": {},
   "outputs": [],
   "source": [
    "%%bash\n",
    "export DEVICE_SHELL=\"adb -H $DEVICE_HOST -s $DEVICE_ID\"\n",
    "$DEVICE_SHELL pull /data/local/tmp/$ONDEVICE_FOLDER/OUTPUT_8b_DSP OUTPUT_8b_DSP\n",
    "$DEVICE_SHELL pull /data/local/tmp/$ONDEVICE_FOLDER/OUTPUT_32b_CPU OUTPUT_32b_CPU"
   ]
  },
  {
   "cell_type": "code",
   "execution_count": null,
   "id": "78ea4e5a-e45c-4c38-afd6-1bc4992e834f",
   "metadata": {},
   "outputs": [],
   "source": [
    "%%bash\n",
    "snpe-dlc-info -i dlc/ssd_mobilenetV2_without_ABP-NMS_Q.dlc >ssd_mobilenetV2_without_ABP-NMS_Q.txt\n",
    "snpe-dlc-viewer -i dlc/ssd_mobilenetV2_without_ABP-NMS_Q.dlc -s ssd_mobilenetV2_without_ABP-NMS_Q.html"
   ]
  },
  {
   "cell_type": "code",
   "execution_count": null,
   "id": "b879a087-fcd6-44be-bcd1-5f2b4f857dfc",
   "metadata": {},
   "outputs": [],
   "source": [
    "from sklearn.metrics.pairwise import cosine_similarity\n",
    "def cosine_sim(out_a, out_b):\n",
    "    \"\"\"\n",
    "    This function computes the cosine similarity of two outputs.\n",
    "    :param out_a: onnx output tensor\n",
    "    :param out_b: system output tensor\n",
    "    :return: cosine similarity\n",
    "    \"\"\"\n",
    "    out_a = out_a.reshape(1,len(out_a))\n",
    "    out_b = out_b.reshape(1,len(out_b))\n",
    "    return cosine_similarity(out_a,out_b)[0][0]\n",
    "\n",
    "\n",
    "def plot_layer_by_layer(INT8_DSP, FP32_CPU, output_folder):\n",
    "    list_htp_nodes = [os.path.join(path, name) for path, subdirs, files in os.walk(INT8_DSP) for name in files if name.endswith(\"raw\")]\n",
    "    list_htp_nodes_mse = []\n",
    "    final_node_names = []\n",
    "    list_htp_nodes_no_raw = [ k.split('/')[-1].split('.')[0] for k in list_htp_nodes]\n",
    "    for i in range(len(list_htp_nodes)):\n",
    "        node_name = str(list_htp_nodes[i])\n",
    "        htp_node_data =  np.fromfile(node_name,dtype=np.float32)\n",
    "        if os.path.exists(node_name.replace(INT8_DSP.split(\"/\")[1],FP32_CPU.split(\"/\")[1])):\n",
    "            cpu_node_data =  np.fromfile(node_name.replace(INT8_DSP.split(\"/\")[1],FP32_CPU.split(\"/\")[1]),dtype=np.float32)\n",
    "        else:\n",
    "            layer_new_name = node_name.replace(INT8_DSP.split(\"/\")[1],FP32_CPU.split(\"/\")[1])\n",
    "            layer_new_name = layer_new_name.replace(\"_converted_UFIXED_POINT_16\",\"\")\n",
    "            cpu_node_data =  np.fromfile(layer_new_name,dtype=np.float32)\n",
    "            print(\"new_path :: \",layer_new_name)\n",
    "#         cpu_node_data =  np.fromfile(node_name.replace(\"OUTPUT_8b_DSP\",\"OUTPUT_FP32_CPU\"),dtype=np.float32)\n",
    "        error = cosine_sim(htp_node_data,cpu_node_data)\n",
    "        list_htp_nodes_mse.append(error) # saving cosine similarity scores\n",
    "        final_node_names.append(node_name.split(\"Result_0\")[-1]) # saving layer names\n",
    "    plt.figure(figsize=(30, 32))\n",
    "    plt.plot(final_node_names,list_htp_nodes_mse)\n",
    "    plt.savefig(f\"{output_folder}/cosine_plot.png\")\n",
    "    plotting.output_file(f\"{output_folder}/cosine_plot.html\")\n",
    "    plot = plotting.figure(x_range=final_node_names, height=200, title=f\"rmse_plot_htp_vs_cpu\", x_axis_label=\"Layers\", y_axis_label=\"cosine\")    \n",
    "    plot.x(final_node_names,list_htp_nodes_mse)\n",
    "    plot.line(final_node_names,list_htp_nodes_mse)\n",
    "    plot.xaxis.major_label_orientation = \"vertical\"\n",
    "    plot.sizing_mode = \"scale_width\"\n",
    "    plotting.save(plot)\n",
    "    "
   ]
  },
  {
   "cell_type": "code",
   "execution_count": null,
   "id": "23c27573-a821-4ee6-81c5-868a61edcedd",
   "metadata": {},
   "outputs": [],
   "source": [
    "output_folder = 'plots_fp32_vs_int8'\n",
    "os.makedirs(output_folder,exist_ok=True)\n",
    "INT8_DSP = \"./OUTPUT_8b_DSP/Result_0\"  # int8 dsp layer dump dir path\n",
    "FP32_CPU = \"./OUTPUT_32b_CPU/Result_0\" # fp32 arm apu dump dir path\n",
    "plot_layer_by_layer(INT8_DSP, FP32_CPU, output_folder)"
   ]
  },
  {
   "cell_type": "code",
   "execution_count": null,
   "id": "101527ad-faf7-45e5-9692-f55b0a8b332a",
   "metadata": {},
   "outputs": [],
   "source": [
    "def get_scale_offset(min_value,max_value,bw=8):\n",
    "    qmin = 0\n",
    "    qmax = (2**bw)-1\n",
    "    scale = (max_value - min_value) / (qmax - qmin)\n",
    "    initial_zero_point = qmin - min_value / scale\n",
    "    final_zero_point = 0;\n",
    "    if (initial_zero_point < qmin):\n",
    "        final_zero_point = qmin\n",
    "    elif (initial_zero_point > qmax):\n",
    "        final_zero_point = qmax\n",
    "    else:\n",
    "        final_zero_point = round(initial_zero_point)\n",
    "    return scale,-final_zero_point"
   ]
  },
  {
   "cell_type": "code",
   "execution_count": null,
   "id": "5434e5ae-69b9-4997-9215-51b5479df94a",
   "metadata": {},
   "outputs": [],
   "source": [
    "# output-685 (1131)\n",
    "scale, offset = get_scale_offset(0.0,0.984115421772, 16)\n",
    "print(\"Sigmoid layer : scale:\",scale,\" || offset:\",offset )"
   ]
  },
  {
   "cell_type": "code",
   "execution_count": null,
   "id": "f43125ad-43f0-4790-80dd-212f1919fcc8",
   "metadata": {},
   "outputs": [],
   "source": [
    "#Output-647(1104)\n",
    "scale, offset = get_scale_offset(0.0,1.380036115646, 16)\n",
    "print(\"Sigmoid layer : scale:\",scale,\" || offset:\",offset )"
   ]
  },
  {
   "cell_type": "code",
   "execution_count": null,
   "id": "e4b1553d-ce6f-47f7-a5ec-90e7c89266e5",
   "metadata": {},
   "outputs": [],
   "source": [
    "%%bash\n",
    "snpe-onnx-to-dlc -i onnx-models/ssd_mobilenetV2_without_ABP-NMS.onnx -o dlc/ssd_mobilenetV2_without_ABP-NMS.dlc --quantization_overrides encoding_format.encodings \n"
   ]
  },
  {
   "cell_type": "code",
   "execution_count": null,
   "id": "6518f5c8-0b78-4892-b5dc-ac2fdf8a7d0c",
   "metadata": {},
   "outputs": [],
   "source": [
    "%%bash\n",
    "snpe-dlc-quantize --input_dlc dlc/ssd_mobilenetV2_without_ABP-NMS.dlc --override_params --output_dlc dlc/ssd_mobilenetV2_without_ABP-NMS_Q.dlc --input_list list.txt --enable_htp\n"
   ]
  },
  {
   "cell_type": "code",
   "execution_count": null,
   "id": "5e04033d-dcef-4d4f-a4e5-7fad45da0b57",
   "metadata": {},
   "outputs": [],
   "source": [
    "import os\n",
    "os.environ['SNPE_ROOT']=\"../../../../../../snpe/snpe-2.12.0.230626\"#set up your snpe path here.\n",
    "os.environ['RAW_FILE_FOLDER']=\"raw\"#rawfiles\n",
    "os.environ['FOLDER_WITH_ARTIFACTS']=\"SSD_MobileNetV2\"\n",
    "os.environ['DLC32']=\"dlc/ssd_mobilenetV2_without_ABP-NMS.dlc\"\n",
    "os.environ['DLC8']=\"dlc/ssd_mobilenetV2_without_ABP-NMS_Q.dlc\"\n",
    "os.environ['TARGET_INPUT_LIST']=\"list.txt\"\n",
    "os.environ['ONDEVICE_FOLDER']=\"SSD_MobileNetV2\"\n",
    "os.environ['DEVICE_HOST']=\"localhost\"\n",
    "os.environ['DEVICE_ID']=\"e4149b7f\" #fill your device-id. Use command \"adb devices\" to get devices names. example :\"e18d5d0\"\n",
    "os.environ['SNPE_TARGET_ARCH']=\"aarch64-android\"\n",
    "os.environ['SNPE_TARGET_STL']=\"libc++_shared.so\""
   ]
  },
  {
   "cell_type": "code",
   "execution_count": null,
   "id": "39326516-f4ea-409c-80f7-4055d0b200a7",
   "metadata": {},
   "outputs": [],
   "source": [
    "%%bash\n",
    "export DEVICE_SHELL=\"adb -H $DEVICE_HOST -s $DEVICE_ID\"\n",
    "$DEVICE_SHELL shell \"mkdir -p /data/local/tmp/snpeexample/$SNPE_TARGET_ARCH/bin\" && $DEVICE_SHELL shell \"mkdir -p /data/local/tmp/snpeexample/$SNPE_TARGET_ARCH/lib\" && $DEVICE_SHELL shell \"mkdir -p /data/local/tmp/snpeexample/dsp/lib\""
   ]
  },
  {
   "cell_type": "code",
   "execution_count": null,
   "id": "e55d862e-87df-4c59-927b-8deb819d7e88",
   "metadata": {},
   "outputs": [],
   "source": [
    "%%bash\n",
    "export DEVICE_SHELL=\"adb -H $DEVICE_HOST -s $DEVICE_ID\"\n",
    "$DEVICE_SHELL push $SNPE_ROOT/lib/$SNPE_TARGET_ARCH/$SNPE_TARGET_STL /data/local/tmp/snpeexample/$SNPE_TARGET_ARCH/lib\n",
    "$DEVICE_SHELL push $SNPE_ROOT/bin/$SNPE_TARGET_ARCH/snpe-net-run /data/local/tmp/snpeexample/$SNPE_TARGET_ARCH/bin\n",
    "$DEVICE_SHELL push $SNPE_ROOT/lib/hexagon-v73/unsigned/*.so /data/local/tmp/snpeexample/dsp/lib\n",
    "$DEVICE_SHELL push $SNPE_ROOT/lib/$SNPE_TARGET_ARCH/*.so /data/local/tmp/snpeexample/$SNPE_TARGET_ARCH/lib"
   ]
  },
  {
   "cell_type": "code",
   "execution_count": null,
   "id": "2e48c62f-ef35-4781-a74a-ef7a16ef19fc",
   "metadata": {},
   "outputs": [],
   "source": [
    "%%bash\n",
    "export DEVICE_SHELL=\"adb -H $DEVICE_HOST -s $DEVICE_ID\"\n",
    "$DEVICE_SHELL shell \"mkdir -p /data/local/tmp/$ONDEVICE_FOLDER\""
   ]
  },
  {
   "cell_type": "code",
   "execution_count": null,
   "id": "9f7b3c29-7fe1-4761-896f-b4075edf0918",
   "metadata": {},
   "outputs": [],
   "source": [
    "%%bash\n",
    "export DEVICE_SHELL=\"adb -H $DEVICE_HOST -s $DEVICE_ID\"\n",
    "$DEVICE_SHELL push $DLC32 /data/local/tmp/$ONDEVICE_FOLDER\n",
    "$DEVICE_SHELL push $DLC8 /data/local/tmp/$ONDEVICE_FOLDER\n",
    "$DEVICE_SHELL push raw /data/local/tmp/$ONDEVICE_FOLDER\n",
    "$DEVICE_SHELL push $TARGET_INPUT_LIST /data/local/tmp/$ONDEVICE_FOLDER"
   ]
  },
  {
   "cell_type": "code",
   "execution_count": null,
   "id": "99dc112d-19a4-4eb6-9da6-4ffcfab58849",
   "metadata": {},
   "outputs": [],
   "source": [
    "%%bash\n",
    "export DEVICE_SHELL=\"adb -H $DEVICE_HOST -s $DEVICE_ID\"\n",
    "$DEVICE_SHELL shell\n",
    "export LD_LIBRARY_PATH=$LD_LIBRARY_PATH:/data/local/tmp/snpeexample/aarch64-android/lib\n",
    "export PATH=$PATH:/data/local/tmp/snpeexample/aarch64-android/bin\n",
    "export OUTPUT_FOLDER=OUTPUT_8b_DSP\n",
    "export OUTPUT_DLC_QUANTIZED8=ssd_mobilenetV2_without_ABP-NMS_Q.dlc\n",
    "export ADSP_LIBRARY_PATH=\"/data/local/tmp/snpeexample/dsp/lib;/system/lib/rfsa/adsp;/system/vendor/lib/rfsa/adsp;/dsp\"\n",
    "export ONDEVICE_FOLDER=\"SSD_MobileNetV2\"\n",
    "cd /data/local/tmp/$ONDEVICE_FOLDER &&\n",
    "snpe-net-run --container $OUTPUT_DLC_QUANTIZED8 --input_list list.txt --set_output_tensors 935,986 --output_dir $OUTPUT_FOLDER --use_dsp"
   ]
  },
  {
   "cell_type": "code",
   "execution_count": null,
   "id": "d9693667-b0f2-40c6-b76a-c7e710f50dfe",
   "metadata": {},
   "outputs": [],
   "source": [
    "%%bash\n",
    "\n",
    "export DEVICE_SHELL=\"adb -H $DEVICE_HOST -s $DEVICE_ID\"\n",
    "$DEVICE_SHELL shell\n",
    "\n",
    "export LD_LIBRARY_PATH=$LD_LIBRARY_PATH:/data/local/tmp/snpeexample/aarch64-android/lib\n",
    "export PATH=$PATH:/data/local/tmp/snpeexample/aarch64-android/bin\n",
    "export OUTPUT_FOLDER=OUTPUT_32b_CPU\n",
    "export OUTPUT_DLC_32=ssd_mobilenetV2_without_ABP-NMS.dlc\n",
    "export ONDEVICE_FOLDER=\"SSD_MobileNetV2\"\n",
    "cd /data/local/tmp/$ONDEVICE_FOLDER &&\n",
    "snpe-net-run --container $OUTPUT_DLC_32 --input_list list.txt --set_unconsumed_as_output --output_dir $OUTPUT_FOLDER"
   ]
  },
  {
   "cell_type": "code",
   "execution_count": null,
   "id": "2030a6c6-e04f-4d01-99e2-942559fb5c78",
   "metadata": {},
   "outputs": [],
   "source": [
    "%%bash\n",
    "rm -rf OUTPUT_32b_CPU\n",
    "rm -rf OUTPUT_8b_DSP\n",
    "ls"
   ]
  },
  {
   "cell_type": "code",
   "execution_count": null,
   "id": "42bf6d11-781a-45d2-a229-a8d29612a35d",
   "metadata": {},
   "outputs": [],
   "source": [
    "%%bash\n",
    "export DEVICE_SHELL=\"adb -H $DEVICE_HOST -s $DEVICE_ID\"\n",
    "$DEVICE_SHELL pull /data/local/tmp/$ONDEVICE_FOLDER/OUTPUT_8b_DSP OUTPUT_8b_DSP\n",
    "$DEVICE_SHELL pull /data/local/tmp/$ONDEVICE_FOLDER/OUTPUT_32b_CPU OUTPUT_32b_CPU"
   ]
  },
  {
   "cell_type": "code",
   "execution_count": null,
   "id": "d0131747-a910-44bf-bd6e-bf17ccdedb9a",
   "metadata": {},
   "outputs": [],
   "source": [
    "#000000329219\n",
    "folder = [\"OUTPUT_32b_CPU\",\"OUTPUT_8b_DSP\"]\n",
    "detection_results = [\"detection_results_32b_CPU\",\"detection_results_8b_DSP\"]\n",
    "results = [\"prediction_results_32b_CPU\",\"prediction_results_8b_DSP\"]\n",
    "f=open(\"list.txt\",\"r\")\n",
    "r=0.31\n",
    "input_shape = tuple(map(int,[320,320]))\n",
    "input_list = f.readlines()\n",
    "f.close()\n",
    "for j in range(0,2):\n",
    "    for result_path in glob.glob(os.path.join(folder[j], '*')):\n",
    "        if \".log\" not in result_path and int(result_path.split(\"_\")[-1])<len(input_list):\n",
    "            #using raw file to traverse output folders and result folder will be in sequence as per list.txt\n",
    "            raw_path = input_list[int(result_path.split(\"_\")[-1])].replace(\"\\n\",\"\") # rawfile path from list.txt\n",
    "            if os.path.exists(raw_path):\n",
    "                scores = np.fromfile(result_path+'/935.raw', dtype=\"float32\")\n",
    "                boxes=np.fromfile(result_path+'/986.raw', dtype=\"float32\")\n",
    "\n",
    "                boxes=boxes.reshape((3234,4))\n",
    "                scores=scores.reshape((3234,21))\n",
    "                originalImagePath = raw_path.replace(\".raw\",\".jpg\").replace(\"raw\",\"val2017\")\n",
    "\n",
    "                runtime = folder[j].split(\"_\")[-1]\n",
    "                save_img_path = detection_results[j]+\"/\"+raw_path.split(\"/\")[-1].split(\".\")[0]+\"_\"+runtime+\".jpg\"\n",
    "\n",
    "                postProcessing(scores,boxes,originalImagePath,save_img_path)\n",
    "                "
   ]
  },
  {
   "cell_type": "code",
   "execution_count": null,
   "id": "7d62aa77-9dbd-4f4b-a47b-b5fb15f8afaa",
   "metadata": {},
   "outputs": [],
   "source": [
    "detection_results = [\"detection_results_32b_CPU\",\"detection_results_8b_DSP\"]\n",
    "\n",
    "for CPU_path in glob.glob(os.path.join(detection_results[0], '*')):\n",
    "    CPU_img_name=CPU_path.split(\"/\")[1].split(\"_\")[0]\n",
    "    for DSP_path in glob.glob(os.path.join(detection_results[1], '*')):\n",
    "        DSP_img_name=DSP_path.split(\"/\")[1].split(\"_\")[0]\n",
    "        \n",
    "        if CPU_img_name!=DSP_img_name:continue\n",
    "            \n",
    "        CPU_img=cv2.imread(CPU_path)\n",
    "        DSP_img=cv2.imread(DSP_path)\n",
    "        fing,ax=plt.subplots(1,2,figsize=(10,5))\n",
    "        ax[0].imshow(CPU_img)\n",
    "        ax[0].set_title(\"CPU 32 Inference\")\n",
    "\n",
    "        ax[1].imshow(DSP_img)\n",
    "        ax[1].set_title(\"DSP 8 Inference\")\n",
    "        plt.tight_layout()\n",
    "        plt.show()\n"
   ]
  }
 ],
 "metadata": {
  "kernelspec": {
   "display_name": "Python 3 (ipykernel)",
   "language": "python",
   "name": "python3"
  },
  "language_info": {
   "codemirror_mode": {
    "name": "ipython",
    "version": 3
   },
   "file_extension": ".py",
   "mimetype": "text/x-python",
   "name": "python",
   "nbconvert_exporter": "python",
   "pygments_lexer": "ipython3",
   "version": "3.10.10"
  }
 },
 "nbformat": 4,
 "nbformat_minor": 5
}
