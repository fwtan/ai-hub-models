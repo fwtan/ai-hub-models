{
 "cells": [
  {
   "cell_type": "markdown",
   "id": "587deb17-42d7-4f23-888b-37654da89a27",
   "metadata": {},
   "source": [
    "# Setting up SDK artifacts"
   ]
  },
  {
   "cell_type": "code",
   "execution_count": null,
   "id": "7a5eca17-7cab-4821-8571-2e8e96528f44",
   "metadata": {},
   "outputs": [],
   "source": [
    "## Give appropriate permission to the directory \"FOLDER_WITH_ARTIFACTS\" you are working with\n",
    "import os\n",
    "os.environ['SNPE_ROOT']=\"/local/mnt/workspace/aditya/qaisw-v2.15.1.230926150623_62883\"#set up your snpe path here.\n",
    "os.environ['RAW_FILE_FOLDER']=\"input/raw\"\n",
    "os.environ['FOLDER_WITH_ARTIFACTS']=\"../FFNet/\"\n",
    "os.environ['DLC32']=\"models/ffnet_fp32.dlc\"\n",
    "os.environ['DLC8']=\"models/ffnet_w8a8.dlc\"\n",
    "os.environ['TARGET_INPUT_LIST']=\"input/input.txt\"\n",
    "os.environ['ONDEVICE_FOLDER']=\"ffnetseg\"\n",
    "os.environ['DEVICE_HOST']=\"localhost\"\n",
    "os.environ['DEVICE_ID']=\"2dce6316\" #change with your device-id. Use command \"adb devices\" to get devices names.\n",
    "os.environ['SNPE_TARGET_ARCH']=\"aarch64-android\"\n",
    "os.environ['SNPE_TARGET_STL']=\"libc++_shared.so\""
   ]
  },
  {
   "cell_type": "code",
   "execution_count": null,
   "id": "4043915c-c99a-4bd9-9b99-e9ceb7a83d65",
   "metadata": {},
   "outputs": [],
   "source": [
    "%%bash\n",
    "git clone https://github.com/quic/aimet-model-zoo/"
   ]
  },
  {
   "cell_type": "code",
   "execution_count": null,
   "id": "2adc4d0a-e124-46e1-93ed-ec82e7deae3e",
   "metadata": {},
   "outputs": [],
   "source": [
    "%%bash\n",
    "cp -r ffnet.patch aimet-model-zoo/\n",
    "cd aimet-model-zoo/\n",
    "git apply ffnet.patch"
   ]
  },
  {
   "cell_type": "code",
   "execution_count": null,
   "id": "4d7856e6-22e8-43df-9ebe-cecd2419bd96",
   "metadata": {},
   "outputs": [],
   "source": [
    "import os\n",
    "os.makedirs('utils', exist_ok=True)"
   ]
  },
  {
   "cell_type": "code",
   "execution_count": null,
   "id": "76d048e5-124e-46e4-81f5-d281da5b6197",
   "metadata": {},
   "outputs": [],
   "source": [
    "%%bash\n",
    "cp -r aimet-model-zoo/aimet_zoo_torch/ffnet/model/* ./utils/\n",
    "rm -rf aimet-model-zoo/"
   ]
  },
  {
   "cell_type": "code",
   "execution_count": null,
   "id": "565e2274-6866-4da8-a7dc-f08dd077360a",
   "metadata": {},
   "outputs": [],
   "source": [
    "%%bash\n",
    "wget https://github.com/quic/aimet-model-zoo/releases/download/torch_segmentation_ffnet/ffnet40S_dBBB_cityscapes_state_dict_quarts.pth"
   ]
  },
  {
   "cell_type": "code",
   "execution_count": null,
   "id": "75a2deae-a540-41d1-8845-ae30aec2b8b9",
   "metadata": {},
   "outputs": [],
   "source": [
    "from utils.model_registry import model_entrypoint\n",
    "net = model_entrypoint(\"segmentation_ffnet40S_dBBB_mobile\")()\n",
    "net.eval()"
   ]
  },
  {
   "cell_type": "markdown",
   "id": "36363a57-ceb8-4ec9-a1e9-08729d062142",
   "metadata": {},
   "source": [
    "# Getting The ONNX Model"
   ]
  },
  {
   "cell_type": "code",
   "execution_count": null,
   "id": "b553e278-0969-45f0-ad3d-1432453b0e29",
   "metadata": {},
   "outputs": [],
   "source": [
    "os.makedirs('models',exist_ok=True)"
   ]
  },
  {
   "cell_type": "code",
   "execution_count": null,
   "id": "c6c9ed3f-ac94-4b46-b9ac-359d100e26b1",
   "metadata": {},
   "outputs": [],
   "source": [
    "import torch\n",
    "import os\n",
    "import cv2\n",
    "import glob\n",
    "import numpy as np\n",
    "import torch\n",
    "from os.path import isfile, join\n",
    "import matplotlib.pyplot as plt \n",
    "from PIL import Image\n",
    "from torchvision import transforms as T"
   ]
  },
  {
   "cell_type": "code",
   "execution_count": null,
   "id": "4b85c7b4-9883-4e34-ba2e-02d53e242413",
   "metadata": {},
   "outputs": [],
   "source": [
    "dummy_input = torch.randn(1,3, 512, 512).type(torch.FloatTensor).to('cpu')\n",
    "torch.onnx.export(net, dummy_input, \"./models/ffnet.onnx\",opset_version=11)"
   ]
  },
  {
   "cell_type": "markdown",
   "id": "52423e4c-9b9c-4dd5-ab67-0946cbb6c26f",
   "metadata": {},
   "source": [
    "### Generate DLC from ONNX"
   ]
  },
  {
   "cell_type": "code",
   "execution_count": null,
   "id": "c07d08d3-10b4-484e-9c83-22e22989b8e8",
   "metadata": {},
   "outputs": [],
   "source": [
    "%%bash\n",
    "source $SNPE_ROOT/bin/envsetup.sh\n",
    "snpe-onnx-to-dlc --input_network models/ffnet.onnx --output_path models/ffnet_fp32.dlc"
   ]
  },
  {
   "cell_type": "markdown",
   "id": "e20656ce-9ef8-4ee5-863c-6680da58dcbb",
   "metadata": {},
   "source": [
    "## Pre-Process the data"
   ]
  },
  {
   "cell_type": "code",
   "execution_count": null,
   "id": "6112ba04-0650-4682-b0bf-615de5bfbfed",
   "metadata": {},
   "outputs": [],
   "source": [
    "os.makedirs('input',exist_ok=True)\n",
    "os.makedirs('input/dataset',exist_ok=True)\n",
    "os.makedirs('input/dataset/image/',exist_ok=True)\n",
    "os.makedirs('input/dataset/ground_truth/',exist_ok=True)"
   ]
  },
  {
   "cell_type": "markdown",
   "id": "d48e9c55-0274-443d-8e92-0cf57a6858ee",
   "metadata": {},
   "source": [
    "## Steps to set Dataset path\n"
   ]
  },
  {
   "cell_type": "markdown",
   "id": "fd363e51-c76f-4acb-9a68-8ff0b823086f",
   "metadata": {},
   "source": [
    "User needs to download the dataset of their choice"
   ]
  },
  {
   "cell_type": "markdown",
   "id": "138a9c32-84e0-4f33-8333-90c6e74b415e",
   "metadata": {},
   "source": [
    "## Generate raw files"
   ]
  },
  {
   "cell_type": "code",
   "execution_count": null,
   "id": "78feec60-df67-4712-b299-d522f2cb83fb",
   "metadata": {},
   "outputs": [],
   "source": [
    "os.makedirs('input/raw', exist_ok=True)"
   ]
  },
  {
   "cell_type": "code",
   "execution_count": null,
   "id": "13a04af4-90fc-4058-a8d4-33851446d771",
   "metadata": {},
   "outputs": [],
   "source": [
    "test_images_dir = 'input/dataset/image/'\n",
    "all_files = os.listdir(test_images_dir)\n",
    "img_paths = []\n",
    "image_names = []\n",
    "for file in all_files:\n",
    "    img_paths.append(test_images_dir+file)\n",
    "    name = file.replace(\".png\", \"\")\n",
    "    image_names.append(name)\n",
    "img_paths = sorted(img_paths)\n",
    "image_names.sort()\n",
    "i=0\n",
    "for img in img_paths:\n",
    "    raw_data = preProcess(img)\n",
    "    type(raw_data)\n",
    "    raw_data.tofile('input/raw/'+image_names[i]+'.raw')\n",
    "    i = i+1"
   ]
  },
  {
   "cell_type": "code",
   "execution_count": null,
   "id": "bb898b9b-6fe1-43d7-9fab-172a48c9ef5f",
   "metadata": {},
   "outputs": [],
   "source": [
    "directory_path = 'input/raw/'\n",
    "output_file_path = 'input/input.txt'  # The file where the output will be saved\n",
    "all_files = os.listdir(directory_path)\n",
    "# Filter only the .raw files and create a list of their names\n",
    "raw_files = [file for file in all_files if file.endswith('.raw')]\n",
    "raw_files = sorted(raw_files)\n",
    "# Write the file names to the output file\n",
    "with open(output_file_path, 'w') as f:\n",
    "    c=0\n",
    "    for raw_file in raw_files:\n",
    "        f.write(f\"./raw/{raw_file}\\n\")\n",
    "        c=c+1\n",
    "print(f\"File names written to {output_file_path}.\")"
   ]
  },
  {
   "cell_type": "markdown",
   "id": "577b0def-bb1a-4091-afe7-d09547f589d4",
   "metadata": {},
   "source": [
    "## generate Quantized dlc from dlc"
   ]
  },
  {
   "cell_type": "code",
   "execution_count": null,
   "id": "fb764da8-e98e-4055-8e13-54006699d4f3",
   "metadata": {},
   "outputs": [],
   "source": [
    "%%bash\n",
    "source $SNPE_ROOT/bin/envsetup.sh\n",
    "cd input\n",
    "snpe-dlc-quantize --input_dlc ../models/ffnet_fp32.dlc --input_list input.txt --output_dlc ../models/ffnet_w8a8.dlc "
   ]
  },
  {
   "cell_type": "code",
   "execution_count": null,
   "id": "c5c51892-bde0-4054-a9cc-17367ffc86c0",
   "metadata": {},
   "outputs": [],
   "source": [
    "%%bash\n",
    "source $SNPE_ROOT/bin/envsetup.sh\n",
    "cd input\n",
    "snpe-dlc-quantize --input_dlc ../models/ffnet_fp32.dlc --input_list input.txt --output_dlc ../models/ffnet_w8a16.dlc --act_bitwidth 16 "
   ]
  },
  {
   "cell_type": "code",
   "execution_count": null,
   "id": "a5aa5ab3-5b44-492c-b178-34ace144a351",
   "metadata": {},
   "outputs": [],
   "source": [
    "%%bash\n",
    "adb devices"
   ]
  },
  {
   "cell_type": "markdown",
   "id": "46c0c6ae-558d-4a52-9b8f-a19e35dfd158",
   "metadata": {},
   "source": [
    "## Model Inference on Device"
   ]
  },
  {
   "cell_type": "code",
   "execution_count": null,
   "id": "8f959b54-9a7c-41b3-8304-5679894f9465",
   "metadata": {},
   "outputs": [],
   "source": [
    "%%bash\n",
    "export DEVICE_SHELL=\"adb -H $DEVICE_HOST -s $DEVICE_ID\"\n",
    "$DEVICE_SHELL shell \"mkdir -p /data/local/tmp/snpeexample/$SNPE_TARGET_ARCH/bin\" && $DEVICE_SHELL shell \"mkdir -p /data/local/tmp/snpeexample/$SNPE_TARGET_ARCH/lib\" && $DEVICE_SHELL shell \"mkdir -p /data/local/tmp/snpeexample/dsp/lib\""
   ]
  },
  {
   "cell_type": "code",
   "execution_count": null,
   "id": "f16cdc34-20a5-497b-9e43-023b7530e4e6",
   "metadata": {},
   "outputs": [],
   "source": [
    "%%bash\n",
    "export DEVICE_SHELL=\"adb -H $DEVICE_HOST -s $DEVICE_ID\"\n",
    "$DEVICE_SHELL push $SNPE_ROOT/lib/$SNPE_TARGET_ARCH/$SNPE_TARGET_STL /data/local/tmp/snpeexample/$SNPE_TARGET_ARCH/lib\n",
    "$DEVICE_SHELL push $SNPE_ROOT/bin/$SNPE_TARGET_ARCH/snpe-net-run /data/local/tmp/snpeexample/$SNPE_TARGET_ARCH/bin\n",
    "$DEVICE_SHELL push $SNPE_ROOT/lib/hexagon-v75/unsigned/*.so /data/local/tmp/snpeexample/dsp/lib\n",
    "$DEVICE_SHELL push $SNPE_ROOT/lib/$SNPE_TARGET_ARCH/*.so /data/local/tmp/snpeexample/$SNPE_TARGET_ARCH/lib"
   ]
  },
  {
   "cell_type": "code",
   "execution_count": null,
   "id": "453d7fd8-8538-44e8-83cc-a8839c169bcc",
   "metadata": {},
   "outputs": [],
   "source": [
    "%%bash\n",
    "export DEVICE_SHELL=\"adb -H $DEVICE_HOST -s $DEVICE_ID\"\n",
    "$DEVICE_SHELL shell \"mkdir -p /data/local/tmp/$ONDEVICE_FOLDER\""
   ]
  },
  {
   "cell_type": "markdown",
   "id": "b4a687ab-bf73-479e-9984-a8440c484cec",
   "metadata": {},
   "source": [
    "## Push files on device"
   ]
  },
  {
   "cell_type": "code",
   "execution_count": null,
   "id": "2964cbb8-6f34-48f7-ac0b-0be3d40e6db5",
   "metadata": {},
   "outputs": [],
   "source": [
    "%%bash\n",
    "export DEVICE_SHELL=\"adb -H $DEVICE_HOST -s $DEVICE_ID\"\n",
    "$DEVICE_SHELL push $DLC32 /data/local/tmp/$ONDEVICE_FOLDER\n",
    "$DEVICE_SHELL push $DLC8 /data/local/tmp/$ONDEVICE_FOLDER\n",
    "$DEVICE_SHELL push $RAW_FILE_FOLDER /data/local/tmp/$ONDEVICE_FOLDER\n",
    "$DEVICE_SHELL push $TARGET_INPUT_LIST /data/local/tmp/$ONDEVICE_FOLDER"
   ]
  },
  {
   "cell_type": "markdown",
   "id": "a2853869-ffc2-40e1-80a8-97604912927e",
   "metadata": {},
   "source": [
    "## Inferencing the FP32 Model"
   ]
  },
  {
   "cell_type": "code",
   "execution_count": null,
   "id": "cf7b5647-877c-4233-9a1b-6280a55f58e3",
   "metadata": {},
   "outputs": [],
   "source": [
    "%%bash\n",
    "export DEVICE_SHELL=\"adb -H $DEVICE_HOST -s $DEVICE_ID\"\n",
    "$DEVICE_SHELL shell\n",
    "export LD_LIBRARY_PATH=$LD_LIBRARY_PATH:/data/local/tmp/snpeexample/aarch64-android/lib\n",
    "export PATH=$PATH:/data/local/tmp/snpeexample/aarch64-android/bin\n",
    "export OUTPUT_FOLDER=OUTPUT_32b_CPU\n",
    "export OUTPUT_DLC_32=ffnet_fp32.dlc\n",
    "export ONDEVICE_FOLDER=\"ffnetseg\"\n",
    "cd /data/local/tmp/$ONDEVICE_FOLDER &&\n",
    "snpe-net-run --container $OUTPUT_DLC_32 --input_list input.txt --output_dir $OUTPUT_FOLDER "
   ]
  },
  {
   "cell_type": "markdown",
   "id": "e292374c-1cfd-4497-92b3-296a007a2a37",
   "metadata": {},
   "source": [
    "## Inferencing the INT 8 Model"
   ]
  },
  {
   "cell_type": "code",
   "execution_count": null,
   "id": "b9c7283e-6518-4656-b8e6-adfb6f5f7f43",
   "metadata": {},
   "outputs": [],
   "source": [
    "%%bash\n",
    "export DEVICE_SHELL=\"adb -H $DEVICE_HOST -s $DEVICE_ID\"\n",
    "$DEVICE_SHELL shell\n",
    "export LD_LIBRARY_PATH=$LD_LIBRARY_PATH:/data/local/tmp/snpeexample/aarch64-android/lib\n",
    "export PATH=$PATH:/data/local/tmp/snpeexample/aarch64-android/bin\n",
    "export OUTPUT_FOLDER=OUTPUT_8b_DSP\n",
    "export OUTPUT_DLC_QUANTIZED8=ffnet_w8a8.dlc\n",
    "export ADSP_LIBRARY_PATH=\"/data/local/tmp/snpeexample/dsp/lib;/system/lib/rfsa/adsp;/system/vendor/lib/rfsa/adsp;/dsp\"\n",
    "export ONDEVICE_FOLDER=\"ffnetseg\"\n",
    "cd /data/local/tmp/$ONDEVICE_FOLDER &&\n",
    "snpe-net-run --container $OUTPUT_DLC_QUANTIZED8 --input_list input.txt --output_dir $OUTPUT_FOLDER --use_dsp"
   ]
  },
  {
   "cell_type": "markdown",
   "id": "a852c434-9d77-404b-930d-334e2ed08c14",
   "metadata": {},
   "source": [
    "## Pull output raw files "
   ]
  },
  {
   "cell_type": "code",
   "execution_count": null,
   "id": "120a71eb-c087-4435-85ae-03e791b59fb3",
   "metadata": {},
   "outputs": [],
   "source": [
    "os.makedirs('output',exist_ok=True)"
   ]
  },
  {
   "cell_type": "code",
   "execution_count": null,
   "id": "5c09a1d5-0b56-43f0-8ec8-f626d706f040",
   "metadata": {},
   "outputs": [],
   "source": [
    "%%bash\n",
    "export DEVICE_SHELL=\"adb -H $DEVICE_HOST -s $DEVICE_ID\"\n",
    "$DEVICE_SHELL pull /data/local/tmp/$ONDEVICE_FOLDER/OUTPUT_8b_DSP output/OUTPUT_8b_DSP\n",
    "$DEVICE_SHELL pull /data/local/tmp/$ONDEVICE_FOLDER/OUTPUT_32b_CPU output/OUTPUT_32b_CPU"
   ]
  },
  {
   "cell_type": "markdown",
   "id": "c60cae78-94d6-4e1c-b5c6-08020ff923ad",
   "metadata": {},
   "source": [
    "# Post Processing"
   ]
  },
  {
   "cell_type": "markdown",
   "id": "ba243f58-597f-40d1-aae1-99fab467c3f5",
   "metadata": {},
   "source": [
    "#### Creating the Necessary Path Needed"
   ]
  },
  {
   "cell_type": "code",
   "execution_count": null,
   "id": "7d8c41dc-0f81-4b80-a80a-14c8a1882f96",
   "metadata": {},
   "outputs": [],
   "source": [
    "if not os.path.exists('output/model_prediction'):\n",
    "    os.makedirs('output/model_prediction')\n",
    "    \n",
    "if not os.path.exists('output/test_results/'):\n",
    "    os.makedirs('output/test_results/')\n",
    "    \n",
    "if not os.path.exists('output/test_results/8b_dsp'):\n",
    "    os.makedirs('output/test_results/8b_dsp')\n",
    "    \n",
    "if not os.path.exists('output/test_results/32b_arm'):\n",
    "    os.makedirs('output/test_results/32b_arm')\n"
   ]
  },
  {
   "cell_type": "markdown",
   "id": "79681d37-a176-40d5-aa23-11ee754c1e95",
   "metadata": {},
   "source": [
    "## function for post processing raw outputs"
   ]
  },
  {
   "cell_type": "code",
   "execution_count": null,
   "id": "1d961306-3563-4419-861c-1d6693b563b7",
   "metadata": {},
   "outputs": [],
   "source": [
    "def postProcessing(img_path,out_path):\n",
    "    res = np.fromfile(img_path, dtype=\"float32\")\n",
    "    #print(\"res\", res.shape)\n",
    "    res_reshape = res.reshape((1,64,64,19)).astype(np.float32)\n",
    "    res_reshape = np.transpose(res_reshape,(0,3,1,2))\n",
    "    res_reshape = torch.from_numpy(res_reshape)\n",
    "    size = [1,3,512,1024]\n",
    "    pred = F.interpolate(\n",
    "            input=res_reshape, size=size[-2:],\n",
    "            mode='bilinear', align_corners=False\n",
    "        )\n",
    "    model_img = pred\n",
    "    pred = model_img.max(1)[1].cpu().numpy()[0] # HW\n",
    "    pred.shape\n",
    "\n",
    "    plt.imsave(out_path,pred)"
   ]
  },
  {
   "cell_type": "code",
   "execution_count": null,
   "id": "e11f8d9d-ecfb-4c63-a318-866b126d242d",
   "metadata": {},
   "outputs": [],
   "source": [
    "from torch.nn import functional as F\n",
    "import matplotlib.pyplot as plt\n",
    "import os\n",
    "test_images_dir = \"output/OUTPUT_8b_DSP/\"\n",
    "\n",
    "for i in range(0,5):\n",
    "    img_path = os.path.join(test_images_dir, 'Result_')\n",
    "    img_path = img_path+str(i)+'/617.raw'\n",
    "    out_path = 'output/test_results/8b_dsp/'+image_names[i]+'.png'\n",
    "    postProcessing(img_path, out_path)\n",
    "    i = i +1"
   ]
  },
  {
   "cell_type": "code",
   "execution_count": null,
   "id": "8eb6272f-7c1e-42d6-981c-2909c742616d",
   "metadata": {},
   "outputs": [],
   "source": [
    "from torch.nn import functional as F\n",
    "import matplotlib.pyplot as plt\n",
    "\n",
    "test_images_dir = \"output/OUTPUT_32b_CPU/\"\n",
    "\n",
    "for i in range(0,5):\n",
    "    img_path = os.path.join(test_images_dir, 'Result_')\n",
    "    img_path = img_path+str(i)+'/617.raw'\n",
    "    out_path = 'output/test_results/32b_arm/'+image_names[i]+'.png'\n",
    "    postProcessing(img_path, out_path)\n",
    "    i = i +1"
   ]
  },
  {
   "cell_type": "code",
   "execution_count": null,
   "id": "e03893f1-e42a-4804-8446-34e60e76077a",
   "metadata": {},
   "outputs": [],
   "source": [
    "def image_overlay(image, segmented_image):\n",
    " \n",
    "    alpha = 0.6 # how much transparency to apply\n",
    "    beta = 1 - alpha # alpha + beta should equal 1\n",
    "    gamma = 0 # scalar added to each sum\n",
    "    image = np.array(image)\n",
    "    image = cv2.cvtColor(image, cv2.COLOR_RGB2BGR)\n",
    "    segmented_image = cv2.cvtColor(segmented_image, cv2.COLOR_RGB2BGR)\n",
    "    cv2.addWeighted(segmented_image, alpha, image, beta, gamma, image)\n",
    "    return image"
   ]
  },
  {
   "cell_type": "markdown",
   "id": "f8ee966f-cfc9-4d08-81be-1a9793dd22a8",
   "metadata": {},
   "source": [
    "## Visualize the outputs"
   ]
  },
  {
   "cell_type": "code",
   "execution_count": null,
   "id": "ce896cea-18ba-4cca-ba3f-cf01f3282a64",
   "metadata": {},
   "outputs": [],
   "source": [
    "import matplotlib.pyplot as plt\n",
    "fig = plt.figure(figsize=(30, 100));\n",
    "import cv2\n",
    "for i in range(0, 5):\n",
    "    \n",
    "    original = cv2.imread('input/dataset/image/'+image_names[i]+'.png')\n",
    "    original = cv2.cvtColor(original, cv2.COLOR_BGR2RGB)\n",
    "    ax = fig.add_subplot(28,4,4*i+1);\n",
    "    plt.imshow(original,cmap='gray');\n",
    "    ax.set_title('original image\\n');\n",
    "    ax.axis('off');\n",
    "\n",
    "    temp_name = image_names[i].replace(\"_leftImg8bit\",\"_gtFine_color\")\n",
    "    pth_inf = cv2.imread('input/dataset/ground_truth/'+temp_name+'.png')\n",
    "\n",
    "    ax = fig.add_subplot(28,4,4*i+2);\n",
    "    plt.imshow(pth_inf,cmap='gray');\n",
    "    ax.set_title('pth output\\n');\n",
    "    ax.axis('off');\n",
    "\n",
    "\n",
    "    arm_fp32= cv2.imread('output/test_results/32b_arm/'+image_names[i]+'.png')\n",
    "\n",
    "    ax = fig.add_subplot(28,4,4*i+3);\n",
    "    plt.imshow(arm_fp32,cmap='gray');\n",
    "    ax.set_title('fp32 on ARM\\n');\n",
    "    ax.axis('off');\n",
    "\n",
    "    dsp= cv2.imread('output/test_results/8b_dsp/'+image_names[i]+'.png')\n",
    "    ax = fig.add_subplot(28,4,4*i+4);\n",
    "    plt.imshow(dsp,cmap='gray');\n",
    "    ax.set_title('int8 on DSP\\n');\n",
    "    ax.axis('off');"
   ]
  }
 ],
 "metadata": {
  "kernelspec": {
   "display_name": "Python 3 (ipykernel)",
   "language": "python",
   "name": "python3"
  },
  "language_info": {
   "codemirror_mode": {
    "name": "ipython",
    "version": 3
   },
   "file_extension": ".py",
   "mimetype": "text/x-python",
   "name": "python",
   "nbconvert_exporter": "python",
   "pygments_lexer": "ipython3",
   "version": "3.10.10"
  }
 },
 "nbformat": 4,
 "nbformat_minor": 5
}
