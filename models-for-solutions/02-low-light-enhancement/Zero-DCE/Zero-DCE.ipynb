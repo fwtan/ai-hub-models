{
 "cells": [
  {
   "cell_type": "markdown",
   "id": "43183bf7-00b7-49a4-b2cc-901deb564e9b",
   "metadata": {},
   "source": [
    "# Setting Up All Artifacts details"
   ]
  },
  {
   "cell_type": "code",
   "execution_count": null,
   "id": "45f44f67-3fd7-4c6f-92ed-2988d3a65fcc",
   "metadata": {},
   "outputs": [],
   "source": [
    "## Give appropriate permission to the directory \"FOLDER_WITH_ARTIFACTS\" you are working with\n",
    "import os\n",
    "os.environ['SNPE_ROOT']=\"/local/mnt/workspace/qaisw-v2.15.1.230926150623_62883\"#set up your snpe path here.\n",
    "os.environ['RAW_FILE_FOLDER']=\"raw\"#rawfiles\n",
    "os.environ['FOLDER_WITH_ARTIFACTS']=\"ZERO_DCE\"\n",
    "os.environ['DLC32']=\"dlc/zero_dce_fp32.dlc\"\n",
    "os.environ['DLC8']=\"dlc/zero_dce_w8a8.dlc\"\n",
    "os.environ['TARGET_INPUT_LIST']=\"list.txt\"\n",
    "os.environ['ONDEVICE_FOLDER']=\"ZERO_DCE\"\n",
    "os.environ['DEVICE_HOST']=\"localhost\"\n",
    "os.environ['DEVICE_ID']=\"2dce6316\"#fill your device-id. Use command \"adb devices\" to get devices names. example :\"e18d5d0\"\n",
    "os.environ['SNPE_TARGET_ARCH']=\"aarch64-android\"\n",
    "os.environ['SNPE_TARGET_STL']=\"libc++_shared.so\""
   ]
  },
  {
   "cell_type": "code",
   "execution_count": null,
   "id": "07d6bc1a-c090-4b1e-8bcc-b7d968d23ec9",
   "metadata": {},
   "outputs": [],
   "source": [
    "from PIL import Image\n",
    "import glob\n",
    "import os\n",
    "import cv2\n",
    "import numpy as np\n",
    "import torch\n",
    "import os\n",
    "import shutil"
   ]
  },
  {
   "cell_type": "markdown",
   "id": "09c6c68b-b058-4eaa-8c0d-fa6cefc2f343",
   "metadata": {},
   "source": [
    "# Getting The Model\n",
    "\n",
    "- **If You Already have the models in the dlc folder no need to run this cell**\n",
    "- [ https://github.com/Li-Chongyi/Zero-DCE.git  ](Link of the Actual Model)\n",
    "- Zero-Reference Deep Curve Estimation (Zero-DCE)"
   ]
  },
  {
   "cell_type": "code",
   "execution_count": null,
   "id": "54314caf-0b04-4f41-9704-f0eb99c640b0",
   "metadata": {},
   "outputs": [],
   "source": [
    "%%bash\n",
    "git clone https://github.com/Li-Chongyi/Zero-DCE\n",
    "#git reset  --hard 808e70644191a63c936bd4ce73ce3f10fbc02ec8\n",
    "cp Zero_DCE.patch Zero-DCE/Zero-DCE_code"
   ]
  },
  {
   "cell_type": "code",
   "execution_count": null,
   "id": "9a1db4a8-8451-40b7-9c40-ff19032aff50",
   "metadata": {},
   "outputs": [],
   "source": [
    "command1=\"cd Zero-DCE;cd Zero-DCE_code;patch -i Zero_DCE.patch\"\n",
    "os.system(command1)"
   ]
  },
  {
   "cell_type": "code",
   "execution_count": null,
   "id": "aa347c43-7686-41a6-8033-36d1e35d7dbf",
   "metadata": {},
   "outputs": [],
   "source": [
    "%%bash\n",
    "cp generate_model.py Zero-DCE/Zero-DCE_code/\n",
    "cd Zero-DCE/Zero-DCE_code/\n",
    "python generate_model.py"
   ]
  },
  {
   "cell_type": "markdown",
   "id": "f442d88d-c8c2-4517-9d16-badc1623b388",
   "metadata": {},
   "source": [
    "#### Getting the Non Quantized DLC File"
   ]
  },
  {
   "cell_type": "code",
   "execution_count": null,
   "id": "62a7057f-7359-44e9-a2f6-1171f232f63d",
   "metadata": {},
   "outputs": [],
   "source": [
    "%%bash\n",
    "source $SNPE_ROOT/bin/envsetup.sh\n",
    "snpe-onnx-to-dlc -i zero_dce.onnx -o dlc/zero_dce_fp32.dlc"
   ]
  },
  {
   "cell_type": "markdown",
   "id": "e3cd938b-1c03-423f-8e9a-27671ce50513",
   "metadata": {},
   "source": [
    "#### Understanding the Architecture of the Model"
   ]
  },
  {
   "cell_type": "code",
   "execution_count": null,
   "id": "9cdee03e-498d-434d-98d9-5cfc7e8af9dc",
   "metadata": {},
   "outputs": [],
   "source": [
    "%%bash \n",
    "source $SNPE_ROOT/bin/envsetup.sh\n",
    "snpe-dlc-viewer -i dlc/zero_dce_fp32.dlc -s zero_dce.html\n",
    "snpe-dlc-info -i dlc/zero_dce_fp32.dlc>zero_dce.txt"
   ]
  },
  {
   "cell_type": "markdown",
   "id": "2cfeaa71-4ecd-40d8-a928-28c953cf8100",
   "metadata": {},
   "source": [
    "#### Getting the data\n",
    "Use the dataset of your choice to validate the pre-processing, and post processing steps given in this notebook\n",
    "  "
   ]
  },
  {
   "cell_type": "code",
   "execution_count": null,
   "id": "b1f74234-5a49-4f45-b339-9273243b2244",
   "metadata": {},
   "outputs": [],
   "source": [
    "%%bash\n",
    "pip install gdown\n",
    "gdown --no-check-certificate 157bjO1_cFuSd0HWDUuAmcHRJDVyWpOxB\n",
    "unzip LOLdataset.zip\n",
    "rm -rf LOLdataset.zip\n",
    "rm -rf our485\n",
    "mkdir raw"
   ]
  },
  {
   "cell_type": "markdown",
   "id": "55639ea2-c396-4d10-bec4-35b8c54fcf4e",
   "metadata": {},
   "source": [
    "## Preprocessing the data to generate raw file"
   ]
  },
  {
   "cell_type": "code",
   "execution_count": null,
   "id": "9308f87d-bf77-4ebd-9dc1-d636241b24ec",
   "metadata": {},
   "outputs": [],
   "source": [
    "def preprocess(ll_img, hl_img):\n",
    "    ll_img = np.array(ll_img, dtype='float32')\n",
    "    hl_img = np.array(hl_img, dtype='float32')\n",
    "    \n",
    "    ll_img = np.uint8(np.clip(ll_img, 0., 255.))  # this is to simulate matlab's imwrite operation\n",
    "    hl_img = np.uint8(np.clip(hl_img, 0., 255.))  # this is to simulate matlab's imwrite operation\n",
    "    \n",
    "    ll_img = np.uint8(ll_img)\n",
    "    hl_img = np.uint8(hl_img)\n",
    "    \n",
    "    ll_img = convert_image(ll_img, source='array', target='[0, 1]')\n",
    "    hl_img = convert_image(hl_img, source='array', target='[0, 1]')\n",
    "    \n",
    "    return ll_img, hl_img"
   ]
  },
  {
   "cell_type": "code",
   "execution_count": null,
   "id": "fc03d987-3253-40c2-a1bb-614c9324f3b9",
   "metadata": {},
   "outputs": [],
   "source": [
    "def convert_image(img, source, target):\n",
    "    if source == 'array':\n",
    "        img = torch.from_numpy(img.transpose((2, 0, 1))).contiguous()#chw\n",
    "        img = img.to(dtype=torch.float32).div(255) \n",
    "    elif source == '[0, 1]':\n",
    "        img = torch.clamp(img, 0, 1)  # useful to post-process output of models that can overspill\n",
    "    \n",
    "    if target == '[0, 1]':\n",
    "        pass  # already in [0, 1]\n",
    "    return img"
   ]
  },
  {
   "cell_type": "code",
   "execution_count": null,
   "id": "4bec0bdf-8131-455a-a054-a9c5e6a4adf3",
   "metadata": {},
   "outputs": [],
   "source": [
    "def post_process(img):\n",
    "    img = img.detach().cpu().numpy()\n",
    "    img = np.clip(255. * img, 0., 255.)\n",
    "    img = np.uint8(img)\n",
    "    img = img.transpose(1, 2, 0)#hwc\n",
    "    return img"
   ]
  },
  {
   "cell_type": "code",
   "execution_count": null,
   "id": "2cd61e97-1904-4b63-8ae2-da33ae80fb79",
   "metadata": {},
   "outputs": [],
   "source": [
    "def load_dataset(test_images_dir):\n",
    "    # Input images for the model\n",
    "    INPUTS_LL = []\n",
    "    # Post-processed images for visualization\n",
    "    IMAGES_LL = [] # LL:Low Light\n",
    "    IMAGES_HL = [] # HL:High Light\n",
    "\n",
    "    # Load the test images\n",
    "    count=0\n",
    "    for img_path in glob.glob(os.path.join(test_images_dir, '*')):\n",
    "        l_img = cv2.resize(cv2.imread(img_path),[480,640],interpolation=cv2.INTER_CUBIC)\n",
    "        l_img = cv2.cvtColor(l_img, cv2.COLOR_BGR2RGB)\n",
    "        \n",
    "        h_img = cv2.resize(cv2.imread(img_path.replace(\"low\",\"high\")),[480,640],interpolation=cv2.INTER_CUBIC)\n",
    "        h_img = cv2.cvtColor(h_img, cv2.COLOR_BGR2RGB)\n",
    "        \n",
    "        ll_img, hl_img = preprocess(l_img, h_img)#chw\n",
    "\n",
    "        INPUTS_LL.append(ll_img)#chw\n",
    "        IMAGES_LL.append(post_process(ll_img))#hwc\n",
    "        IMAGES_HL.append(post_process(hl_img))#hwc\n",
    "    return INPUTS_LL, IMAGES_LL, IMAGES_HL"
   ]
  },
  {
   "cell_type": "markdown",
   "id": "e3a6c6a7-b78f-4be1-b9bc-36e8a0828825",
   "metadata": {},
   "source": [
    "**Converting the low dataset to raw file format to give it to the model and do the inference**"
   ]
  },
  {
   "cell_type": "code",
   "execution_count": null,
   "id": "514d8cc1-db8b-46ed-b50e-ec3020d899c0",
   "metadata": {},
   "outputs": [],
   "source": [
    "os.makedirs('raw', exist_ok=True)"
   ]
  },
  {
   "cell_type": "code",
   "execution_count": null,
   "id": "6c14f848-3477-4997-9b31-d131a302ebbb",
   "metadata": {},
   "outputs": [],
   "source": [
    "test_images_dir = \"eval15/low\"\n",
    "INPUTS_LL, IMAGES_LL, IMAGES_HL = load_dataset(test_images_dir)\n",
    "print(len(INPUTS_LL),len(IMAGES_LL),len(IMAGES_HL))\n",
    "for i, img_ll in enumerate(INPUTS_LL):\n",
    "    img_ll = img_ll.cpu().detach().numpy()\n",
    "    img_ll = img_ll.astype(np.float32)\n",
    "    fid = open(\"raw/img_\"+str(i)+ \".raw\", 'wb')\n",
    "    img_ll.tofile(fid)\n",
    "    fid.close()"
   ]
  },
  {
   "cell_type": "code",
   "execution_count": null,
   "id": "efd5dc8f-cf00-4b20-a3c3-3573d4feab86",
   "metadata": {},
   "outputs": [],
   "source": [
    "total_iter = 15\n",
    "print(\"Generating input_list \\\"small_raw_list.txt\\\" with {} iterations\".format(total_iter))\n",
    "with open(\"list.txt\",'w') as f:\n",
    "    for i in range(total_iter):\n",
    "        f.write(\"raw/img_{}.raw\\n\".format(i))"
   ]
  },
  {
   "cell_type": "code",
   "execution_count": null,
   "id": "cc56770f-9799-42d3-bc64-535b761e73e2",
   "metadata": {},
   "outputs": [],
   "source": [
    "def post_process_enhanced(img):\n",
    "    img = np.fromfile(img, np.float32)\n",
    "    img = img.reshape((3,640,480)).astype(np.float32)\n",
    "    img = np.clip(img* 255. , 0., 255.)\n",
    "    img = np.uint8(img)\n",
    "    img = img.transpose(1, 2, 0)#hwc\n",
    "    return img"
   ]
  },
  {
   "cell_type": "markdown",
   "id": "e614714a-c056-4b90-9b1c-ca810fb7a350",
   "metadata": {},
   "source": [
    "#### Getting the Quantized Model"
   ]
  },
  {
   "cell_type": "code",
   "execution_count": null,
   "id": "e09213a6-cb9f-47e5-a76e-e690a16e08c1",
   "metadata": {},
   "outputs": [],
   "source": [
    "%%bash\n",
    "source $SNPE_ROOT/bin/envsetup.sh\n",
    "snpe-dlc-quantize --input_dlc dlc/zero_dce_fp32.dlc --input_list list.txt --use_enhanced_quantizer --use_adjusted_weights_quantizer --axis_quant --output_dlc dlc/zero_dce_w8a8.dlc --enable_htp --htp_socs sm8550"
   ]
  },
  {
   "cell_type": "markdown",
   "id": "abbd0a4b-4283-4f47-b828-0e676303d1d7",
   "metadata": {},
   "source": [
    "## Inferencing the Model"
   ]
  },
  {
   "cell_type": "code",
   "execution_count": null,
   "id": "0f5c04c4-d929-4a82-8d57-f75d4ffc09bc",
   "metadata": {},
   "outputs": [],
   "source": [
    "%%bash\n",
    "export DEVICE_SHELL=\"adb -H $DEVICE_HOST -s $DEVICE_ID\"\n",
    "$DEVICE_SHELL shell \"mkdir -p /data/local/tmp/snpeexample/$SNPE_TARGET_ARCH/bin\" && $DEVICE_SHELL shell \"mkdir -p /data/local/tmp/snpeexample/$SNPE_TARGET_ARCH/lib\" && $DEVICE_SHELL shell \"mkdir -p /data/local/tmp/snpeexample/dsp/lib\""
   ]
  },
  {
   "cell_type": "code",
   "execution_count": null,
   "id": "82daade8-c249-4734-a517-3d9388c3df4d",
   "metadata": {},
   "outputs": [],
   "source": [
    "%%bash\n",
    "export DEVICE_SHELL=\"adb -H $DEVICE_HOST -s $DEVICE_ID\"\n",
    "$DEVICE_SHELL push $SNPE_ROOT/lib/$SNPE_TARGET_ARCH/$SNPE_TARGET_STL /data/local/tmp/snpeexample/$SNPE_TARGET_ARCH/lib\n",
    "$DEVICE_SHELL push $SNPE_ROOT/bin/$SNPE_TARGET_ARCH/snpe-net-run /data/local/tmp/snpeexample/$SNPE_TARGET_ARCH/bin\n",
    "$DEVICE_SHELL push $SNPE_ROOT/lib/hexagon-v75/unsigned/*.so /data/local/tmp/snpeexample/dsp/lib\n",
    "$DEVICE_SHELL push $SNPE_ROOT/lib/$SNPE_TARGET_ARCH/*.so /data/local/tmp/snpeexample/$SNPE_TARGET_ARCH/lib"
   ]
  },
  {
   "cell_type": "code",
   "execution_count": null,
   "id": "662510c5-0670-4829-95a1-166c86cdb852",
   "metadata": {},
   "outputs": [],
   "source": [
    "%%bash\n",
    "export DEVICE_SHELL=\"adb -H $DEVICE_HOST -s $DEVICE_ID\"\n",
    "$DEVICE_SHELL shell \"mkdir -p /data/local/tmp/$ONDEVICE_FOLDER\""
   ]
  },
  {
   "cell_type": "code",
   "execution_count": null,
   "id": "9f2be12c-bac5-4954-9283-dbbcd47db253",
   "metadata": {},
   "outputs": [],
   "source": [
    "%%bash\n",
    "export DEVICE_SHELL=\"adb -H $DEVICE_HOST -s $DEVICE_ID\"\n",
    "$DEVICE_SHELL push $DLC32 /data/local/tmp/$ONDEVICE_FOLDER\n",
    "$DEVICE_SHELL push $DLC8 /data/local/tmp/$ONDEVICE_FOLDER\n",
    "$DEVICE_SHELL push raw /data/local/tmp/$ONDEVICE_FOLDER\n",
    "$DEVICE_SHELL push $TARGET_INPUT_LIST /data/local/tmp/$ONDEVICE_FOLDER"
   ]
  },
  {
   "cell_type": "markdown",
   "id": "e0d48fd7-cb86-4ed8-aa76-d9ac99a744ec",
   "metadata": {},
   "source": [
    "#### Inferencing the Quantized Model"
   ]
  },
  {
   "cell_type": "code",
   "execution_count": null,
   "id": "0923cac6-d195-4d05-aa7a-bbc14a72597a",
   "metadata": {},
   "outputs": [],
   "source": [
    "%%bash\n",
    "export DEVICE_SHELL=\"adb -H $DEVICE_HOST -s $DEVICE_ID\"\n",
    "$DEVICE_SHELL shell\n",
    "export LD_LIBRARY_PATH=$LD_LIBRARY_PATH:/data/local/tmp/snpeexample/aarch64-android/lib\n",
    "export PATH=$PATH:/data/local/tmp/snpeexample/aarch64-android/bin\n",
    "export OUTPUT_FOLDER=OUTPUT_8b_DSP\n",
    "export OUTPUT_DLC_QUANTIZED8=zero_dce_w8a8.dlc\n",
    "export ADSP_LIBRARY_PATH=\"/data/local/tmp/snpeexample/dsp/lib;/system/lib/rfsa/adsp;/system/vendor/lib/rfsa/adsp;/dsp\"\n",
    "export ONDEVICE_FOLDER=\"ZERO_DCE\"\n",
    "cd /data/local/tmp/$ONDEVICE_FOLDER &&\n",
    "snpe-net-run --container $OUTPUT_DLC_QUANTIZED8 --input_list list.txt --set_output_tensors 87 --output_dir $OUTPUT_FOLDER --use_dsp"
   ]
  },
  {
   "cell_type": "markdown",
   "id": "bda3bedb-1454-4f17-af7d-41ceb9de3a85",
   "metadata": {},
   "source": [
    "#### Inferencing the Non-Quantized Model"
   ]
  },
  {
   "cell_type": "code",
   "execution_count": null,
   "id": "3a6015ea-9d72-4da4-aca4-4dec8345f214",
   "metadata": {},
   "outputs": [],
   "source": [
    "%%bash\n",
    "export DEVICE_SHELL=\"adb -H $DEVICE_HOST -s $DEVICE_ID\"\n",
    "$DEVICE_SHELL shell\n",
    "export LD_LIBRARY_PATH=$LD_LIBRARY_PATH:/data/local/tmp/snpeexample/aarch64-android/lib\n",
    "export PATH=$PATH:/data/local/tmp/snpeexample/aarch64-android/bin\n",
    "export OUTPUT_FOLDER=OUTPUT_32b_CPU\n",
    "export OUTPUT_DLC_32=zero_dce_fp32.dlc\n",
    "export ONDEVICE_FOLDER=\"ZERO_DCE\"\n",
    "cd /data/local/tmp/$ONDEVICE_FOLDER &&\n",
    "snpe-net-run --container $OUTPUT_DLC_32 --input_list list.txt --set_unconsumed_as_output  --output_dir $OUTPUT_FOLDER"
   ]
  },
  {
   "cell_type": "markdown",
   "id": "eab0b961-9dac-4d72-a810-6d00130e4739",
   "metadata": {},
   "source": [
    "#### Pulling the Output"
   ]
  },
  {
   "cell_type": "code",
   "execution_count": null,
   "id": "8aa6743d-68cf-4c49-a845-cfd5d07c49bc",
   "metadata": {},
   "outputs": [],
   "source": [
    "%%bash\n",
    "rm -rf OUTPUT_8b_DSP\n",
    "rm -rf OUTPUT_32b_CPU"
   ]
  },
  {
   "cell_type": "code",
   "execution_count": null,
   "id": "5c1971ae-e8e4-4682-849f-46ab905a9462",
   "metadata": {},
   "outputs": [],
   "source": [
    "%%bash\n",
    "export DEVICE_SHELL=\"adb -H $DEVICE_HOST -s $DEVICE_ID\"\n",
    "$DEVICE_SHELL pull /data/local/tmp/$ONDEVICE_FOLDER/OUTPUT_8b_DSP OUTPUT_8b_DSP\n",
    "$DEVICE_SHELL pull /data/local/tmp/$ONDEVICE_FOLDER/OUTPUT_32b_CPU OUTPUT_32b_CPU"
   ]
  },
  {
   "cell_type": "markdown",
   "id": "974b97e3-83de-4afb-91e7-4df60dbde602",
   "metadata": {},
   "source": [
    "### Post Processing and Calculating PSNR Value"
   ]
  },
  {
   "cell_type": "code",
   "execution_count": null,
   "id": "02f5d42d-1a0c-423d-a4b4-78e59b251add",
   "metadata": {},
   "outputs": [],
   "source": [
    "import math\n",
    "def compute_psnr(img_pred, img_true, data_range=255., eps=1e-8):\n",
    "    err = (img_pred - img_true) ** 2 \n",
    "    err = np.mean(err)\n",
    "    return 10. * math.log10((data_range ** 2) / (err + eps))"
   ]
  },
  {
   "cell_type": "code",
   "execution_count": null,
   "id": "ecf3f6ff-f9fa-43ab-8e61-8993b2b41db1",
   "metadata": {},
   "outputs": [],
   "source": [
    "def evaluate_average_psnr(el_images, hl_images): #(enhanced_light<model o/p>, high_light <groud_truth>)\n",
    "    psnr = []\n",
    "    for i in range(len(el_images)):\n",
    "        el_img = cv2.imread(el_images[i], 1)\n",
    "        hl_img = cv2.imread(hl_images[i], 1)\n",
    "        psnr.append(compute_psnr(el_img,hl_img))\n",
    "    average_psnr = np.mean(np.array(psnr))\n",
    "    return average_psnr"
   ]
  },
  {
   "cell_type": "code",
   "execution_count": null,
   "id": "1f28ee33-1c5a-41d2-9c4d-d193df63b3b3",
   "metadata": {},
   "outputs": [],
   "source": [
    "folder = [\"OUTPUT_32b_CPU\", \"OUTPUT_8b_DSP\"]\n",
    "from PIL import Image\n",
    "dict_folder_wise={}\n",
    "for j in range(0,len(folder)):\n",
    "    IMAGES_EL = []# EL: Enhanced Light (model output)\n",
    "    File_LL=[]\n",
    "    File_EL=[]\n",
    "    File_HL=[]\n",
    "    dict_folder_wise[str(folder[j])]=[]\n",
    "    for i in range(0,15):\n",
    "        # for prediction img\n",
    "        IMAGES_EL.append(post_process_enhanced(folder[j]+\"/Result_\"+str(i)+\"/87.raw\"))  \n",
    "        im = Image.fromarray(IMAGES_EL[i])\n",
    "        im.save(folder[j]+\"/Result_\"+str(i)+\"/prediction.jpeg\")\n",
    "        File_EL.append(folder[j]+\"/Result_\"+str(i)+\"/prediction.jpeg\")\n",
    "        \n",
    "        #for ground truth HL\n",
    "        im = Image.fromarray(IMAGES_HL[i])\n",
    "        im.save(folder[j]+\"/Result_\"+str(i)+\"/groundtruth_HL.jpeg\")\n",
    "        File_HL.append(folder[j]+\"/Result_\"+str(i)+\"/groundtruth_HL.jpeg\")\n",
    "        \n",
    "        #for ground truth LL\n",
    "        im = Image.fromarray(IMAGES_LL[i])\n",
    "        im.save(folder[j]+\"/Result_\"+str(i)+\"/groundtruth_LL.jpeg\")\n",
    "        File_LL.append(folder[j]+\"/Result_\"+str(i)+\"/groundtruth_LL.jpeg\")\n",
    "        dict_folder_wise[str(folder[j])].append([File_LL[i],File_HL[i],File_EL[i]])\n",
    "    print(folder[j],\" :: \",evaluate_average_psnr(File_EL,File_HL))\n",
    "    print(\"\\n============================\\n\")"
   ]
  },
  {
   "cell_type": "markdown",
   "id": "69476a0f-553b-49d2-9c9b-f817e34fcf2f",
   "metadata": {},
   "source": [
    "### Comaparison of Output between Non Quantized Model and Quantized Model"
   ]
  },
  {
   "cell_type": "code",
   "execution_count": null,
   "id": "d1608474-4c3f-44da-9e4c-308bf8920078",
   "metadata": {},
   "outputs": [],
   "source": [
    "import matplotlib.pyplot as plt\n",
    "from matplotlib.pyplot import figure, imshow, axis\n",
    "from matplotlib.image import imread\n",
    "import random as rand\n",
    "\n",
    "def showImagesHorizontally(majors,index):\n",
    "    fig, axs = plt.subplots(1, 4, figsize=(12,4))\n",
    "    for nn, ax in enumerate(axs.flat):\n",
    "        if nn<=2:\n",
    "            column = majors[nn]\n",
    "            column_rec_name = column.replace('\\n', '_').replace(' ', '_')\n",
    "            image = imread(majors[nn])\n",
    "            ax.set_xlabel(majors[nn].split(\"/\")[-1])\n",
    "        else:\n",
    "            image=imread(dict_folder_wise['OUTPUT_8b_DSP'][index][-1])\n",
    "            ax.set_xlabel(\"Prediction 8b\")\n",
    "        ax.imshow(image)\n",
    "        \n",
    "    fig.suptitle(\"Comparison Between Ground Truth and Prediction\", fontsize=16)\n",
    "    plt.show()\n",
    "\n",
    "for index in range(0,15):\n",
    "    showImagesHorizontally(dict_folder_wise['OUTPUT_32b_CPU'][index],index)"
   ]
  }
 ],
 "metadata": {
  "kernelspec": {
   "display_name": "Python 3 (ipykernel)",
   "language": "python",
   "name": "python3"
  },
  "language_info": {
   "codemirror_mode": {
    "name": "ipython",
    "version": 3
   },
   "file_extension": ".py",
   "mimetype": "text/x-python",
   "name": "python",
   "nbconvert_exporter": "python",
   "pygments_lexer": "ipython3",
   "version": "3.10.10"
  }
 },
 "nbformat": 4,
 "nbformat_minor": 5
}
