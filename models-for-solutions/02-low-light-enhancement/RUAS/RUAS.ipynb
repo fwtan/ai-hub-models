{
 "cells": [
  {
   "cell_type": "markdown",
   "id": "100b7d5b-30b6-40a1-8803-5fc7f49c7afe",
   "metadata": {},
   "source": [
    "# Setting Up All Artifacts details"
   ]
  },
  {
   "cell_type": "code",
   "execution_count": null,
   "id": "94c5915b-76cd-4824-a1a9-1b93804e1518",
   "metadata": {},
   "outputs": [],
   "source": [
    "## Give appropriate permission to the directory \"FOLDER_WITH_ARTIFACTS\" you are working with\n",
    "import os\n",
    "os.environ['SNPE_ROOT']=\"/local/mnt/workspace/qaisw-v2.15.1.230926150623_62883\"#set up your snpe path here.\n",
    "os.environ['RAW_FILE_FOLDER']=\"raw\"#rawfiles\n",
    "os.environ['FOLDER_WITH_ARTIFACTS']=\"RUAS\"\n",
    "os.environ['DLC32']=\"dlc/ruas_fp32.dlc\"\n",
    "os.environ['DLC8']=\"dlc/ruas_w8a8.dlc\"\n",
    "os.environ['TARGET_INPUT_LIST']=\"list.txt\"\n",
    "os.environ['ONDEVICE_FOLDER']=\"RUAS\"\n",
    "os.environ['DEVICE_HOST']=\"localhost\"\n",
    "os.environ['DEVICE_ID']=\"2dce6316\" #fill your device-id. Use command \"adb devices\" to get devices names. example :\"e18d5d0\"\n",
    "os.environ['SNPE_TARGET_ARCH']=\"aarch64-android\"\n",
    "os.environ['SNPE_TARGET_STL']=\"libc++_shared.so\""
   ]
  },
  {
   "cell_type": "code",
   "execution_count": null,
   "id": "70340229-a8d0-4ede-bad4-2c4e563ef80b",
   "metadata": {},
   "outputs": [],
   "source": [
    "from PIL import Image\n",
    "import glob\n",
    "import os\n",
    "import cv2\n",
    "import numpy as np\n",
    "import torch\n",
    "import os\n",
    "import shutil"
   ]
  },
  {
   "cell_type": "markdown",
   "id": "82167b78-359b-489b-8002-9c62106f7fe9",
   "metadata": {},
   "source": [
    "# Getting The Model\n",
    "\n",
    "- **If You Already have the models in the dlc folder no need to run this cell**\n",
    "- [ https://github.com/dut-media-lab/RUAS.git  ](Link of the Actual Model)\n",
    "- Retinex-inspired Unrolling with Cooperative Prior Architecture Search for Low-light Image Enhancement(RUAS)"
   ]
  },
  {
   "cell_type": "code",
   "execution_count": null,
   "id": "2f76b0c7-9a08-4f3e-b3ef-be203127932e",
   "metadata": {},
   "outputs": [],
   "source": [
    "%%bash\n",
    "git clone https://github.com/dut-media-lab/RUAS\n",
    "#git reset --hard c859661f89b21bce592634b36ecec33fa6bb4b19"
   ]
  },
  {
   "cell_type": "code",
   "execution_count": null,
   "id": "9591c582-5c47-4e45-aa26-49af0b0bfc31",
   "metadata": {},
   "outputs": [],
   "source": [
    "command1=\"cp RUAS.patch RUAS/;cd RUAS;patch -i RUAS.patch\"\n",
    "os.system(command1)"
   ]
  },
  {
   "cell_type": "markdown",
   "id": "a6551d24-2f0b-48d9-8908-57ba79d1045e",
   "metadata": {},
   "source": [
    "#### Generating the ONNX Model\n",
    "- **Before Running this cell change  in generate_model.py the torch.load(RUAS/ckpt/lol.pt) to torch.load(ckpt/lol.pt)**"
   ]
  },
  {
   "cell_type": "code",
   "execution_count": null,
   "id": "cb5ef152-633e-4f08-9020-0ba98cf9d086",
   "metadata": {
    "scrolled": true
   },
   "outputs": [],
   "source": [
    "%%bash\n",
    "cp generate_model.py RUAS/\n",
    "cd RUAS\n",
    "cp model/denoise.pt ckpt/\n",
    "python generate_model.py\n",
    "#cp -r ruas.onnx ../"
   ]
  },
  {
   "cell_type": "markdown",
   "id": "9b0f13a9-df27-4cd9-b4f8-6b1a30026cf2",
   "metadata": {},
   "source": [
    "#### Getting DLC(32b) Model"
   ]
  },
  {
   "cell_type": "code",
   "execution_count": null,
   "id": "c1b9d54e-6d93-4dc5-b0d4-d28dc9376c18",
   "metadata": {},
   "outputs": [],
   "source": [
    "%%bash\n",
    "source $SNPE_ROOT/bin/envsetup.sh\n",
    "snpe-onnx-to-dlc -i ruas.onnx -o dlc/ruas_fp32.dlc"
   ]
  },
  {
   "cell_type": "markdown",
   "id": "b434d983-d583-4736-9866-252060f19b8a",
   "metadata": {},
   "source": [
    "##### Understanding the Model architecture"
   ]
  },
  {
   "cell_type": "code",
   "execution_count": null,
   "id": "1cf3168c-fc51-4882-b1a2-09635b9f428a",
   "metadata": {},
   "outputs": [],
   "source": [
    "%%bash \n",
    "source $SNPE_ROOT/bin/envsetup.sh\n",
    "snpe-dlc-viewer -i dlc/ruas_fp32.dlc -s dlc/model_architecture/ruas.html\n",
    "snpe-dlc-info -i dlc/ruas_fp32.dlc>ruas.txt"
   ]
  },
  {
   "cell_type": "markdown",
   "id": "44c2c218-603d-4e08-9fb4-2abd77014e62",
   "metadata": {},
   "source": [
    "## Getting Dataset\n",
    "\n",
    "Use the dataset of your choice to validate the pre-processing, and post processing steps given in this notebook"
   ]
  },
  {
   "cell_type": "markdown",
   "id": "a701c7b0-59d8-4d0f-8e4e-861fb3b1e5a3",
   "metadata": {},
   "source": [
    "## Preprocessing the data to generate raw file"
   ]
  },
  {
   "cell_type": "code",
   "execution_count": null,
   "id": "22504a00-36ff-4723-b652-d9fb7eb99b9e",
   "metadata": {},
   "outputs": [],
   "source": [
    "def preprocess(ll_img, hl_img):\n",
    "    ll_img = np.array(ll_img, dtype='float32')\n",
    "    hl_img = np.array(hl_img, dtype='float32')\n",
    "    \n",
    "    ll_img = np.uint8(np.clip(ll_img, 0., 255.))  # this is to simulate matlab's imwrite operation\n",
    "    hl_img = np.uint8(np.clip(hl_img, 0., 255.))  # this is to simulate matlab's imwrite operation\n",
    "    \n",
    "    ll_img = np.uint8(ll_img)\n",
    "    hl_img = np.uint8(hl_img)\n",
    "    \n",
    "    ll_img = convert_image(ll_img, source='array', target='[0, 1]')\n",
    "    hl_img = convert_image(hl_img, source='array', target='[0, 1]')\n",
    "    \n",
    "    return ll_img, hl_img"
   ]
  },
  {
   "cell_type": "code",
   "execution_count": null,
   "id": "b05d9163-74f8-4a50-869d-b7ef091ccab1",
   "metadata": {},
   "outputs": [],
   "source": [
    "def convert_image(img, source, target):\n",
    "    if source == 'array':\n",
    "        img = torch.from_numpy(img.transpose((2, 0, 1))).contiguous()#chw\n",
    "        img = img.to(dtype=torch.float32).div(255) \n",
    "    elif source == '[0, 1]':\n",
    "        img = torch.clamp(img, 0, 1)  # useful to post-process output of models that can overspill\n",
    "    \n",
    "    if target == '[0, 1]':\n",
    "        pass  # already in [0, 1]\n",
    "    return img"
   ]
  },
  {
   "cell_type": "code",
   "execution_count": null,
   "id": "25ccead5-1857-40d8-8b02-61d3c3fc251c",
   "metadata": {},
   "outputs": [],
   "source": [
    "def post_process(img):\n",
    "    img = img.detach().cpu().numpy()\n",
    "    img = np.clip(255. * img, 0., 255.)\n",
    "    img = np.uint8(img)\n",
    "    img = img.transpose(1, 2, 0)#hwc\n",
    "    return img"
   ]
  },
  {
   "cell_type": "code",
   "execution_count": null,
   "id": "3188d144-c3bf-42b1-bb41-3b316e54e527",
   "metadata": {},
   "outputs": [],
   "source": [
    "def load_dataset(test_images_dir):\n",
    "    # Input images for the model\n",
    "    INPUTS_LL = []\n",
    "    # Post-processed images for visualization\n",
    "    IMAGES_LL = [] # LL:Low Light\n",
    "    IMAGES_HL = [] # HL:High Light\n",
    "\n",
    "    # Load the test images\n",
    "    count=0\n",
    "    for img_path in glob.glob(os.path.join(test_images_dir, '*')):\n",
    "        l_img = cv2.resize(cv2.imread(img_path),[480,640],interpolation=cv2.INTER_CUBIC)\n",
    "        l_img = cv2.cvtColor(l_img, cv2.COLOR_BGR2RGB)\n",
    "        \n",
    "        h_img = cv2.resize(cv2.imread(img_path.replace(\"low\",\"high\")),[480,640],interpolation=cv2.INTER_CUBIC)\n",
    "        h_img = cv2.cvtColor(h_img, cv2.COLOR_BGR2RGB)\n",
    "        \n",
    "        ll_img, hl_img = preprocess(l_img, h_img)#chw\n",
    "\n",
    "        INPUTS_LL.append(ll_img)#chw\n",
    "        IMAGES_LL.append(post_process(ll_img))#hwc\n",
    "        IMAGES_HL.append(post_process(hl_img))#hwc\n",
    "    return INPUTS_LL, IMAGES_LL, IMAGES_HL"
   ]
  },
  {
   "cell_type": "markdown",
   "id": "d82f3a6d-8ad9-4b82-80b9-8fa50af20bee",
   "metadata": {},
   "source": [
    "**Converting the low dataset to raw file format to give it to the model and do the inference**"
   ]
  },
  {
   "cell_type": "code",
   "execution_count": null,
   "id": "a69187d5-1dcb-4f0e-949b-9422e32d6de3",
   "metadata": {},
   "outputs": [],
   "source": [
    "os.makedirs('raw', exist_ok=True)"
   ]
  },
  {
   "cell_type": "code",
   "execution_count": null,
   "id": "98bd0cb8-c2b7-496c-9e77-2896afbcb2dc",
   "metadata": {},
   "outputs": [],
   "source": [
    "test_images_dir = \"<images_path>\"\n",
    "INPUTS_LL, IMAGES_LL, IMAGES_HL = load_dataset(test_images_dir)\n",
    "print(len(INPUTS_LL),len(IMAGES_LL),len(IMAGES_HL))\n",
    "for i, img_ll in enumerate(INPUTS_LL):\n",
    "    img_ll = img_ll.cpu().detach().numpy()\n",
    "    img_ll = img_ll.astype(np.float32)\n",
    "    fid = open(\"raw/img_\"+str(i)+ \".raw\", 'wb')\n",
    "    img_ll.tofile(fid)\n",
    "    fid.close()"
   ]
  },
  {
   "cell_type": "markdown",
   "id": "d32eb89c-ef0f-4f4c-8ac8-d31ce20b7ab3",
   "metadata": {},
   "source": [
    "#### Getting the Quantized Model"
   ]
  },
  {
   "cell_type": "code",
   "execution_count": null,
   "id": "22d07fac-85df-4bdf-8487-ee1a6da68d70",
   "metadata": {},
   "outputs": [],
   "source": [
    "total_iter = 15\n",
    "print(\"Generating input_list \\\"small_raw_list.txt\\\" with {} iterations\".format(total_iter))\n",
    "with open(\"list.txt\",'w') as f:\n",
    "    for i in range(total_iter):\n",
    "        f.write(\"raw/img_{}.raw\\n\".format(i))"
   ]
  },
  {
   "cell_type": "code",
   "execution_count": null,
   "id": "c6b79223-ddf2-43a3-bb4c-00aeeee4daee",
   "metadata": {},
   "outputs": [],
   "source": [
    "%%bash\n",
    "source $SNPE_ROOT/bin/envsetup.sh\n",
    "snpe-dlc-quantize --input_dlc dlc/ruas_fp32.dlc --input_list list.txt --use_enhanced_quantizer --use_adjusted_weights_quantizer --axis_quant --output_dlc dlc/ruas_w8a8.dlc --enable_htp --htp_socs sm8650"
   ]
  },
  {
   "cell_type": "markdown",
   "id": "fd8e1bcf-09fd-425c-88b9-fede5bd6f805",
   "metadata": {},
   "source": [
    "## Inferencing the Model"
   ]
  },
  {
   "cell_type": "code",
   "execution_count": null,
   "id": "654c9630-a3a1-4e21-96b2-1294e00ee571",
   "metadata": {},
   "outputs": [],
   "source": [
    "%%bash\n",
    "export DEVICE_SHELL=\"adb -H $DEVICE_HOST -s $DEVICE_ID\"\n",
    "$DEVICE_SHELL shell \"mkdir -p /data/local/tmp/snpeexample/$SNPE_TARGET_ARCH/bin\" && $DEVICE_SHELL shell \"mkdir -p /data/local/tmp/snpeexample/$SNPE_TARGET_ARCH/lib\" && $DEVICE_SHELL shell \"mkdir -p /data/local/tmp/snpeexample/dsp/lib\""
   ]
  },
  {
   "cell_type": "code",
   "execution_count": null,
   "id": "f3225438-c35d-4770-abd1-de0d9fae29dc",
   "metadata": {},
   "outputs": [],
   "source": [
    "%%bash\n",
    "export DEVICE_SHELL=\"adb -H $DEVICE_HOST -s $DEVICE_ID\"\n",
    "$DEVICE_SHELL push $SNPE_ROOT/lib/$SNPE_TARGET_ARCH/$SNPE_TARGET_STL /data/local/tmp/snpeexample/$SNPE_TARGET_ARCH/lib\n",
    "$DEVICE_SHELL push $SNPE_ROOT/bin/$SNPE_TARGET_ARCH/snpe-net-run /data/local/tmp/snpeexample/$SNPE_TARGET_ARCH/bin\n",
    "$DEVICE_SHELL push $SNPE_ROOT/lib/hexagon-v75/unsigned/*.so /data/local/tmp/snpeexample/dsp/lib\n",
    "$DEVICE_SHELL push $SNPE_ROOT/lib/$SNPE_TARGET_ARCH/*.so /data/local/tmp/snpeexample/$SNPE_TARGET_ARCH/lib"
   ]
  },
  {
   "cell_type": "code",
   "execution_count": null,
   "id": "ea602da2-b0e7-487e-a310-12740578b856",
   "metadata": {},
   "outputs": [],
   "source": [
    "%%bash\n",
    "export DEVICE_SHELL=\"adb -H $DEVICE_HOST -s $DEVICE_ID\"\n",
    "$DEVICE_SHELL shell \"mkdir -p /data/local/tmp/$ONDEVICE_FOLDER\""
   ]
  },
  {
   "cell_type": "code",
   "execution_count": null,
   "id": "48ffab7c-bddc-4353-b142-fe3c52096d32",
   "metadata": {},
   "outputs": [],
   "source": [
    "%%bash\n",
    "export DEVICE_SHELL=\"adb -H $DEVICE_HOST -s $DEVICE_ID\"\n",
    "$DEVICE_SHELL push $DLC32 /data/local/tmp/$ONDEVICE_FOLDER\n",
    "$DEVICE_SHELL push $DLC8 /data/local/tmp/$ONDEVICE_FOLDER\n",
    "$DEVICE_SHELL push raw /data/local/tmp/$ONDEVICE_FOLDER\n",
    "$DEVICE_SHELL push $TARGET_INPUT_LIST /data/local/tmp/$ONDEVICE_FOLDER"
   ]
  },
  {
   "cell_type": "markdown",
   "id": "d09076f4-cea4-4b66-afbf-eb169471da67",
   "metadata": {},
   "source": [
    "#### Inferencing the Quantized Model"
   ]
  },
  {
   "cell_type": "code",
   "execution_count": null,
   "id": "a42180a6-c989-45c4-a900-63169c94a880",
   "metadata": {},
   "outputs": [],
   "source": [
    "%%bash\n",
    "export DEVICE_SHELL=\"adb -H $DEVICE_HOST -s $DEVICE_ID\"\n",
    "$DEVICE_SHELL shell\n",
    "export LD_LIBRARY_PATH=$LD_LIBRARY_PATH:/data/local/tmp/snpeexample/aarch64-android/lib\n",
    "export PATH=$PATH:/data/local/tmp/snpeexample/aarch64-android/bin\n",
    "export OUTPUT_FOLDER=OUTPUT_8b_DSP\n",
    "export OUTPUT_DLC_QUANTIZED8=ruas_w8a8.dlc\n",
    "export ADSP_LIBRARY_PATH=\"/data/local/tmp/snpeexample/dsp/lib;/system/lib/rfsa/adsp;/system/vendor/lib/rfsa/adsp;/dsp\"\n",
    "export ONDEVICE_FOLDER=\"RUAS\"\n",
    "cd /data/local/tmp/$ONDEVICE_FOLDER &&\n",
    "snpe-net-run --container $OUTPUT_DLC_QUANTIZED8 --input_list list.txt  --output_dir $OUTPUT_FOLDER --use_dsp"
   ]
  },
  {
   "cell_type": "markdown",
   "id": "9ce677d5-d372-4010-a4b7-44c06683a944",
   "metadata": {},
   "source": [
    "#### Inferencing the 32b Model"
   ]
  },
  {
   "cell_type": "code",
   "execution_count": null,
   "id": "60b8bc5f-4d56-4b3c-ae01-e6687a2b00dd",
   "metadata": {},
   "outputs": [],
   "source": [
    "%%bash\n",
    "export DEVICE_SHELL=\"adb -H $DEVICE_HOST -s $DEVICE_ID\"\n",
    "$DEVICE_SHELL shell\n",
    "export LD_LIBRARY_PATH=$LD_LIBRARY_PATH:/data/local/tmp/snpeexample/aarch64-android/lib\n",
    "export PATH=$PATH:/data/local/tmp/snpeexample/aarch64-android/bin\n",
    "export OUTPUT_FOLDER=OUTPUT_32b_CPU\n",
    "export OUTPUT_DLC_32=ruas_fp32.dlc\n",
    "export ONDEVICE_FOLDER=\"RUAS\"\n",
    "cd /data/local/tmp/$ONDEVICE_FOLDER &&\n",
    "snpe-net-run --container $OUTPUT_DLC_32 --input_list list.txt   --output_dir $OUTPUT_FOLDER"
   ]
  },
  {
   "cell_type": "markdown",
   "id": "07d6fa3e-f5a1-4acd-889e-66683232ca5f",
   "metadata": {},
   "source": [
    "#### Pulling the Output"
   ]
  },
  {
   "cell_type": "code",
   "execution_count": null,
   "id": "74fdce41-ba6a-45fa-b65e-1e15ceb09355",
   "metadata": {},
   "outputs": [],
   "source": [
    "%%bash\n",
    "export DEVICE_SHELL=\"adb -H $DEVICE_HOST -s $DEVICE_ID\"\n",
    "$DEVICE_SHELL pull /data/local/tmp/$ONDEVICE_FOLDER/OUTPUT_8b_DSP OUTPUT_8b_DSP\n",
    "$DEVICE_SHELL pull /data/local/tmp/$ONDEVICE_FOLDER/OUTPUT_32b_CPU OUTPUT_32b_CPU"
   ]
  },
  {
   "cell_type": "markdown",
   "id": "cfcee5be-0666-47c5-b6f2-5c91e1711adb",
   "metadata": {},
   "source": [
    "### Pos Processing and Calculating PSNR Value"
   ]
  },
  {
   "cell_type": "code",
   "execution_count": null,
   "id": "479ca78e-b748-4593-8a7a-ed036a965556",
   "metadata": {},
   "outputs": [],
   "source": [
    "import math\n",
    "def compute_psnr(img_pred, img_true, data_range=255., eps=1e-8):\n",
    "    err = (img_pred - img_true) ** 2 \n",
    "    err = np.mean(err)\n",
    "    return 10. * math.log10((data_range ** 2) / (err + eps))"
   ]
  },
  {
   "cell_type": "code",
   "execution_count": null,
   "id": "161294fd-4a07-45f0-ba63-726891fe09b7",
   "metadata": {},
   "outputs": [],
   "source": [
    "def evaluate_average_psnr(el_images, hl_images): #(enhanced_light<model o/p>, high_light <groud_truth>)\n",
    "    psnr = []\n",
    "    for i in range(len(el_images)):\n",
    "        el_img = cv2.imread(el_images[i], 1)\n",
    "        hl_img = cv2.imread(hl_images[i], 1)\n",
    "        psnr.append(compute_psnr(el_img,hl_img))\n",
    "    average_psnr = np.mean(np.array(psnr))\n",
    "    return average_psnr"
   ]
  },
  {
   "cell_type": "code",
   "execution_count": null,
   "id": "bcc854ae-7f38-49d4-8467-e39aef824aff",
   "metadata": {},
   "outputs": [],
   "source": [
    "def post_process_enhanced(img):\n",
    "    img = np.fromfile(img, np.float32)\n",
    "    img = img.reshape((3,640,480)).astype(np.float32)\n",
    "    img = np.clip(img * 255. , 0., 255.)\n",
    "    img = np.uint8(img)\n",
    "    img = img.transpose(1, 2, 0)#hwc\n",
    "    return img"
   ]
  },
  {
   "cell_type": "code",
   "execution_count": null,
   "id": "43b17d3a-f5e9-4ae9-b2f3-86eba8c77fed",
   "metadata": {},
   "outputs": [],
   "source": [
    "folder = [\"OUTPUT_32b_CPU\", \"OUTPUT_8b_DSP\"]\n",
    "from PIL import Image\n",
    "dict_folder_wise={}\n",
    "for j in range(0,len(folder)):\n",
    "    IMAGES_EL = []# EL: Enhanced Light (model output)\n",
    "    File_LL=[]\n",
    "    File_EL=[]\n",
    "    File_HL=[]\n",
    "    dict_folder_wise[str(folder[j])]=[]\n",
    "    for i in range(0,15):\n",
    "        # for prediction img\n",
    "        IMAGES_EL.append(post_process_enhanced(folder[j]+\"/Result_\"+str(i)+\"/414.raw\"))  \n",
    "        im = Image.fromarray(IMAGES_EL[i])\n",
    "        im.save(folder[j]+\"/Result_\"+str(i)+\"/prediction.jpeg\")\n",
    "        File_EL.append(folder[j]+\"/Result_\"+str(i)+\"/prediction.jpeg\")\n",
    "        \n",
    "        #for ground truth HL\n",
    "        im = Image.fromarray(IMAGES_HL[i])\n",
    "        im.save(folder[j]+\"/Result_\"+str(i)+\"/groundtruth_HL.jpeg\")\n",
    "        File_HL.append(folder[j]+\"/Result_\"+str(i)+\"/groundtruth_HL.jpeg\")\n",
    "        \n",
    "        #for ground truth LL\n",
    "        im = Image.fromarray(IMAGES_LL[i])\n",
    "        im.save(folder[j]+\"/Result_\"+str(i)+\"/groundtruth_LL.jpeg\")\n",
    "        File_LL.append(folder[j]+\"/Result_\"+str(i)+\"/groundtruth_LL.jpeg\")\n",
    "        dict_folder_wise[str(folder[j])].append([File_LL[i],File_HL[i],File_EL[i]])\n",
    "    print(folder[j],\" :: \",evaluate_average_psnr(File_EL,File_HL))\n",
    "    print(\"\\n============================\\n\")"
   ]
  },
  {
   "cell_type": "markdown",
   "id": "c534a829-a730-409b-b01b-976fac77c68e",
   "metadata": {},
   "source": [
    "### Comaparison of Output between Non Quantized Model and Quantized Model"
   ]
  },
  {
   "cell_type": "code",
   "execution_count": null,
   "id": "128e2e7c-f190-4934-a829-353bf60910b1",
   "metadata": {},
   "outputs": [],
   "source": [
    "import matplotlib.pyplot as plt\n",
    "from matplotlib.pyplot import figure, imshow, axis\n",
    "from matplotlib.image import imread\n",
    "import random as rand\n",
    "\n",
    "def showImagesHorizontally(majors,index):\n",
    "    fig, axs = plt.subplots(1, 4, figsize=(12,4))\n",
    "    for nn, ax in enumerate(axs.flat):\n",
    "        if nn<=2:\n",
    "            column = majors[nn]\n",
    "            column_rec_name = column.replace('\\n', '_').replace(' ', '_')\n",
    "            image = imread(majors[nn])\n",
    "            ax.set_xlabel(majors[nn].split(\"/\")[-1])\n",
    "        else:\n",
    "            image=imread(dict_folder_wise['OUTPUT_8b_DSP'][index][-1])\n",
    "            ax.set_xlabel(\"Prediction 8b\")\n",
    "        ax.imshow(image)\n",
    "        \n",
    "    fig.suptitle(\"Comparison Between Ground Truth and Predictions\", fontsize=16)\n",
    "    plt.show()\n",
    "\n",
    "for index in range(0,15):\n",
    "    showImagesHorizontally(dict_folder_wise['OUTPUT_32b_CPU'][index],index)"
   ]
  }
 ],
 "metadata": {
  "kernelspec": {
   "display_name": "Python 3 (ipykernel)",
   "language": "python",
   "name": "python3"
  },
  "language_info": {
   "codemirror_mode": {
    "name": "ipython",
    "version": 3
   },
   "file_extension": ".py",
   "mimetype": "text/x-python",
   "name": "python",
   "nbconvert_exporter": "python",
   "pygments_lexer": "ipython3",
   "version": "3.10.10"
  }
 },
 "nbformat": 4,
 "nbformat_minor": 5
}
