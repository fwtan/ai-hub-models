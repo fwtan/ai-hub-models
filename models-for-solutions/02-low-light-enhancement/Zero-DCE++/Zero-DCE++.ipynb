{
 "cells": [
  {
   "cell_type": "markdown",
   "id": "4b2a00a7-9ca4-4596-a65c-206bef03d584",
   "metadata": {},
   "source": [
    "# Setting Up All Artifacts details"
   ]
  },
  {
   "cell_type": "code",
   "execution_count": null,
   "id": "c9e4c774-316f-4a8b-91c2-589e8ac0af61",
   "metadata": {},
   "outputs": [],
   "source": [
    "## Give appropriate permission to the directory \"FOLDER_WITH_ARTIFACTS\" you are working with\n",
    "import os\n",
    "os.environ['SNPE_ROOT']=\"/local/mnt/workspace/qaisw-v2.15.1.230926150623_62883\"#set up your snpe path here.\n",
    "os.environ['RAW_FILE_FOLDER']=\"raw\"#rawfiles\n",
    "os.environ['FOLDER_WITH_ARTIFACTS']=\"ZERO_DCE++\"\n",
    "os.environ['DLC32']=\"zero_dce++_fp32.dlc\"\n",
    "os.environ['DLC8']=\"zero_dce++_Q_w8a8.dlc\"\n",
    "os.environ['TARGET_INPUT_LIST']=\"list.txt\"\n",
    "os.environ['ONDEVICE_FOLDER']=\"ZERO_DCE++\"\n",
    "os.environ['DEVICE_HOST']=\"localhost\"\n",
    "os.environ['DEVICE_ID']=\"2dce6316\" #fill your device-id. Use command \"adb devices\" to get devices names. example :\"e18d5d0\"\n",
    "os.environ['SNPE_TARGET_ARCH']=\"aarch64-android\"\n",
    "os.environ['SNPE_TARGET_STL']=\"libc++_shared.so\""
   ]
  },
  {
   "cell_type": "code",
   "execution_count": null,
   "id": "a643b251-c4e1-4afb-84d4-8f5e7b945e5c",
   "metadata": {},
   "outputs": [],
   "source": [
    "from PIL import Image\n",
    "import glob\n",
    "import os\n",
    "import cv2\n",
    "import numpy as np\n",
    "import torch\n",
    "import os\n",
    "import shutil"
   ]
  },
  {
   "cell_type": "markdown",
   "id": "e460c722-cbc1-45b3-b3c9-5aa5cfbc1523",
   "metadata": {},
   "source": [
    "# Getting The Model\n",
    "\n",
    "- **If You Already have the models in the dlc folder no need to run this cell**\n",
    "- [ https://github.com/Li-Chongyi/Zero-DCE_extension.git  ](Link of the Actual Model)\n",
    "- Zero-Reference Deep Curve Estimation (Zero-DCE)\n",
    "- This is a very light-weight model,a tiny network with just 10K parameters. Zero-DCE++ has a fast inference speed than Zero-DCE"
   ]
  },
  {
   "cell_type": "code",
   "execution_count": null,
   "id": "6554e47f-9093-4b88-88c5-8f28c38ece72",
   "metadata": {},
   "outputs": [],
   "source": [
    "%%bash\n",
    "git clone https://github.com/Li-Chongyi/Zero-DCE_extension\n",
    "#git reset  --hard 808e70644191a63c936bd4ce73ce3f10fbc02ec8"
   ]
  },
  {
   "cell_type": "code",
   "execution_count": null,
   "id": "6c360903-78cd-46de-bc01-4d86e0862904",
   "metadata": {},
   "outputs": [],
   "source": [
    "%%bash\n",
    "cp generate_model.py Zero-DCE_extension/Zero-DCE++/\n",
    "cd Zero-DCE_extension/Zero-DCE++/\n",
    "python generate_model.py"
   ]
  },
  {
   "cell_type": "markdown",
   "id": "053f1972-42af-47d4-9387-6c14247ee205",
   "metadata": {},
   "source": [
    "#### Getting the Non Quantized DLC File"
   ]
  },
  {
   "cell_type": "code",
   "execution_count": null,
   "id": "cfe155c5-a13c-4fb3-87ec-c13426f18478",
   "metadata": {},
   "outputs": [],
   "source": [
    "%%bash\n",
    "source $SNPE_ROOT/bin/envsetup.sh\n",
    "snpe-onnx-to-dlc -i zero_dce++.onnx -o dlc/zero_dce++_fp32.dlc"
   ]
  },
  {
   "cell_type": "markdown",
   "id": "49ee56ac-31ab-4aff-9270-c936691de3a1",
   "metadata": {},
   "source": [
    "#### Understanding the Architecture of the Model"
   ]
  },
  {
   "cell_type": "code",
   "execution_count": null,
   "id": "a0499d25-f6e7-4f6f-85d7-0f1b6fda04ee",
   "metadata": {},
   "outputs": [],
   "source": [
    "%%bash \n",
    "source $SNPE_ROOT/bin/envsetup.sh\n",
    "snpe-dlc-viewer -i dlc/zero_dce++_fp32.dlc -s zero_dce++.html\n",
    "snpe-dlc-info -i dlc/zero_dce++_fp32.dlc>zero_dce++.txt"
   ]
  },
  {
   "cell_type": "markdown",
   "id": "fcff1daa-24d1-43c0-96ff-dfd7c368f2c5",
   "metadata": {},
   "source": [
    "#### Getting the data\n",
    "Use the dataset of your choice to validate the pre-processing, and post processing steps given in this notebook\n",
    "  "
   ]
  },
  {
   "cell_type": "code",
   "execution_count": null,
   "id": "2343f6e1-bc94-4e28-b611-2fe537212cab",
   "metadata": {},
   "outputs": [],
   "source": [
    "%%bash\n",
    "pip install gdown\n",
    "gdown --no-check-certificate 157bjO1_cFuSd0HWDUuAmcHRJDVyWpOxB\n",
    "unzip LOLdataset.zip\n",
    "rm -rf LOLdataset.zip\n",
    "rm -rf our485\n",
    "mkdir raw"
   ]
  },
  {
   "cell_type": "markdown",
   "id": "e45ae551-89d4-4469-ad15-70779422bc8d",
   "metadata": {},
   "source": [
    "## Preprocessing the data to generate raw file"
   ]
  },
  {
   "cell_type": "code",
   "execution_count": null,
   "id": "ee426585-e4d4-47d9-b753-0bedb0edabcb",
   "metadata": {},
   "outputs": [],
   "source": [
    "def preprocess(ll_img, hl_img):\n",
    "    ll_img = np.array(ll_img, dtype='float32')\n",
    "    hl_img = np.array(hl_img, dtype='float32') \n",
    "    ll_img = np.uint8(np.clip(ll_img, 0., 255.))  # this is to simulate matlab's imwrite operation\n",
    "    hl_img = np.uint8(np.clip(hl_img, 0., 255.))  # this is to simulate matlab's imwrite operation\n",
    "    ll_img = np.uint8(ll_img)\n",
    "    hl_img = np.uint8(hl_img) \n",
    "    ll_img = convert_image(ll_img, source='array', target='[0, 1]')\n",
    "    hl_img = convert_image(hl_img, source='array', target='[0, 1]')\n",
    "    return ll_img, hl_img"
   ]
  },
  {
   "cell_type": "code",
   "execution_count": null,
   "id": "2c20d6a7-193e-4b26-8a91-f78bf57b70fc",
   "metadata": {},
   "outputs": [],
   "source": [
    "def convert_image(img, source, target):\n",
    "    if source == 'array':\n",
    "        img = torch.from_numpy(img.transpose((2, 0, 1))).contiguous()#chw\n",
    "        img = img.to(dtype=torch.float32).div(255) \n",
    "    elif source == '[0, 1]':\n",
    "        img = torch.clamp(img, 0, 1)  # useful to post-process output of models that can overspill\n",
    "    if target == '[0, 1]':\n",
    "        pass  # already in [0, 1]\n",
    "    return img"
   ]
  },
  {
   "cell_type": "code",
   "execution_count": null,
   "id": "7853cff7-50b0-44cb-9162-dc5bce62c117",
   "metadata": {},
   "outputs": [],
   "source": [
    "def post_process(img):\n",
    "    img = img.detach().cpu().numpy()\n",
    "    img = np.clip(255. * img, 0., 255.)\n",
    "    img = np.uint8(img)\n",
    "    img = img.transpose(1, 2, 0)#hwc\n",
    "    return img"
   ]
  },
  {
   "cell_type": "code",
   "execution_count": null,
   "id": "0797c27b-0ee9-42aa-87bb-b907e7d5cb3e",
   "metadata": {},
   "outputs": [],
   "source": [
    "def load_dataset(test_images_dir):\n",
    "    # Input images for the model\n",
    "    INPUTS_LL = []\n",
    "    # Post-processed images for visualization\n",
    "    IMAGES_LL = [] # LL:Low Light\n",
    "    IMAGES_HL = [] # HL:High Light\n",
    "\n",
    "    # Load the test images\n",
    "    count=0\n",
    "    for img_path in glob.glob(os.path.join(test_images_dir, '*')):\n",
    "        l_img = cv2.resize(cv2.imread(img_path),[480,640],interpolation=cv2.INTER_CUBIC)\n",
    "        l_img = cv2.cvtColor(l_img, cv2.COLOR_BGR2RGB)\n",
    "        \n",
    "        h_img = cv2.resize(cv2.imread(img_path.replace(\"low\",\"high\")),[480,640],interpolation=cv2.INTER_CUBIC)\n",
    "        h_img = cv2.cvtColor(h_img, cv2.COLOR_BGR2RGB)\n",
    "        \n",
    "        ll_img, hl_img = preprocess(l_img, h_img)#chw\n",
    "\n",
    "        INPUTS_LL.append(ll_img)#chw\n",
    "        IMAGES_LL.append(post_process(ll_img))#hwc\n",
    "        IMAGES_HL.append(post_process(hl_img))#hwc\n",
    "    return INPUTS_LL, IMAGES_LL, IMAGES_HL"
   ]
  },
  {
   "cell_type": "markdown",
   "id": "a5d3057e-95bd-4a2a-9b5b-808451286195",
   "metadata": {},
   "source": [
    "**Converting the low dataset to raw file format to give it to the model and do the inference**"
   ]
  },
  {
   "cell_type": "code",
   "execution_count": null,
   "id": "a6a242ba-77c2-45e4-ad32-8d4c8a55d925",
   "metadata": {},
   "outputs": [],
   "source": [
    "os.makedirs('raw', exist_ok=True)"
   ]
  },
  {
   "cell_type": "code",
   "execution_count": null,
   "id": "84b153e6-eca7-49d4-9c3b-a0c084c96da8",
   "metadata": {},
   "outputs": [],
   "source": [
    "test_images_dir = \"eval15/low\"\n",
    "INPUTS_LL, IMAGES_LL, IMAGES_HL = load_dataset(test_images_dir)\n",
    "print(len(INPUTS_LL),len(IMAGES_LL),len(IMAGES_HL))\n",
    "for i, img_ll in enumerate(INPUTS_LL):\n",
    "    img_ll = img_ll.cpu().detach().numpy()\n",
    "    img_ll = img_ll.astype(np.float32)\n",
    "    fid = open(\"raw/img_\"+str(i)+ \".raw\", 'wb')\n",
    "    img_ll.tofile(fid)\n",
    "    fid.close()"
   ]
  },
  {
   "cell_type": "code",
   "execution_count": null,
   "id": "544ef07f-7039-4ff4-a22b-2fc9c178f7c5",
   "metadata": {},
   "outputs": [],
   "source": [
    "def post_process_enhanced(img):\n",
    "    img = np.fromfile(img, np.float32)\n",
    "    img = img.reshape((3,640,480)).astype(np.float32)\n",
    "    img = np.clip((img+1)/2 * 255. , 0., 255.)\n",
    "    img = np.uint8(img)\n",
    "    img = img.transpose(1, 2, 0)#hwc\n",
    "    return img"
   ]
  },
  {
   "cell_type": "code",
   "execution_count": null,
   "id": "de77c3b3-171b-4e85-9121-603b7ce3a821",
   "metadata": {},
   "outputs": [],
   "source": [
    "total_iter = 15\n",
    "print(\"Generating input_list \\\"small_raw_list.txt\\\" with {} iterations\".format(total_iter))\n",
    "with open(\"list.txt\",'w') as f:\n",
    "    for i in range(total_iter):\n",
    "        f.write(\"raw/img_{}.raw\\n\".format(i))"
   ]
  },
  {
   "cell_type": "markdown",
   "id": "f32a298e-0465-47ab-8339-bc201fa0ec55",
   "metadata": {},
   "source": [
    "#### Getting the Quantized Model"
   ]
  },
  {
   "cell_type": "code",
   "execution_count": null,
   "id": "07121839-e02a-42da-91c2-d4f43f608a87",
   "metadata": {},
   "outputs": [],
   "source": [
    "%%bash\n",
    "source $SNPE_ROOT/bin/envsetup.sh\n",
    "snpe-dlc-quantize --input_dlc dlc/zero_dce++_fp32.dlc --input_list list.txt --use_enhanced_quantizer --use_adjusted_weights_quantizer --axis_quant --output_dlc dlc/zero_dce++_Q_w8a8.dlc --enable_htp --htp_socs sm8550"
   ]
  },
  {
   "cell_type": "markdown",
   "id": "e8d764c2-9ce6-4b28-bf8c-e37b5fc4ca64",
   "metadata": {},
   "source": [
    "## Inferencing the Model"
   ]
  },
  {
   "cell_type": "code",
   "execution_count": null,
   "id": "9f82ac63-df97-4323-89be-1b5bfbe00ea6",
   "metadata": {},
   "outputs": [],
   "source": [
    "%%bash\n",
    "export DEVICE_SHELL=\"adb -H $DEVICE_HOST -s $DEVICE_ID\"\n",
    "$DEVICE_SHELL shell \"mkdir -p /data/local/tmp/snpeexample/$SNPE_TARGET_ARCH/bin\" && $DEVICE_SHELL shell \"mkdir -p /data/local/tmp/snpeexample/$SNPE_TARGET_ARCH/lib\" && $DEVICE_SHELL shell \"mkdir -p /data/local/tmp/snpeexample/dsp/lib\""
   ]
  },
  {
   "cell_type": "code",
   "execution_count": null,
   "id": "fbab7228-310a-45c9-b847-36f9edacebb2",
   "metadata": {},
   "outputs": [],
   "source": [
    "%%bash\n",
    "export DEVICE_SHELL=\"adb -H $DEVICE_HOST -s $DEVICE_ID\"\n",
    "$DEVICE_SHELL push $SNPE_ROOT/lib/$SNPE_TARGET_ARCH/$SNPE_TARGET_STL /data/local/tmp/snpeexample/$SNPE_TARGET_ARCH/lib\n",
    "$DEVICE_SHELL push $SNPE_ROOT/bin/$SNPE_TARGET_ARCH/snpe-net-run /data/local/tmp/snpeexample/$SNPE_TARGET_ARCH/bin\n",
    "$DEVICE_SHELL push $SNPE_ROOT/lib/hexagon-v75/unsigned/*.so /data/local/tmp/snpeexample/dsp/lib\n",
    "$DEVICE_SHELL push $SNPE_ROOT/lib/$SNPE_TARGET_ARCH/*.so /data/local/tmp/snpeexample/$SNPE_TARGET_ARCH/lib"
   ]
  },
  {
   "cell_type": "code",
   "execution_count": null,
   "id": "8495895d-a16b-4915-b57e-f7d67345136a",
   "metadata": {},
   "outputs": [],
   "source": [
    "%%bash\n",
    "export DEVICE_SHELL=\"adb -H $DEVICE_HOST -s $DEVICE_ID\"\n",
    "$DEVICE_SHELL shell \"mkdir -p /data/local/tmp/$ONDEVICE_FOLDER\""
   ]
  },
  {
   "cell_type": "code",
   "execution_count": null,
   "id": "4564a1d7-5e80-4db2-808e-f44a89981155",
   "metadata": {},
   "outputs": [],
   "source": [
    "%%bash\n",
    "export DEVICE_SHELL=\"adb -H $DEVICE_HOST -s $DEVICE_ID\"\n",
    "$DEVICE_SHELL push dlc/$DLC32 /data/local/tmp/$ONDEVICE_FOLDER\n",
    "$DEVICE_SHELL push dlc/$DLC8 /data/local/tmp/$ONDEVICE_FOLDER\n",
    "$DEVICE_SHELL push raw /data/local/tmp/$ONDEVICE_FOLDER\n",
    "$DEVICE_SHELL push $TARGET_INPUT_LIST /data/local/tmp/$ONDEVICE_FOLDER"
   ]
  },
  {
   "cell_type": "markdown",
   "id": "477485b8-6b15-4b5f-8458-0afccb7ff461",
   "metadata": {},
   "source": [
    "#### Inferencing the Quantized Model"
   ]
  },
  {
   "cell_type": "code",
   "execution_count": null,
   "id": "d3b10768-1d1d-4cf5-aa55-fd6213907959",
   "metadata": {},
   "outputs": [],
   "source": [
    "%%bash\n",
    "export DEVICE_SHELL=\"adb -H $DEVICE_HOST -s $DEVICE_ID\"\n",
    "$DEVICE_SHELL shell\n",
    "export LD_LIBRARY_PATH=$LD_LIBRARY_PATH:/data/local/tmp/snpeexample/aarch64-android/lib\n",
    "export PATH=$PATH:/data/local/tmp/snpeexample/aarch64-android/bin\n",
    "export OUTPUT_FOLDER=OUTPUT_8b_DSP\n",
    "export OUTPUT_DLC_QUANTIZED8=zero_dce++_Q_w8a8.dlc\n",
    "export ADSP_LIBRARY_PATH=\"/data/local/tmp/snpeexample/dsp/lib;/system/lib/rfsa/adsp;/system/vendor/lib/rfsa/adsp;/dsp\"\n",
    "export ONDEVICE_FOLDER=\"ZERO_DCE++\"\n",
    "cd /data/local/tmp/$ONDEVICE_FOLDER &&\n",
    "snpe-net-run --container $OUTPUT_DLC_QUANTIZED8 --input_list list.txt  --output_dir $OUTPUT_FOLDER --use_dsp"
   ]
  },
  {
   "cell_type": "markdown",
   "id": "cf8d0b61-35f1-4a9f-9d93-a0425e6a34f7",
   "metadata": {},
   "source": [
    "#### Inferencing the 32b Model"
   ]
  },
  {
   "cell_type": "code",
   "execution_count": null,
   "id": "96dfad6b-dc55-4da9-9497-d00164d3ce76",
   "metadata": {},
   "outputs": [],
   "source": [
    "%%bash\n",
    "export DEVICE_SHELL=\"adb -H $DEVICE_HOST -s $DEVICE_ID\"\n",
    "$DEVICE_SHELL shell\n",
    "export LD_LIBRARY_PATH=$LD_LIBRARY_PATH:/data/local/tmp/snpeexample/aarch64-android/lib\n",
    "export PATH=$PATH:/data/local/tmp/snpeexample/aarch64-android/bin\n",
    "export OUTPUT_FOLDER=OUTPUT_32b_CPU\n",
    "export OUTPUT_DLC_32=zero_dce++_fp32.dlc\n",
    "export ONDEVICE_FOLDER=\"ZERO_DCE++\"\n",
    "cd /data/local/tmp/$ONDEVICE_FOLDER &&\n",
    "snpe-net-run --container $OUTPUT_DLC_32 --input_list list.txt   --output_dir $OUTPUT_FOLDER"
   ]
  },
  {
   "cell_type": "markdown",
   "id": "103eacb5-c00d-4309-b424-1e5f351a843d",
   "metadata": {},
   "source": [
    "#### Pulling the Output"
   ]
  },
  {
   "cell_type": "code",
   "execution_count": null,
   "id": "bdd0dfc5-df7b-4072-a1fc-1cead18d9fdf",
   "metadata": {},
   "outputs": [],
   "source": [
    "%%bash\n",
    "rm -rf OUTPUT_8b_DSP\n",
    "rm -rf OUTPUT_32b_CPU"
   ]
  },
  {
   "cell_type": "code",
   "execution_count": null,
   "id": "f758c036-00bc-4f2f-9a80-4bc5a37ffa98",
   "metadata": {},
   "outputs": [],
   "source": [
    "%%bash\n",
    "export DEVICE_SHELL=\"adb -H $DEVICE_HOST -s $DEVICE_ID\"\n",
    "$DEVICE_SHELL pull /data/local/tmp/$ONDEVICE_FOLDER/OUTPUT_8b_DSP OUTPUT_8b_DSP\n",
    "$DEVICE_SHELL pull /data/local/tmp/$ONDEVICE_FOLDER/OUTPUT_32b_CPU OUTPUT_32b_CPU"
   ]
  },
  {
   "cell_type": "markdown",
   "id": "69824b00-6426-476f-ab1d-0edcfa2915dc",
   "metadata": {},
   "source": [
    "### Post Processing and Calculating PSNR Value"
   ]
  },
  {
   "cell_type": "code",
   "execution_count": null,
   "id": "e692f417-fddb-4451-a414-99c83e3e31a3",
   "metadata": {},
   "outputs": [],
   "source": [
    "import math\n",
    "def compute_psnr(img_pred, img_true, data_range=255., eps=1e-8):\n",
    "    err = (img_pred - img_true) ** 2 \n",
    "    err = np.mean(err)\n",
    "    return 10. * math.log10((data_range ** 2) / (err + eps))"
   ]
  },
  {
   "cell_type": "code",
   "execution_count": null,
   "id": "062f6c5d-6cee-4b01-a472-e77ee24d19a8",
   "metadata": {},
   "outputs": [],
   "source": [
    "def evaluate_average_psnr(el_images, hl_images): #(enhanced_light<model o/p>, high_light <groud_truth>)\n",
    "    psnr = []\n",
    "    for i in range(len(el_images)):\n",
    "        el_img = cv2.imread(el_images[i], 1)\n",
    "        hl_img = cv2.imread(hl_images[i], 1)\n",
    "        psnr.append(compute_psnr(el_img,hl_img))\n",
    "    average_psnr = np.mean(np.array(psnr))\n",
    "    return average_psnr"
   ]
  },
  {
   "cell_type": "code",
   "execution_count": null,
   "id": "8e5e243b-187d-4bbf-8c5d-2e89143bbbf6",
   "metadata": {},
   "outputs": [],
   "source": [
    "folder = [\"OUTPUT_32b_CPU\", \"OUTPUT_8b_DSP\"]\n",
    "from PIL import Image\n",
    "dict_folder_wise={}\n",
    "for j in range(0,len(folder)):\n",
    "    IMAGES_EL = []# EL: Enhanced Light (model output)\n",
    "    File_LL=[]\n",
    "    File_EL=[]\n",
    "    File_HL=[]\n",
    "    dict_folder_wise[str(folder[j])]=[]\n",
    "    for i in range(0,15):\n",
    "        # for prediction img\n",
    "        IMAGES_EL.append(post_process_enhanced(folder[j]+\"/Result_\"+str(i)+\"/110.raw\"))  \n",
    "        im = Image.fromarray(IMAGES_EL[i])\n",
    "        im.save(folder[j]+\"/Result_\"+str(i)+\"/prediction.jpeg\")\n",
    "        File_EL.append(folder[j]+\"/Result_\"+str(i)+\"/prediction.jpeg\")\n",
    "        \n",
    "        #for ground truth HL\n",
    "        im = Image.fromarray(IMAGES_HL[i])\n",
    "        im.save(folder[j]+\"/Result_\"+str(i)+\"/groundtruth_HL.jpeg\")\n",
    "        File_HL.append(folder[j]+\"/Result_\"+str(i)+\"/groundtruth_HL.jpeg\")\n",
    "        \n",
    "        #for ground truth LL\n",
    "        im = Image.fromarray(IMAGES_LL[i])\n",
    "        im.save(folder[j]+\"/Result_\"+str(i)+\"/groundtruth_LL.jpeg\")\n",
    "        File_LL.append(folder[j]+\"/Result_\"+str(i)+\"/groundtruth_LL.jpeg\")\n",
    "        dict_folder_wise[str(folder[j])].append([File_LL[i],File_HL[i],File_EL[i]])\n",
    "    print(folder[j],\" :: \",evaluate_average_psnr(File_EL,File_HL))\n",
    "    print(\"\\n============================\\n\")"
   ]
  },
  {
   "cell_type": "markdown",
   "id": "92f76ad5-4feb-4eb6-8e46-52d659824d06",
   "metadata": {},
   "source": [
    "### Comaparison of Output between Non Quantized Model and Quantized Model"
   ]
  },
  {
   "cell_type": "code",
   "execution_count": null,
   "id": "f96ad4a0-cf0f-481c-86e7-6f96b103cc64",
   "metadata": {},
   "outputs": [],
   "source": [
    "import matplotlib.pyplot as plt\n",
    "from matplotlib.pyplot import figure, imshow, axis\n",
    "from matplotlib.image import imread\n",
    "import random as rand\n",
    "\n",
    "def showImagesHorizontally(majors,index):\n",
    "    fig, axs = plt.subplots(1, 4, figsize=(12,4))\n",
    "    for nn, ax in enumerate(axs.flat):\n",
    "        if nn<=2:\n",
    "            column = majors[nn]\n",
    "            column_rec_name = column.replace('\\n', '_').replace(' ', '_')\n",
    "            image = imread(majors[nn])\n",
    "            ax.set_xlabel(majors[nn].split(\"/\")[-1])\n",
    "        else:\n",
    "            image=imread(dict_folder_wise['OUTPUT_8b_DSP'][index][-1])\n",
    "            ax.set_xlabel(\"Prediction 8b\")\n",
    "        ax.imshow(image)\n",
    "        \n",
    "    fig.suptitle(\"Comparison Between Ground Truth and Prediction\", fontsize=16)\n",
    "    plt.show()\n",
    "\n",
    "for index in range(0,15):\n",
    "    showImagesHorizontally(dict_folder_wise['OUTPUT_32b_CPU'][index],index)"
   ]
  }
 ],
 "metadata": {
  "kernelspec": {
   "display_name": "Python 3 (ipykernel)",
   "language": "python",
   "name": "python3"
  },
  "language_info": {
   "codemirror_mode": {
    "name": "ipython",
    "version": 3
   },
   "file_extension": ".py",
   "mimetype": "text/x-python",
   "name": "python",
   "nbconvert_exporter": "python",
   "pygments_lexer": "ipython3",
   "version": "3.10.10"
  }
 },
 "nbformat": 4,
 "nbformat_minor": 5
}
