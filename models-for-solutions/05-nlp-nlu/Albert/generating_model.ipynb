{
 "cells": [
  {
   "cell_type": "markdown",
   "id": "fcbf0297-5cff-4ece-a694-35c1c7d4b2a1",
   "metadata": {},
   "source": [
    "## Setting Up All Artifacts details"
   ]
  },
  {
   "cell_type": "code",
   "execution_count": null,
   "id": "c8638d99-8a43-4be0-883f-abc09a618da5",
   "metadata": {},
   "outputs": [],
   "source": [
    "import os\n",
    "os.environ['SNPE_ROOT']=\"/local/mnt/workspace/aditya/qaisw-v2.15.1.230926150623_62883\"#set up your snpe path here.\n",
    "os.environ['RAW_FILE_FOLDER']=\"raw\"\n",
    "os.environ['FOLDER_WITH_ARTIFACTS']=\"alberta\"\n",
    "os.environ['DLCFP16']=\"models/alberta_fp16.dlc\"\n",
    "os.environ['DLCW16A16']=\"models/albertaw16a16_offline.dlc\"\n",
    "os.environ['DLCFP32']=\"models/alberta_fp32.dlc\"\n",
    "os.environ['TARGET_INPUT_LIST']=\"tf_raw_list.txt\"\n",
    "os.environ['ONDEVICE_FOLDER']=\"alberta_device\"\n",
    "os.environ['DEVICE_HOST']=\"localhost\"\n",
    "os.environ['DEVICE_ID']=\"2dce6316\" #fill your device-id. Use command \"adb devices\" to get devices names. example :\"e18d5d0\"\n",
    "os.environ['SNPE_TARGET_ARCH']=\"aarch64-android\"\n",
    "os.environ['SNPE_TARGET_STL']=\"libc++_shared.so\"\n",
    "os.environ['SNPE_TARGET_DSPARCH']=\"hexagon-v73\""
   ]
  },
  {
   "cell_type": "markdown",
   "id": "e880d159-b9d0-4c3b-8483-8fc9e89720f0",
   "metadata": {},
   "source": [
    "## Downloading Data"
   ]
  },
  {
   "cell_type": "code",
   "execution_count": null,
   "id": "3f36571c-eb78-4268-94e3-08fb9d8e3f51",
   "metadata": {},
   "outputs": [],
   "source": [
    "!wget https://rajpurkar.github.io/SQuAD-explorer/dataset/dev-v2.0.json"
   ]
  },
  {
   "cell_type": "code",
   "execution_count": null,
   "id": "33f5ac7e-5579-4eb4-8a59-89695ea5205b",
   "metadata": {},
   "outputs": [],
   "source": [
    "import json\n",
    "import pandas as pd\n",
    "data_path=\"dev-v2.0.json\"\n",
    "with open(data_path,\"r\") as f:\n",
    "    squad_data=json.load(f)\n",
    "context_qa_triples=[]\n",
    "for article in squad_data['data']:\n",
    "    for paragraph in article['paragraphs']:\n",
    "        context=paragraph['context']\n",
    "        for qa in paragraph['qas']:\n",
    "            question=qa['question']\n",
    "            if qa['answers']:\n",
    "                answer=qa['answers'][0]['text']\n",
    "            elif qa['plausible_answers']:\n",
    "                plausible_answers=qa['plausible_answers']\n",
    "                answer=plausible_answers[0]['text']\n",
    "            else:\n",
    "                answer=''\n",
    "\n",
    "            context_qa_triples.append({'context':context,'question':question,'answers':answer})\n",
    "df=pd.DataFrame(context_qa_triples[:30])\n",
    "df.head(3)"
   ]
  },
  {
   "cell_type": "code",
   "execution_count": null,
   "id": "ccf4f0fe-36ac-400e-867e-7ee69cf31577",
   "metadata": {},
   "outputs": [],
   "source": [
    "!pip install optimum\n",
    "!pip install sentencepiece"
   ]
  },
  {
   "cell_type": "markdown",
   "id": "5009eaa9-7bca-4d97-a83c-6ea88df7543c",
   "metadata": {},
   "source": [
    "## Converting the Model to ONNX format using optimum"
   ]
  },
  {
   "cell_type": "code",
   "execution_count": null,
   "id": "e7d5ce14-dcd6-4cae-9daa-5f30aeff8cb2",
   "metadata": {},
   "outputs": [],
   "source": [
    "%%bash\n",
    "optimum-cli export onnx --model twmkn9/albert-base-v2-squad2 models/"
   ]
  },
  {
   "cell_type": "markdown",
   "id": "18948252-ef6b-4e64-8d18-82a004678976",
   "metadata": {},
   "source": [
    "### Getting Model Input name"
   ]
  },
  {
   "cell_type": "code",
   "execution_count": null,
   "id": "c1e7f307-d86e-4723-a0c8-9aea6cdad4bf",
   "metadata": {},
   "outputs": [],
   "source": [
    "import onnxruntime\n",
    "model_path='models/model.onnx'\n",
    "sess=onnxruntime.InferenceSession(model_path)\n",
    "input_layer_names=sess.get_inputs()\n",
    "for input_layer in input_layer_names:\n",
    "    print(input_layer)"
   ]
  },
  {
   "cell_type": "markdown",
   "id": "20fb9fb4-9e70-4ab2-bcaa-6f791b13e405",
   "metadata": {},
   "source": [
    "## Converting ONNX to FP32 Precision"
   ]
  },
  {
   "cell_type": "code",
   "execution_count": null,
   "id": "920e6c08-0650-4d4f-abb3-42c915d7b24b",
   "metadata": {},
   "outputs": [],
   "source": [
    "%%bash\n",
    "source $SNPE_ROOT/bin/envsetup.sh\n",
    "snpe-onnx-to-dlc -i models/model.onnx -d input_ids 1,384 -d attention_mask 1,384 -d token_type_ids 1,384 -o models/alberta_fp32.dlc"
   ]
  },
  {
   "cell_type": "markdown",
   "id": "f5299ea7-e76d-4e66-8d7f-b5d755d10346",
   "metadata": {},
   "source": [
    "### Creating  the RAW Files "
   ]
  },
  {
   "cell_type": "code",
   "execution_count": null,
   "id": "b49e7a47-bef2-4ea4-9731-535afd3dc3cf",
   "metadata": {},
   "outputs": [],
   "source": [
    "%%bash\n",
    "mkdir input_ids\n",
    "mkdir attention_mask\n",
    "mkdir token_type_ids"
   ]
  },
  {
   "cell_type": "code",
   "execution_count": null,
   "id": "d4b56a51-042f-4d91-857a-c764843e4446",
   "metadata": {},
   "outputs": [],
   "source": [
    "import numpy as np\n",
    "from transformers import AutoTokenizer, AlbertForQuestionAnswering\n",
    "import torch\n",
    "tokenizer = AutoTokenizer.from_pretrained(\"twmkn9/albert-base-v2-squad2\")\n",
    "question_token={}\n",
    "for i in range(df.shape[0]):\n",
    "    question,text,answer=df.iloc[i].question,df.iloc[i].context,df.iloc[i].answers\n",
    "    inputs = tokenizer(question, text, return_tensors=\"np\",\n",
    "            padding='max_length',\n",
    "            truncation=\"longest_first\",\n",
    "            max_length=384)\n",
    "    question_token[i]=[question,inputs,answer,text]\n",
    "    inp_ids = inputs.input_ids\n",
    "    inp_ids=inp_ids.astype(np.float32)\n",
    "    with open(\"input_ids/inp_ids_\"+str(i)+\".raw\", 'wb') as f:\n",
    "        inp_ids.tofile(f)\n",
    "    \n",
    "    mask = inputs.attention_mask\n",
    "    mask=mask.astype(np.float32)\n",
    "    with open(\"attention_mask/attn_mask_\"+str(i)+\".raw\", 'wb') as f:\n",
    "        mask.tofile(f)\n",
    "\n",
    "    token_type= inputs.token_type_ids\n",
    "    token_type=token_type.astype(np.float32)\n",
    "    with open(\"token_type_ids/token_type_id_\"+str(i)+\".raw\", 'wb') as f:\n",
    "        token_type.tofile(f)"
   ]
  },
  {
   "cell_type": "markdown",
   "id": "ceede093-2e38-4820-9c68-f44df5ac0880",
   "metadata": {},
   "source": [
    "## Creating List Files"
   ]
  },
  {
   "cell_type": "code",
   "execution_count": null,
   "id": "b5b66906-8321-4765-a02d-c02832b3d143",
   "metadata": {},
   "outputs": [],
   "source": [
    "total_iter = 30\n",
    "print(\"Generating input_list \\\"small_raw_list.txt\\\" with {} iterations\".format(total_iter))\n",
    "with open(\"tf_raw_list.txt\",'w') as f:\n",
    "    for i in range(total_iter):\n",
    "        f.write(\"input_ids:=input_ids/inp_ids_{}.raw attention_mask:=attention_mask/attn_mask_{}.raw token_type_ids:=token_type_ids/token_type_id_{}.raw\\n\".format(i,i,i))"
   ]
  },
  {
   "cell_type": "markdown",
   "id": "e629e349-99d1-4d4f-8b9d-d7cecf6110cb",
   "metadata": {},
   "source": [
    "## Creating W16A16 Precision Model"
   ]
  },
  {
   "cell_type": "code",
   "execution_count": null,
   "id": "0a1e2443-c411-4a7c-9dbc-9aae7f9c5f56",
   "metadata": {},
   "outputs": [],
   "source": [
    "%%bash\n",
    "source $SNPE_ROOT/bin/envsetup.sh\n",
    "snpe-dlc-quantize --input_dlc models/alberta_fp32.dlc --input_list tf_raw_list.txt --use_enhanced_quantizer --use_adjusted_weights_quantizer  --output_dlc models/albertaw16a16.dlc --enable_htp --htp_socs sm8550 --weights_bitwidth 16 --act_bitwidth 16"
   ]
  },
  {
   "cell_type": "markdown",
   "id": "423d36b5-be38-45e4-ab7b-0cb3ce400851",
   "metadata": {},
   "source": [
    "## Offline Preparation of W16A16 Precision"
   ]
  },
  {
   "cell_type": "code",
   "execution_count": null,
   "id": "2668c0d4-5f65-4722-93ea-9682c9f36c9e",
   "metadata": {},
   "outputs": [],
   "source": [
    "%%bash\n",
    "source $SNPE_ROOT/bin/envsetup.sh\n",
    "snpe-dlc-graph-prepare --input_dlc models/albertaw16a16.dlc --output_dlc models/albertaw16a16_offline.dlc --set_output_tensors start_logits,end_logits"
   ]
  },
  {
   "cell_type": "markdown",
   "id": "9ff03b19-3c5f-4e6f-a3ab-69df9bdf4835",
   "metadata": {},
   "source": [
    "## Creating FP16 Precision"
   ]
  },
  {
   "cell_type": "code",
   "execution_count": null,
   "id": "f20d3288-658b-43af-86f9-8ce79fda9f3b",
   "metadata": {},
   "outputs": [],
   "source": [
    "%%bash\n",
    "source $SNPE_ROOT/bin/envsetup.sh\n",
    "snpe-dlc-graph-prepare --input_dlc models/alberta_fp32.dlc --use_float_io --output_dlc models/alberta_fp16.dlc --set_output_tensors start_logits,end_logits"
   ]
  },
  {
   "cell_type": "code",
   "execution_count": null,
   "id": "43fd3afb-86f9-410f-ad90-206b43f2e627",
   "metadata": {},
   "outputs": [],
   "source": []
  }
 ],
 "metadata": {
  "kernelspec": {
   "display_name": "Python 3 (ipykernel)",
   "language": "python",
   "name": "python3"
  },
  "language_info": {
   "codemirror_mode": {
    "name": "ipython",
    "version": 3
   },
   "file_extension": ".py",
   "mimetype": "text/x-python",
   "name": "python",
   "nbconvert_exporter": "python",
   "pygments_lexer": "ipython3",
   "version": "3.10.10"
  }
 },
 "nbformat": 4,
 "nbformat_minor": 5
}
