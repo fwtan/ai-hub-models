{
 "cells": [
  {
   "cell_type": "markdown",
   "id": "3f16e4cb-bf98-4d27-a438-cd1ebcc49fb3",
   "metadata": {},
   "source": [
    "## Setting Up All Artifacts details"
   ]
  },
  {
   "cell_type": "code",
   "execution_count": null,
   "id": "d046e07a-02ac-4113-85cc-0b2a5544fd27",
   "metadata": {},
   "outputs": [],
   "source": [
    "import os\n",
    "os.environ['SNPE_ROOT']=\"/local/mnt/workspace/aditya/qaisw-v2.15.1.230926150623_62883\"#set up your snpe path here.\n",
    "os.environ['RAW_FILE_FOLDER']=\"raw\"\n",
    "os.environ['FOLDER_WITH_ARTIFACTS']=\"BertLarge\"\n",
    "os.environ['DLCFP16']=\"models/BertLarge_fp16.dlc\"\n",
    "os.environ['DLCW16A16']=\"models/BertLargew16a16_offline.dlc\"\n",
    "os.environ['DLCFP32']=\"models/BertLarge_fp32.dlc\"\n",
    "os.environ['TARGET_INPUT_LIST']=\"tf_raw_list.txt\"\n",
    "os.environ['ONDEVICE_FOLDER']=\"BertLarge_device\"\n",
    "os.environ['DEVICE_HOST']=\"localhost\"\n",
    "os.environ['DEVICE_ID']=\"2dce6316\" #fill your device-id. Use command \"adb devices\" to get devices names. example :\"e18d5d0\"\n",
    "os.environ['SNPE_TARGET_ARCH']=\"aarch64-android\"\n",
    "os.environ['SNPE_TARGET_STL']=\"libc++_shared.so\"\n",
    "os.environ['SNPE_TARGET_DSPARCH']=\"hexagon-v73\""
   ]
  },
  {
   "cell_type": "markdown",
   "id": "2ed8acb3-0f58-4ddd-8520-5ab33b8dc2e1",
   "metadata": {},
   "source": [
    "## Downloading Data"
   ]
  },
  {
   "cell_type": "code",
   "execution_count": null,
   "id": "d1cdd8d5-3fae-4797-b08e-2c940d06fffc",
   "metadata": {},
   "outputs": [],
   "source": [
    "!wget https://rajpurkar.github.io/SQuAD-explorer/dataset/dev-v2.0.json"
   ]
  },
  {
   "cell_type": "code",
   "execution_count": null,
   "id": "3f08da31-a614-4aef-8324-0b46dcd81e90",
   "metadata": {},
   "outputs": [],
   "source": [
    "import json\n",
    "import pandas as pd\n",
    "data_path=\"dev-v2.0.json\"\n",
    "with open(data_path,\"r\") as f:\n",
    "    squad_data=json.load(f)\n",
    "context_qa_triples=[]\n",
    "for article in squad_data['data']:\n",
    "    for paragraph in article['paragraphs']:\n",
    "        context=paragraph['context']\n",
    "        for qa in paragraph['qas']:\n",
    "            question=qa['question']\n",
    "            if qa['answers']:\n",
    "                answer=qa['answers'][0]['text']\n",
    "            elif qa['plausible_answers']:\n",
    "                plausible_answers=qa['plausible_answers']\n",
    "                answer=plausible_answers[0]['text']\n",
    "            else:\n",
    "                answer=''\n",
    "\n",
    "            context_qa_triples.append({'context':context,'question':question,'answers':answer})\n",
    "df=pd.DataFrame(context_qa_triples[:30])\n",
    "df.head(3)"
   ]
  },
  {
   "cell_type": "code",
   "execution_count": null,
   "id": "089ad56c-5058-4962-8964-c0308797c96f",
   "metadata": {},
   "outputs": [],
   "source": [
    "!pip install optimum\n",
    "!pip install sentencepiece"
   ]
  },
  {
   "cell_type": "markdown",
   "id": "ca76068b-fe8a-4453-9c0b-09bbff0c37fb",
   "metadata": {},
   "source": [
    "## Converting the Model to ONNX format using optimum"
   ]
  },
  {
   "cell_type": "code",
   "execution_count": null,
   "id": "7542d8f8-1110-43f6-a426-2073d81f227d",
   "metadata": {},
   "outputs": [],
   "source": [
    "%%bash\n",
    "optimum-cli export onnx --model deepset/bert-large-uncased-whole-word-masking-squad2 models/"
   ]
  },
  {
   "cell_type": "markdown",
   "id": "261c9503-bc07-42ac-a886-d82c80d395f5",
   "metadata": {},
   "source": [
    "### Getting Model Input name"
   ]
  },
  {
   "cell_type": "code",
   "execution_count": null,
   "id": "59a30768-b720-493e-84bf-ab4fd63cccc4",
   "metadata": {},
   "outputs": [],
   "source": [
    "import onnxruntime\n",
    "model_path='models/model.onnx'\n",
    "sess=onnxruntime.InferenceSession(model_path)\n",
    "input_layer_names=sess.get_inputs()\n",
    "for input_layer in input_layer_names:\n",
    "    print(input_layer)"
   ]
  },
  {
   "cell_type": "markdown",
   "id": "fe9800ea-d667-40bd-8417-2dfe0825737c",
   "metadata": {},
   "source": [
    "## Converting ONNX to FP32 Precision"
   ]
  },
  {
   "cell_type": "code",
   "execution_count": null,
   "id": "e46c3925-5b1a-4a37-9ae0-d3bf0eba2012",
   "metadata": {},
   "outputs": [],
   "source": [
    "%%bash\n",
    "source $SNPE_ROOT/bin/envsetup.sh\n",
    "snpe-onnx-to-dlc -i models/model.onnx -d input_ids 1,384 -d attention_mask 1,384 -d token_type_ids 1,384 -o models/BertLarge_fp32.dlc"
   ]
  },
  {
   "cell_type": "markdown",
   "id": "90842225-710b-4f82-9e97-b26d620978f7",
   "metadata": {},
   "source": [
    "### Creating  the RAW Files "
   ]
  },
  {
   "cell_type": "code",
   "execution_count": null,
   "id": "d5cfa61a-7f58-49ac-92b6-cb60c9bb46ec",
   "metadata": {},
   "outputs": [],
   "source": [
    "%%bash\n",
    "mkdir input_ids\n",
    "mkdir attention_mask\n",
    "mkdir token_type_ids"
   ]
  },
  {
   "cell_type": "code",
   "execution_count": null,
   "id": "1356759a-36da-40f3-8c51-bfffde7066ce",
   "metadata": {},
   "outputs": [],
   "source": [
    "import numpy as np\n",
    "from transformers import AutoTokenizer, AlbertForQuestionAnswering\n",
    "import torch\n",
    "tokenizer = AutoTokenizer.from_pretrained(\"deepset/bert-large-uncased-whole-word-masking-squad2\")\n",
    "question_token={}\n",
    "for i in range(df.shape[0]):\n",
    "    question,text,answer=df.iloc[i].question,df.iloc[i].context,df.iloc[i].answers\n",
    "    inputs = tokenizer(question, text, return_tensors=\"np\",\n",
    "            padding='max_length',\n",
    "            truncation=\"longest_first\",\n",
    "            max_length=384)\n",
    "    question_token[i]=[question,inputs,answer,text]\n",
    "    inp_ids = inputs.input_ids\n",
    "    inp_ids=inp_ids.astype(np.float32)\n",
    "    with open(\"input_ids/inp_ids_\"+str(i)+\".raw\", 'wb') as f:\n",
    "        inp_ids.tofile(f)\n",
    "    \n",
    "    mask = inputs.attention_mask\n",
    "    mask=mask.astype(np.float32)\n",
    "    with open(\"attention_mask/attn_mask_\"+str(i)+\".raw\", 'wb') as f:\n",
    "        mask.tofile(f)\n",
    "\n",
    "    token_type= inputs.token_type_ids\n",
    "    token_type=token_type.astype(np.float32)\n",
    "    with open(\"token_type_ids/token_type_id_\"+str(i)+\".raw\", 'wb') as f:\n",
    "        token_type.tofile(f)"
   ]
  },
  {
   "cell_type": "markdown",
   "id": "a0ce9ff0-9dc4-4147-9adc-08ce752640fd",
   "metadata": {},
   "source": [
    "## Creating List Files"
   ]
  },
  {
   "cell_type": "code",
   "execution_count": null,
   "id": "c55fd398-3817-4ce3-8a02-c7e86e3d686a",
   "metadata": {},
   "outputs": [],
   "source": [
    "total_iter = 30\n",
    "print(\"Generating input_list \\\"small_raw_list.txt\\\" with {} iterations\".format(total_iter))\n",
    "with open(\"tf_raw_list.txt\",'w') as f:\n",
    "    for i in range(total_iter):\n",
    "        f.write(\"input_ids:=input_ids/inp_ids_{}.raw attention_mask:=attention_mask/attn_mask_{}.raw token_type_ids:=token_type_ids/token_type_id_{}.raw\\n\".format(i,i,i))"
   ]
  },
  {
   "cell_type": "markdown",
   "id": "7bf87ded-93d4-4158-81cd-1d2f7409fafc",
   "metadata": {},
   "source": [
    "## Creating W16A16 Precision Model"
   ]
  },
  {
   "cell_type": "code",
   "execution_count": null,
   "id": "431f750e-3299-4b79-af5b-7fcd5b4058cb",
   "metadata": {},
   "outputs": [],
   "source": [
    "%%bash\n",
    "source $SNPE_ROOT/bin/envsetup.sh\n",
    "snpe-dlc-quantize --input_dlc models/BertLarge_fp32.dlc --input_list tf_raw_list.txt --use_enhanced_quantizer --use_adjusted_weights_quantizer  --output_dlc models/BertLarge_w16a16.dlc --enable_htp --htp_socs sm8550 --weights_bitwidth 16 --act_bitwidth 16"
   ]
  },
  {
   "cell_type": "markdown",
   "id": "f3d48d57-822b-46d7-a670-f474ae53285c",
   "metadata": {},
   "source": [
    "## Offline Preparation of W16A16 Precision"
   ]
  },
  {
   "cell_type": "code",
   "execution_count": null,
   "id": "79adc902-1826-4c29-a37a-ab38283d8c5a",
   "metadata": {},
   "outputs": [],
   "source": [
    "%%bash\n",
    "source $SNPE_ROOT/bin/envsetup.sh\n",
    "snpe-dlc-graph-prepare --input_dlc models/BertLarge_w16a16.dlc --output_dlc models/BertLarge_w16a16_offline.dlc --set_output_tensors start_logits,end_logits"
   ]
  },
  {
   "cell_type": "markdown",
   "id": "8f6b70e6-5a40-4164-9fa5-372c2e0f972f",
   "metadata": {},
   "source": [
    "## Creating FP16 Precision"
   ]
  },
  {
   "cell_type": "code",
   "execution_count": null,
   "id": "78ba141b-dacc-4ac7-ac6b-3e07d78bf082",
   "metadata": {},
   "outputs": [],
   "source": [
    "%%bash\n",
    "source $SNPE_ROOT/bin/envsetup.sh\n",
    "snpe-dlc-graph-prepare --input_dlc models/BertLarge_fp32.dlc --use_float_io --output_dlc models/BertLarge_fp16.dlc --set_output_tensors start_logits,end_logits"
   ]
  },
  {
   "cell_type": "code",
   "execution_count": null,
   "id": "04f254d9-25db-44e0-b9e7-35f2fa93aa2a",
   "metadata": {},
   "outputs": [],
   "source": []
  }
 ],
 "metadata": {
  "kernelspec": {
   "display_name": "Python 3 (ipykernel)",
   "language": "python",
   "name": "python3"
  },
  "language_info": {
   "codemirror_mode": {
    "name": "ipython",
    "version": 3
   },
   "file_extension": ".py",
   "mimetype": "text/x-python",
   "name": "python",
   "nbconvert_exporter": "python",
   "pygments_lexer": "ipython3",
   "version": "3.10.10"
  }
 },
 "nbformat": 4,
 "nbformat_minor": 5
}
