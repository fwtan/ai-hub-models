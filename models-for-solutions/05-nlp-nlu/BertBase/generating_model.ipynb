{
 "cells": [
  {
   "cell_type": "markdown",
   "id": "40e7c9d5-24c2-450e-b2e0-f4ce791d30e4",
   "metadata": {},
   "source": [
    "## Setting Up All Artifacts details"
   ]
  },
  {
   "cell_type": "code",
   "execution_count": null,
   "id": "ab6f9afe-a5af-4630-870b-0b87c5897e04",
   "metadata": {},
   "outputs": [],
   "source": [
    "import os\n",
    "os.environ['SNPE_ROOT']=\"/local/mnt/workspace/aditya/qaisw-v2.15.1.230926150623_62883\"#set up your snpe path here.\n",
    "os.environ['RAW_FILE_FOLDER']=\"raw\"\n",
    "os.environ['FOLDER_WITH_ARTIFACTS']=\"BertBase\"\n",
    "os.environ['DLCFP16']=\"models/BertBase_fp16.dlc\"\n",
    "os.environ['DLCW16A16']=\"models/BertBasew16a16_offline.dlc\"\n",
    "os.environ['DLCFP32']=\"models/BertBase_fp32.dlc\"\n",
    "os.environ['TARGET_INPUT_LIST']=\"tf_raw_list.txt\"\n",
    "os.environ['ONDEVICE_FOLDER']=\"BertBase_device\"\n",
    "os.environ['DEVICE_HOST']=\"localhost\"\n",
    "os.environ['DEVICE_ID']=\"2dce6316\" #fill your device-id. Use command \"adb devices\" to get devices names. example :\"e18d5d0\"\n",
    "os.environ['SNPE_TARGET_ARCH']=\"aarch64-android\"\n",
    "os.environ['SNPE_TARGET_STL']=\"libc++_shared.so\"\n",
    "os.environ['SNPE_TARGET_DSPARCH']=\"hexagon-v73\""
   ]
  },
  {
   "cell_type": "markdown",
   "id": "f2beb07a-5168-4291-9f19-4e9da6988b26",
   "metadata": {},
   "source": [
    "## Downloading Data"
   ]
  },
  {
   "cell_type": "code",
   "execution_count": null,
   "id": "4dd44e48-e9e0-4173-99b1-06d0b03fdbe2",
   "metadata": {},
   "outputs": [],
   "source": [
    "!wget https://rajpurkar.github.io/SQuAD-explorer/dataset/dev-v2.0.json"
   ]
  },
  {
   "cell_type": "code",
   "execution_count": null,
   "id": "37645480-a3b6-49ab-a4a5-8ded18611567",
   "metadata": {},
   "outputs": [],
   "source": [
    "import json\n",
    "import pandas as pd\n",
    "data_path=\"dev-v2.0.json\"\n",
    "with open(data_path,\"r\") as f:\n",
    "    squad_data=json.load(f)\n",
    "context_qa_triples=[]\n",
    "for article in squad_data['data']:\n",
    "    for paragraph in article['paragraphs']:\n",
    "        context=paragraph['context']\n",
    "        for qa in paragraph['qas']:\n",
    "            question=qa['question']\n",
    "            if qa['answers']:\n",
    "                answer=qa['answers'][0]['text']\n",
    "            elif qa['plausible_answers']:\n",
    "                plausible_answers=qa['plausible_answers']\n",
    "                answer=plausible_answers[0]['text']\n",
    "            else:\n",
    "                answer=''\n",
    "\n",
    "            context_qa_triples.append({'context':context,'question':question,'answers':answer})\n",
    "df=pd.DataFrame(context_qa_triples[:30])\n",
    "df.head(3)"
   ]
  },
  {
   "cell_type": "code",
   "execution_count": null,
   "id": "23ba1494-b4ea-4e4e-869d-e17dd157cb10",
   "metadata": {},
   "outputs": [],
   "source": [
    "!pip install optimum\n",
    "!pip install sentencepiece"
   ]
  },
  {
   "cell_type": "markdown",
   "id": "f273656f-7fe6-4be5-9425-797d8424a948",
   "metadata": {},
   "source": [
    "## Converting the Model to ONNX format using optimum"
   ]
  },
  {
   "cell_type": "code",
   "execution_count": null,
   "id": "b826be45-d109-452e-bf86-5cf2167de506",
   "metadata": {},
   "outputs": [],
   "source": [
    "%%bash\n",
    "optimum-cli export onnx --model deepset/bert-base-cased-squad2 models/"
   ]
  },
  {
   "cell_type": "markdown",
   "id": "9e7b1699-1107-45ef-87a5-2aa7aff9b6bc",
   "metadata": {},
   "source": [
    "## Getting the Model Input Names"
   ]
  },
  {
   "cell_type": "code",
   "execution_count": null,
   "id": "5de276c8-fe96-4b41-971f-07484e61bb8e",
   "metadata": {},
   "outputs": [],
   "source": [
    "import onnxruntime\n",
    "model_path='models/model.onnx'\n",
    "sess=onnxruntime.InferenceSession(model_path)\n",
    "input_layer_names=sess.get_inputs()\n",
    "for input_layer in input_layer_names:\n",
    "    print(input_layer)"
   ]
  },
  {
   "cell_type": "markdown",
   "id": "980d964c-c65f-4295-b69f-1b80a383d032",
   "metadata": {},
   "source": [
    "## Converting ONNX to FP32 Precision"
   ]
  },
  {
   "cell_type": "code",
   "execution_count": null,
   "id": "2deb064b-4adf-4e48-b463-f32fe362f02f",
   "metadata": {},
   "outputs": [],
   "source": [
    "%%bash\n",
    "source $SNPE_ROOT/bin/envsetup.sh\n",
    "snpe-onnx-to-dlc -i models/model.onnx -d input_ids 1,384 -d attention_mask 1,384 -d token_type_ids 1,384 -o models/BertBase_fp32.dlc"
   ]
  },
  {
   "cell_type": "markdown",
   "id": "77e7dfd5-6d82-451a-8c50-2d547a04bf86",
   "metadata": {},
   "source": [
    "### Creating  the RAW Files "
   ]
  },
  {
   "cell_type": "code",
   "execution_count": null,
   "id": "d99f1e7f-e748-4571-86f8-557f75ac0e73",
   "metadata": {},
   "outputs": [],
   "source": [
    "%%bash\n",
    "mkdir input_ids\n",
    "mkdir attention_mask\n",
    "mkdir token_type_ids"
   ]
  },
  {
   "cell_type": "code",
   "execution_count": null,
   "id": "996d4098-24a3-4de0-937b-c6dc2388497e",
   "metadata": {},
   "outputs": [],
   "source": [
    "import numpy as np\n",
    "from transformers import AutoTokenizer, AlbertForQuestionAnswering\n",
    "import torch\n",
    "tokenizer = AutoTokenizer.from_pretrained(\"deepset/bert-base-cased-squad2\")\n",
    "question_token={}\n",
    "for i in range(df.shape[0]):\n",
    "    question,text,answer=df.iloc[i].question,df.iloc[i].context,df.iloc[i].answers\n",
    "    inputs = tokenizer(question, text, return_tensors=\"np\",\n",
    "            padding='max_length',\n",
    "            truncation=\"longest_first\",\n",
    "            max_length=384)\n",
    "    question_token[i]=[question,inputs,answer,text]\n",
    "    inp_ids = inputs.input_ids\n",
    "    inp_ids=inp_ids.astype(np.float32)\n",
    "    with open(\"input_ids/inp_ids_\"+str(i)+\".raw\", 'wb') as f:\n",
    "        inp_ids.tofile(f)\n",
    "    \n",
    "    mask = inputs.attention_mask\n",
    "    mask=mask.astype(np.float32)\n",
    "    with open(\"attention_mask/attn_mask_\"+str(i)+\".raw\", 'wb') as f:\n",
    "        mask.tofile(f)\n",
    "\n",
    "    token_type= inputs.token_type_ids\n",
    "    token_type=token_type.astype(np.float32)\n",
    "    with open(\"token_type_ids/token_type_id_\"+str(i)+\".raw\", 'wb') as f:\n",
    "        token_type.tofile(f)"
   ]
  },
  {
   "cell_type": "markdown",
   "id": "f6160f74-196d-4608-b739-b6cd7f6cdd01",
   "metadata": {},
   "source": [
    "## Creating List Files"
   ]
  },
  {
   "cell_type": "code",
   "execution_count": null,
   "id": "570454f0-a579-4413-be31-239626ec7f9e",
   "metadata": {},
   "outputs": [],
   "source": [
    "total_iter = 30\n",
    "print(\"Generating input_list \\\"small_raw_list.txt\\\" with {} iterations\".format(total_iter))\n",
    "with open(\"tf_raw_list.txt\",'w') as f:\n",
    "    for i in range(total_iter):\n",
    "        f.write(\"input_ids:=input_ids/inp_ids_{}.raw attention_mask:=attention_mask/attn_mask_{}.raw token_type_ids:=token_type_ids/token_type_id_{}.raw\\n\".format(i,i,i))"
   ]
  },
  {
   "cell_type": "markdown",
   "id": "564c4fb3-3c14-435d-9762-2f26b3a0634a",
   "metadata": {},
   "source": [
    "## Creating W16A16 Precision Model"
   ]
  },
  {
   "cell_type": "code",
   "execution_count": null,
   "id": "21de7b9f-ba44-4dde-8f3f-34fc7dac1c33",
   "metadata": {},
   "outputs": [],
   "source": [
    "%%bash\n",
    "source $SNPE_ROOT/bin/envsetup.sh\n",
    "snpe-dlc-quantize --input_dlc models/BertBase_fp32.dlc --input_list tf_raw_list.txt --use_enhanced_quantizer --use_adjusted_weights_quantizer  --output_dlc models/BertBase_w16a16.dlc --enable_htp --htp_socs sm8550 --weights_bitwidth 16 --act_bitwidth 16"
   ]
  },
  {
   "cell_type": "markdown",
   "id": "be26a9a3-2aac-480d-9e24-a9bc413a3b54",
   "metadata": {},
   "source": [
    "## Offline Preparation of W16A16 Precision"
   ]
  },
  {
   "cell_type": "code",
   "execution_count": null,
   "id": "d7a4324f-90db-432a-9cdd-eac1decbf35d",
   "metadata": {},
   "outputs": [],
   "source": [
    "%%bash\n",
    "source $SNPE_ROOT/bin/envsetup.sh\n",
    "snpe-dlc-graph-prepare --input_dlc models/BertBase_w16a16.dlc --output_dlc models/BertBase_w16a16_offline.dlc --set_output_tensors start_logits,end_logits"
   ]
  },
  {
   "cell_type": "markdown",
   "id": "b07eb235-c10e-4cb2-9c24-f97d2a1483b3",
   "metadata": {},
   "source": [
    "## Creating FP16 Precision"
   ]
  },
  {
   "cell_type": "code",
   "execution_count": null,
   "id": "4a04077d-ea0c-4ece-a54a-23de099a6522",
   "metadata": {},
   "outputs": [],
   "source": [
    "%%bash\n",
    "source $SNPE_ROOT/bin/envsetup.sh\n",
    "snpe-dlc-graph-prepare --input_dlc models/BertBase_fp32.dlc --use_float_io --output_dlc models/BertBase_fp16.dlc --set_output_tensors start_logits,end_logits"
   ]
  },
  {
   "cell_type": "code",
   "execution_count": null,
   "id": "7f5c5a2a-2af0-47f7-af58-ad476f482861",
   "metadata": {},
   "outputs": [],
   "source": []
  }
 ],
 "metadata": {
  "kernelspec": {
   "display_name": "Python 3 (ipykernel)",
   "language": "python",
   "name": "python3"
  },
  "language_info": {
   "codemirror_mode": {
    "name": "ipython",
    "version": 3
   },
   "file_extension": ".py",
   "mimetype": "text/x-python",
   "name": "python",
   "nbconvert_exporter": "python",
   "pygments_lexer": "ipython3",
   "version": "3.10.10"
  }
 },
 "nbformat": 4,
 "nbformat_minor": 5
}
