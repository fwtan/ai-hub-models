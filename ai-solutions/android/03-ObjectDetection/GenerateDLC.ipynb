{
 "cells": [
  {
   "attachments": {},
   "cell_type": "markdown",
   "id": "721491e1",
   "metadata": {},
   "source": [
    "## Steps for generating YoloNAS dlc\n",
    "#### Note->Use python3.8 or above for generating onnx and python3.6 for generating dlc"
   ]
  },
  {
   "cell_type": "code",
   "execution_count": 1,
   "id": "d1d3b4eb",
   "metadata": {},
   "outputs": [
    {
     "name": "stdout",
     "output_type": "stream",
     "text": [
      "Requirement already satisfied: super-gradients==3.1.2 in /usr/local/lib/python3.8/site-packages (3.1.2)\n",
      "Requirement already satisfied: torch>=1.9.0 in /usr/local/lib/python3.8/site-packages (from super-gradients==3.1.2) (1.13.1)\n",
      "Requirement already satisfied: tqdm>=4.57.0 in /usr/local/lib/python3.8/site-packages (from super-gradients==3.1.2) (4.65.0)\n",
      "Requirement already satisfied: boto3>=1.17.15 in /usr/local/lib/python3.8/site-packages (from super-gradients==3.1.2) (1.28.2)\n",
      "Requirement already satisfied: jsonschema>=3.2.0 in /usr/local/lib/python3.8/site-packages (from super-gradients==3.1.2) (4.17.3)\n",
      "Requirement already satisfied: Deprecated>=1.2.11 in /usr/local/lib/python3.8/site-packages (from super-gradients==3.1.2) (1.2.14)\n",
      "Requirement already satisfied: opencv-python>=4.5.1 in /usr/local/lib/python3.8/site-packages (from super-gradients==3.1.2) (4.5.2.52)\n",
      "Requirement already satisfied: scipy>=1.6.1 in /usr/local/lib/python3.8/site-packages (from super-gradients==3.1.2) (1.10.1)\n",
      "Requirement already satisfied: matplotlib>=3.3.4 in /usr/local/lib/python3.8/site-packages (from super-gradients==3.1.2) (3.3.4)\n",
      "Requirement already satisfied: psutil>=5.8.0 in /usr/local/lib/python3.8/site-packages (from super-gradients==3.1.2) (5.9.5)\n",
      "Requirement already satisfied: tensorboard>=2.4.1 in /usr/local/lib/python3.8/site-packages (from super-gradients==3.1.2) (2.13.0)\n",
      "Requirement already satisfied: setuptools>=21.0.0 in /usr/local/lib/python3.8/site-packages (from super-gradients==3.1.2) (57.5.0)\n",
      "Requirement already satisfied: coverage~=5.3.1 in /usr/local/lib/python3.8/site-packages (from super-gradients==3.1.2) (5.3.1)\n",
      "Requirement already satisfied: torchvision>=0.10.0 in /usr/local/lib/python3.8/site-packages (from super-gradients==3.1.2) (0.14.1)\n",
      "Requirement already satisfied: sphinx~=4.0.2 in /usr/local/lib/python3.8/site-packages (from super-gradients==3.1.2) (4.0.3)\n",
      "Requirement already satisfied: sphinx-rtd-theme in /usr/local/lib/python3.8/site-packages (from super-gradients==3.1.2) (1.2.2)\n",
      "Requirement already satisfied: torchmetrics==0.8 in /usr/local/lib/python3.8/site-packages (from super-gradients==3.1.2) (0.8.0)\n",
      "Requirement already satisfied: hydra-core>=1.2.0 in /usr/local/lib/python3.8/site-packages (from super-gradients==3.1.2) (1.3.2)\n",
      "Requirement already satisfied: omegaconf in /usr/local/lib/python3.8/site-packages (from super-gradients==3.1.2) (2.3.0)\n",
      "Requirement already satisfied: onnxruntime==1.13.1 in /usr/local/lib/python3.8/site-packages (from super-gradients==3.1.2) (1.13.1)\n",
      "Requirement already satisfied: onnx==1.13.0 in /usr/local/lib/python3.8/site-packages (from super-gradients==3.1.2) (1.13.0)\n",
      "Requirement already satisfied: pillow!=8.3,>=5.3.0 in /usr/local/lib/python3.8/site-packages (from super-gradients==3.1.2) (10.0.0)\n",
      "Requirement already satisfied: pip-tools>=6.12.1 in /usr/local/lib/python3.8/site-packages (from super-gradients==3.1.2) (6.14.0)\n",
      "Requirement already satisfied: pyparsing==2.4.5 in /usr/local/lib/python3.8/site-packages (from super-gradients==3.1.2) (2.4.5)\n",
      "Requirement already satisfied: einops==0.3.2 in /usr/local/lib/python3.8/site-packages (from super-gradients==3.1.2) (0.3.2)\n",
      "Requirement already satisfied: pycocotools==2.0.6 in /usr/local/lib/python3.8/site-packages (from super-gradients==3.1.2) (2.0.6)\n",
      "Requirement already satisfied: protobuf==3.20.3 in /usr/local/lib/python3.8/site-packages (from super-gradients==3.1.2) (3.20.3)\n",
      "Requirement already satisfied: treelib==1.6.1 in /usr/local/lib/python3.8/site-packages (from super-gradients==3.1.2) (1.6.1)\n",
      "Requirement already satisfied: termcolor==1.1.0 in /usr/local/lib/python3.8/site-packages (from super-gradients==3.1.2) (1.1.0)\n",
      "Requirement already satisfied: packaging>=20.4 in /usr/local/lib/python3.8/site-packages (from super-gradients==3.1.2) (21.0)\n",
      "Requirement already satisfied: wheel>=0.38.0 in /usr/local/lib/python3.8/site-packages (from super-gradients==3.1.2) (0.40.0)\n",
      "Requirement already satisfied: pygments>=2.7.4 in /usr/local/lib/python3.8/site-packages (from super-gradients==3.1.2) (2.15.1)\n",
      "Requirement already satisfied: stringcase>=1.2.0 in /usr/local/lib/python3.8/site-packages (from super-gradients==3.1.2) (1.2.0)\n",
      "Requirement already satisfied: numpy<=1.23 in /usr/local/lib/python3.8/site-packages (from super-gradients==3.1.2) (1.23.0)\n",
      "Requirement already satisfied: rapidfuzz in /usr/local/lib/python3.8/site-packages (from super-gradients==3.1.2) (3.1.1)\n",
      "Requirement already satisfied: json-tricks==3.16.1 in /usr/local/lib/python3.8/site-packages (from super-gradients==3.1.2) (3.16.1)\n",
      "Requirement already satisfied: onnx-simplifier<1.0,>=0.3.6 in /usr/local/lib/python3.8/site-packages (from super-gradients==3.1.2) (0.4.33)\n",
      "Requirement already satisfied: typing-extensions>=3.6.2.1 in /usr/local/lib/python3.8/site-packages (from onnx==1.13.0->super-gradients==3.1.2) (4.7.1)\n",
      "Requirement already satisfied: coloredlogs in /usr/local/lib/python3.8/site-packages (from onnxruntime==1.13.1->super-gradients==3.1.2) (15.0.1)\n",
      "Requirement already satisfied: flatbuffers in /usr/local/lib/python3.8/site-packages (from onnxruntime==1.13.1->super-gradients==3.1.2) (23.5.26)\n",
      "Requirement already satisfied: sympy in /usr/local/lib/python3.8/site-packages (from onnxruntime==1.13.1->super-gradients==3.1.2) (1.12)\n",
      "Requirement already satisfied: pyDeprecate==0.3.* in /usr/local/lib/python3.8/site-packages (from torchmetrics==0.8->super-gradients==3.1.2) (0.3.2)\n",
      "Requirement already satisfied: future in /usr/local/lib/python3.8/site-packages (from treelib==1.6.1->super-gradients==3.1.2) (0.18.3)\n",
      "Requirement already satisfied: botocore<1.32.0,>=1.31.2 in /usr/local/lib/python3.8/site-packages (from boto3>=1.17.15->super-gradients==3.1.2) (1.31.2)\n",
      "Requirement already satisfied: jmespath<2.0.0,>=0.7.1 in /usr/local/lib/python3.8/site-packages (from boto3>=1.17.15->super-gradients==3.1.2) (1.0.1)\n",
      "Requirement already satisfied: s3transfer<0.7.0,>=0.6.0 in /usr/local/lib/python3.8/site-packages (from boto3>=1.17.15->super-gradients==3.1.2) (0.6.1)\n",
      "Requirement already satisfied: wrapt<2,>=1.10 in /usr/local/lib/python3.8/site-packages (from Deprecated>=1.2.11->super-gradients==3.1.2) (1.15.0)\n",
      "Requirement already satisfied: antlr4-python3-runtime==4.9.* in /usr/local/lib/python3.8/site-packages (from hydra-core>=1.2.0->super-gradients==3.1.2) (4.9.3)\n",
      "Requirement already satisfied: importlib-resources in /usr/local/lib/python3.8/site-packages (from hydra-core>=1.2.0->super-gradients==3.1.2) (5.12.0)\n",
      "Requirement already satisfied: attrs>=17.4.0 in /usr/local/lib/python3.8/site-packages (from jsonschema>=3.2.0->super-gradients==3.1.2) (23.1.0)\n",
      "Requirement already satisfied: pkgutil-resolve-name>=1.3.10 in /usr/local/lib/python3.8/site-packages (from jsonschema>=3.2.0->super-gradients==3.1.2) (1.3.10)\n",
      "Requirement already satisfied: pyrsistent!=0.17.0,!=0.17.1,!=0.17.2,>=0.14.0 in /usr/local/lib/python3.8/site-packages (from jsonschema>=3.2.0->super-gradients==3.1.2) (0.19.3)\n",
      "Requirement already satisfied: cycler>=0.10 in /usr/local/lib/python3.8/site-packages (from matplotlib>=3.3.4->super-gradients==3.1.2) (0.11.0)\n",
      "Requirement already satisfied: kiwisolver>=1.0.1 in /usr/local/lib/python3.8/site-packages (from matplotlib>=3.3.4->super-gradients==3.1.2) (1.4.4)\n",
      "Requirement already satisfied: python-dateutil>=2.1 in /usr/local/lib/python3.8/site-packages (from matplotlib>=3.3.4->super-gradients==3.1.2) (2.8.2)\n",
      "Requirement already satisfied: PyYAML>=5.1.0 in /usr/local/lib/python3.8/site-packages (from omegaconf->super-gradients==3.1.2) (6.0)\n",
      "Requirement already satisfied: rich in /usr/local/lib/python3.8/site-packages (from onnx-simplifier<1.0,>=0.3.6->super-gradients==3.1.2) (13.4.2)\n",
      "Requirement already satisfied: build in /usr/local/lib/python3.8/site-packages (from pip-tools>=6.12.1->super-gradients==3.1.2) (0.10.0)\n",
      "Requirement already satisfied: click>=8 in /usr/local/lib/python3.8/site-packages (from pip-tools>=6.12.1->super-gradients==3.1.2) (8.1.5)\n",
      "Requirement already satisfied: pip>=22.2 in /usr/local/lib/python3.8/site-packages (from pip-tools>=6.12.1->super-gradients==3.1.2) (23.1.2)\n",
      "Requirement already satisfied: tomli in /usr/local/lib/python3.8/site-packages (from pip-tools>=6.12.1->super-gradients==3.1.2) (2.0.1)\n"
     ]
    },
    {
     "name": "stdout",
     "output_type": "stream",
     "text": [
      "Requirement already satisfied: sphinxcontrib-applehelp in /usr/local/lib/python3.8/site-packages (from sphinx~=4.0.2->super-gradients==3.1.2) (1.0.4)\n",
      "Requirement already satisfied: sphinxcontrib-devhelp in /usr/local/lib/python3.8/site-packages (from sphinx~=4.0.2->super-gradients==3.1.2) (1.0.2)\n",
      "Requirement already satisfied: sphinxcontrib-jsmath in /usr/local/lib/python3.8/site-packages (from sphinx~=4.0.2->super-gradients==3.1.2) (1.0.1)\n",
      "Requirement already satisfied: sphinxcontrib-htmlhelp in /usr/local/lib/python3.8/site-packages (from sphinx~=4.0.2->super-gradients==3.1.2) (2.0.1)\n",
      "Requirement already satisfied: sphinxcontrib-serializinghtml in /usr/local/lib/python3.8/site-packages (from sphinx~=4.0.2->super-gradients==3.1.2) (1.1.5)\n",
      "Requirement already satisfied: sphinxcontrib-qthelp in /usr/local/lib/python3.8/site-packages (from sphinx~=4.0.2->super-gradients==3.1.2) (1.0.3)\n",
      "Requirement already satisfied: Jinja2>=2.3 in /usr/local/lib/python3.8/site-packages (from sphinx~=4.0.2->super-gradients==3.1.2) (3.1.2)\n",
      "Requirement already satisfied: docutils<0.18,>=0.14 in /usr/local/lib/python3.8/site-packages (from sphinx~=4.0.2->super-gradients==3.1.2) (0.17.1)\n",
      "Requirement already satisfied: snowballstemmer>=1.1 in /usr/local/lib/python3.8/site-packages (from sphinx~=4.0.2->super-gradients==3.1.2) (2.2.0)\n",
      "Requirement already satisfied: babel>=1.3 in /usr/local/lib/python3.8/site-packages (from sphinx~=4.0.2->super-gradients==3.1.2) (2.12.1)\n",
      "Requirement already satisfied: alabaster<0.8,>=0.7 in /usr/local/lib/python3.8/site-packages (from sphinx~=4.0.2->super-gradients==3.1.2) (0.7.13)\n",
      "Requirement already satisfied: imagesize in /usr/local/lib/python3.8/site-packages (from sphinx~=4.0.2->super-gradients==3.1.2) (1.4.1)\n",
      "Requirement already satisfied: requests>=2.5.0 in /usr/local/lib/python3.8/site-packages (from sphinx~=4.0.2->super-gradients==3.1.2) (2.31.0)\n",
      "Requirement already satisfied: absl-py>=0.4 in /usr/local/lib/python3.8/site-packages (from tensorboard>=2.4.1->super-gradients==3.1.2) (1.0.0)\n",
      "Requirement already satisfied: grpcio>=1.48.2 in /usr/local/lib/python3.8/site-packages (from tensorboard>=2.4.1->super-gradients==3.1.2) (1.56.0)\n",
      "Requirement already satisfied: google-auth<3,>=1.6.3 in /usr/local/lib/python3.8/site-packages (from tensorboard>=2.4.1->super-gradients==3.1.2) (2.21.0)\n",
      "Requirement already satisfied: google-auth-oauthlib<1.1,>=0.5 in /usr/local/lib/python3.8/site-packages (from tensorboard>=2.4.1->super-gradients==3.1.2) (1.0.0)\n",
      "Requirement already satisfied: markdown>=2.6.8 in /usr/local/lib/python3.8/site-packages (from tensorboard>=2.4.1->super-gradients==3.1.2) (3.4.3)\n",
      "Requirement already satisfied: tensorboard-data-server<0.8.0,>=0.7.0 in /usr/local/lib/python3.8/site-packages (from tensorboard>=2.4.1->super-gradients==3.1.2) (0.7.1)\n",
      "Requirement already satisfied: werkzeug>=1.0.1 in /usr/local/lib/python3.8/site-packages (from tensorboard>=2.4.1->super-gradients==3.1.2) (2.3.6)\n",
      "Requirement already satisfied: nvidia-cuda-runtime-cu11==11.7.99 in /usr/local/lib/python3.8/site-packages (from torch>=1.9.0->super-gradients==3.1.2) (11.7.99)\n",
      "Requirement already satisfied: nvidia-cudnn-cu11==8.5.0.96 in /usr/local/lib/python3.8/site-packages (from torch>=1.9.0->super-gradients==3.1.2) (8.5.0.96)\n",
      "Requirement already satisfied: nvidia-cublas-cu11==11.10.3.66 in /usr/local/lib/python3.8/site-packages (from torch>=1.9.0->super-gradients==3.1.2) (11.10.3.66)\n",
      "Requirement already satisfied: nvidia-cuda-nvrtc-cu11==11.7.99 in /usr/local/lib/python3.8/site-packages (from torch>=1.9.0->super-gradients==3.1.2) (11.7.99)\n",
      "Requirement already satisfied: sphinxcontrib-jquery<5,>=4 in /usr/local/lib/python3.8/site-packages (from sphinx-rtd-theme->super-gradients==3.1.2) (4.1)\n",
      "Requirement already satisfied: six in /usr/local/lib/python3.8/site-packages (from absl-py>=0.4->tensorboard>=2.4.1->super-gradients==3.1.2) (1.16.0)\n",
      "Requirement already satisfied: pytz>=2015.7 in /usr/local/lib/python3.8/site-packages (from babel>=1.3->sphinx~=4.0.2->super-gradients==3.1.2) (2023.3)\n",
      "Requirement already satisfied: urllib3<1.27,>=1.25.4 in /usr/local/lib/python3.8/site-packages (from botocore<1.32.0,>=1.31.2->boto3>=1.17.15->super-gradients==3.1.2) (1.26.16)\n",
      "Requirement already satisfied: cachetools<6.0,>=2.0.0 in /usr/local/lib/python3.8/site-packages (from google-auth<3,>=1.6.3->tensorboard>=2.4.1->super-gradients==3.1.2) (5.3.1)\n",
      "Requirement already satisfied: pyasn1-modules>=0.2.1 in /usr/local/lib/python3.8/site-packages (from google-auth<3,>=1.6.3->tensorboard>=2.4.1->super-gradients==3.1.2) (0.3.0)\n",
      "Requirement already satisfied: rsa<5,>=3.1.4 in /usr/local/lib/python3.8/site-packages (from google-auth<3,>=1.6.3->tensorboard>=2.4.1->super-gradients==3.1.2) (4.9)\n",
      "Requirement already satisfied: requests-oauthlib>=0.7.0 in /usr/local/lib/python3.8/site-packages (from google-auth-oauthlib<1.1,>=0.5->tensorboard>=2.4.1->super-gradients==3.1.2) (1.3.1)\n",
      "Requirement already satisfied: zipp>=3.1.0 in /usr/local/lib/python3.8/site-packages (from importlib-resources->hydra-core>=1.2.0->super-gradients==3.1.2) (3.15.0)\n",
      "Requirement already satisfied: MarkupSafe>=2.0 in /usr/local/lib/python3.8/site-packages (from Jinja2>=2.3->sphinx~=4.0.2->super-gradients==3.1.2) (2.1.3)\n",
      "Requirement already satisfied: importlib-metadata>=4.4 in /usr/local/lib/python3.8/site-packages (from markdown>=2.6.8->tensorboard>=2.4.1->super-gradients==3.1.2) (6.7.0)\n",
      "Requirement already satisfied: charset-normalizer<4,>=2 in /usr/local/lib/python3.8/site-packages (from requests>=2.5.0->sphinx~=4.0.2->super-gradients==3.1.2) (3.1.0)\n",
      "Requirement already satisfied: idna<4,>=2.5 in /usr/local/lib/python3.8/site-packages (from requests>=2.5.0->sphinx~=4.0.2->super-gradients==3.1.2) (3.4)\n",
      "Requirement already satisfied: certifi>=2017.4.17 in /usr/local/lib/python3.8/site-packages (from requests>=2.5.0->sphinx~=4.0.2->super-gradients==3.1.2) (2023.5.7)\n",
      "Requirement already satisfied: pyproject_hooks in /usr/local/lib/python3.8/site-packages (from build->pip-tools>=6.12.1->super-gradients==3.1.2) (1.0.0)\n",
      "Requirement already satisfied: humanfriendly>=9.1 in /usr/local/lib/python3.8/site-packages (from coloredlogs->onnxruntime==1.13.1->super-gradients==3.1.2) (10.0)\n",
      "Requirement already satisfied: markdown-it-py>=2.2.0 in /usr/local/lib/python3.8/site-packages (from rich->onnx-simplifier<1.0,>=0.3.6->super-gradients==3.1.2) (3.0.0)\n",
      "Requirement already satisfied: mpmath>=0.19 in /usr/local/lib/python3.8/site-packages (from sympy->onnxruntime==1.13.1->super-gradients==3.1.2) (1.3.0)\n",
      "Requirement already satisfied: mdurl~=0.1 in /usr/local/lib/python3.8/site-packages (from markdown-it-py>=2.2.0->rich->onnx-simplifier<1.0,>=0.3.6->super-gradients==3.1.2) (0.1.2)\n",
      "Requirement already satisfied: pyasn1<0.6.0,>=0.4.6 in /usr/local/lib/python3.8/site-packages (from pyasn1-modules>=0.2.1->google-auth<3,>=1.6.3->tensorboard>=2.4.1->super-gradients==3.1.2) (0.5.0)\n",
      "Requirement already satisfied: oauthlib>=3.0.0 in /usr/local/lib/python3.8/site-packages (from requests-oauthlib>=0.7.0->google-auth-oauthlib<1.1,>=0.5->tensorboard>=2.4.1->super-gradients==3.1.2) (3.2.2)\n",
      "\u001b[33mWARNING: Running pip as the 'root' user can result in broken permissions and conflicting behaviour with the system package manager. It is recommended to use a virtual environment instead: https://pip.pypa.io/warnings/venv\u001b[0m\u001b[33m\n",
      "\u001b[0m"
     ]
    },
    {
     "name": "stderr",
     "output_type": "stream",
     "text": [
      "/usr/local/lib/python3.8/site-packages/tqdm/auto.py:21: TqdmWarning: IProgress not found. Please update jupyter and ipywidgets. See https://ipywidgets.readthedocs.io/en/stable/user_install.html\n",
      "  from .autonotebook import tqdm as notebook_tqdm\n",
      "[2023-07-13 17:15:54] INFO - crash_tips_setup.py - Crash tips is enabled. You can set your environment variable to CRASH_HANDLER=FALSE to disable it\n"
     ]
    },
    {
     "name": "stdout",
     "output_type": "stream",
     "text": [
      "The console stream is logged into /root/sg_logs/console.log\n"
     ]
    },
    {
     "name": "stderr",
     "output_type": "stream",
     "text": [
      "[2023-07-13 17:15:57] WARNING - __init__.py - Failed to import pytorch_quantization\n",
      "[2023-07-13 17:15:57] WARNING - calibrator.py - Failed to import pytorch_quantization\n",
      "[2023-07-13 17:15:57] WARNING - export.py - Failed to import pytorch_quantization\n",
      "[2023-07-13 17:15:57] WARNING - selective_quantization_utils.py - Failed to import pytorch_quantization\n",
      "[2023-07-13 17:15:58] INFO - checkpoint_utils.py - License Notification: YOLO-NAS pre-trained weights are subjected to the specific license terms and conditions detailed in \n",
      "https://github.com/Deci-AI/super-gradients/blob/master/LICENSE.YOLONAS.md\n",
      "By downloading the pre-trained weight files you agree to comply with these terms.\n"
     ]
    }
   ],
   "source": [
    "## Note- Use python3.8 or above for generating onnx\n",
    "\n",
    "!pip install super-gradients==3.1.2\n",
    "\n",
    "\n",
    "## Downloading Model from git repo\n",
    "import torch\n",
    "# Load model with pretrained weights\n",
    "from super_gradients.training import models\n",
    "from super_gradients.common.object_names import Models\n",
    "\n",
    "model = models.get(Models.YOLO_NAS_S, pretrained_weights=\"coco\")\n",
    "\n",
    "# Prepare model for conversion\n",
    "# Input size is in format of [Batch x Channels x Width x Height] where 640 is the standard COCO dataset dimensions\n",
    "model.eval()\n",
    "model.prep_model_for_conversion(input_size=[1, 3, 320, 320])\n",
    "\n",
    "# Create dummy_input\n",
    "dummy_input = torch.randn([1, 3, 320, 320], device=\"cpu\")\n",
    "\n",
    "# Convert model to onnx\n",
    "torch.onnx.export(model, dummy_input, \"yolo_nas_s.onnx\", opset_version=11)"
   ]
  },
  {
   "attachments": {},
   "cell_type": "markdown",
   "id": "bb97b534",
   "metadata": {},
   "source": [
    "#### Enable python3.6 environment, to use SNPE SDK and then convert onnx to dlc"
   ]
  },
  {
   "cell_type": "code",
   "execution_count": 2,
   "id": "c466b9aa",
   "metadata": {},
   "outputs": [
    {
     "name": "stderr",
     "output_type": "stream",
     "text": [
      "2023-07-13 17:16:03,073 - 235 - INFO - Successfully simplified the onnx model in child process\n",
      "2023-07-13 17:16:03,547 - 235 - INFO - Successfully receive the simplified onnx model in main process\n",
      "2023-07-13 17:16:06,272 - 235 - INFO - INFO_INITIALIZATION_SUCCESS: \n"
     ]
    }
   ],
   "source": [
    "%%bash\n",
    "snpe-onnx-to-dlc -i yolo_nas_s.onnx -o app/src/main/assets/yolo_nas_s.dlc"
   ]
  },
  {
   "attachments": {},
   "cell_type": "markdown",
   "id": "b2675610",
   "metadata": {},
   "source": [
    "## Quantizing MobileNetSSD"
   ]
  },
  {
   "cell_type": "code",
   "execution_count": 27,
   "id": "b01ac9cf",
   "metadata": {},
   "outputs": [],
   "source": [
    "##STEPS to preprocess images\n",
    "\n",
    "def preprocess(original_image):\n",
    "    resized_image = cv2.resize(original_image, (320, 320))\n",
    "    resized_image = resized_image/255\n",
    "    return resized_image\n",
    "\n",
    "import cv2\n",
    "import numpy as np\n",
    "import os\n",
    "\n",
    "##Please download Coco2014 dataset and give the path here\n",
    "dataset_path = \"/workspace/val2014/\"\n",
    "\n",
    "!mkdir -p rawYoloNAS\n",
    "\n",
    "filenames=[]\n",
    "for path in os.listdir(dataset_path)[:5]:\n",
    "    # check if current path is a file\n",
    "    if os.path.isfile(os.path.join(dataset_path, path)):\n",
    "        filenames.append(os.path.join(dataset_path, path))\n",
    "\n",
    "for filename in filenames:\n",
    "    original_image = cv2.imread(filename)\n",
    "    img = preprocess(original_image)\n",
    "    img = img.astype(np.float32)\n",
    "    img.tofile(\"rawYoloNAS/\"+filename.split(\"/\")[-1].split(\".\")[0]+\".raw\")"
   ]
  },
  {
   "cell_type": "code",
   "execution_count": 19,
   "id": "7370c51c",
   "metadata": {},
   "outputs": [],
   "source": [
    "%%bash\n",
    "find rawYoloNAS -name *.raw > YoloInputlist.txt"
   ]
  },
  {
   "cell_type": "code",
   "execution_count": 20,
   "id": "40b37c70",
   "metadata": {},
   "outputs": [
    {
     "name": "stdout",
     "output_type": "stream",
     "text": [
      "rawYoloNAS/COCO_val2014_000000000400.raw\n",
      "rawYoloNAS/COCO_val2014_000000000042.raw\n",
      "rawYoloNAS/COCO_val2014_000000000073.raw\n",
      "rawYoloNAS/COCO_val2014_000000000074.raw\n",
      "rawYoloNAS/COCO_val2014_000000000133.raw\n"
     ]
    }
   ],
   "source": [
    "%%bash\n",
    "cat YoloInputlist.txt"
   ]
  },
  {
   "cell_type": "code",
   "execution_count": 21,
   "id": "39b97591",
   "metadata": {},
   "outputs": [
    {
     "name": "stderr",
     "output_type": "stream",
     "text": [
      "[INFO] InitializeStderr: DebugLog initialized.\n",
      "[INFO] Processed command-line arguments\n",
      "[INFO] Quantized parameters\n",
      "[INFO] Generated activations\n",
      "[INFO] Saved quantized dlc to: app/src/main/assets/Quant_yoloNas_s_320.dlc\n",
      "[INFO] DebugLog shutting down.\n"
     ]
    },
    {
     "name": "stdout",
     "output_type": "stream",
     "text": [
      "     0.1ms [  INFO ] Initializing logging in the backend. Callback: [0xc42410], Log Level: [3]\n",
      "     0.1ms [  INFO ] No BackendExtensions lib provided;initializing NetRunBackend Interface\n",
      "   875.4ms [  INFO ] cleaning up resources for input tensors\n",
      "   875.5ms [  INFO ] cleaning up resources for output tensors\n",
      "  1524.6ms [  INFO ] cleaning up resources for input tensors\n",
      "  1524.6ms [  INFO ] cleaning up resources for output tensors\n",
      "  2136.3ms [  INFO ] cleaning up resources for input tensors\n",
      "  2136.3ms [  INFO ] cleaning up resources for output tensors\n",
      "  2852.1ms [  INFO ] cleaning up resources for input tensors\n",
      "  2852.1ms [  INFO ] cleaning up resources for output tensors\n",
      "  3461.0ms [  INFO ] cleaning up resources for input tensors\n",
      "  3461.0ms [  INFO ] cleaning up resources for output tensors\n"
     ]
    }
   ],
   "source": [
    "%%bash\n",
    "snpe-dlc-quantize --input_dlc app/src/main/assets/yolo_nas_s.dlc --input_list YoloInputlist.txt --use_enhanced_quantizer --use_adjusted_weights_quantizer --axis_quant --output_dlc app/src/main/assets/Quant_yoloNas_s_320.dlc"
   ]
  },
  {
   "cell_type": "code",
   "execution_count": null,
   "id": "a13d7629",
   "metadata": {},
   "outputs": [],
   "source": []
  }
 ],
 "metadata": {
  "kernelspec": {
   "display_name": "Python 3 (ipykernel)",
   "language": "python",
   "name": "python3"
  },
  "language_info": {
   "codemirror_mode": {
    "name": "ipython",
    "version": 3
   },
   "file_extension": ".py",
   "mimetype": "text/x-python",
   "name": "python",
   "nbconvert_exporter": "python",
   "pygments_lexer": "ipython3",
   "version": "3.8.17"
  }
 },
 "nbformat": 4,
 "nbformat_minor": 5
}
